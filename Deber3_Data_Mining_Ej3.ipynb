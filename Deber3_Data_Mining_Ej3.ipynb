{
  "nbformat": 4,
  "nbformat_minor": 0,
  "metadata": {
    "colab": {
      "provenance": []
    },
    "kernelspec": {
      "name": "python3",
      "display_name": "Python 3"
    },
    "language_info": {
      "name": "python"
    }
  },
  "cells": [
    {
      "cell_type": "markdown",
      "source": [
        "# **PRACTICA 2**"
      ],
      "metadata": {
        "id": "NeWf0c9ekPhi"
      }
    },
    {
      "cell_type": "markdown",
      "source": [
        "**Limpiar un conjunto de datos reales, identificando valores faltantes, outliers, normalizando, estandarizando y codificando datos mediante herramientas como Python y Rapidminer.**"
      ],
      "metadata": {
        "id": "YvKMSKSJkI_v"
      }
    },
    {
      "cell_type": "code",
      "execution_count": 58,
      "metadata": {
        "id": "WZgn2YHIQv0t"
      },
      "outputs": [],
      "source": [
        "import pandas as pd\n",
        "import numpy as np\n",
        "import sklearn\n",
        "import pandas as pd\n",
        "import matplotlib.pyplot as plt\n",
        "from sklearn import metrics\n",
        "from sklearn.metrics import mean_squared_error,r2_score\n",
        "from sklearn.ensemble import IsolationForest\n",
        "from sklearn.neighbors import LocalOutlierFactor\n",
        "from sklearn.preprocessing import MinMaxScaler, StandardScaler\n",
        "from sklearn.preprocessing import OrdinalEncoder\n",
        "from scipy import stats\n",
        "import warnings\n",
        "import seaborn as sns\n",
        "warnings.filterwarnings('ignore')"
      ]
    },
    {
      "cell_type": "markdown",
      "source": [
        "**Cargar archivo y Mostrar las primeras filas**"
      ],
      "metadata": {
        "id": "0d3YM5nOUKvj"
      }
    },
    {
      "cell_type": "code",
      "source": [
        "import os\n",
        "\n",
        "# Listar archivos del directorio actual para verificar\n",
        "print(os.listdir('.'))\n"
      ],
      "metadata": {
        "colab": {
          "base_uri": "https://localhost:8080/"
        },
        "id": "v1X3YlFzeArJ",
        "outputId": "ca78c645-de24-44b4-9903-acf1c6d33d75"
      },
      "execution_count": 2,
      "outputs": [
        {
          "output_type": "stream",
          "name": "stdout",
          "text": [
            "['.config', 'sample_data']\n"
          ]
        }
      ]
    },
    {
      "cell_type": "code",
      "source": [
        "df = pd.read_csv('/content/preparacion_datos_3.csv')\n",
        "df.head()"
      ],
      "metadata": {
        "colab": {
          "base_uri": "https://localhost:8080/",
          "height": 255
        },
        "id": "Hz0qmmEJdk1p",
        "outputId": "2723b685-bbed-4b22-9a7f-b1f61194908d"
      },
      "execution_count": 4,
      "outputs": [
        {
          "output_type": "execute_result",
          "data": {
            "text/plain": [
              "   LotArea Street Alley LotShape LotConfig LandSlope BldgType HouseStyle  \\\n",
              "0   8450.0   Pave   NaN      Reg    Inside       Gtl     1Fam     2Story   \n",
              "1      NaN   Pave   NaN      Reg       FR2       Gtl     1Fam     1Story   \n",
              "2  11250.0   Pave   NaN      IR1    Inside       Gtl     1Fam     2Story   \n",
              "3   9550.0   Pave   NaN      IR1    Corner       Gtl     1Fam     2Story   \n",
              "4  14260.0   Pave   NaN      IR1       FR2       Gtl     1Fam     2Story   \n",
              "\n",
              "   OverallQual  OverallCond  ...  TotRmsAbvGrd Fireplaces FireplaceQu  \\\n",
              "0            7            5  ...           8.0          0         NaN   \n",
              "1            6            8  ...           6.0          1          TA   \n",
              "2            7            5  ...           6.0          1          TA   \n",
              "3            7            5  ...           7.0          1          Gd   \n",
              "4            8            5  ...           NaN          1          TA   \n",
              "\n",
              "  GarageType GarageCars  GarageArea PoolArea PoolQC Fence  SalePrice  \n",
              "0     Attchd          2         548        0    NaN   NaN   208500.0  \n",
              "1     Attchd          2         460        0    NaN   NaN   181500.0  \n",
              "2        NaN          2         608        0    NaN   NaN   223500.0  \n",
              "3     Detchd          3         642        0    NaN   NaN   140000.0  \n",
              "4     Attchd          3         836        0    NaN   NaN   250000.0  \n",
              "\n",
              "[5 rows x 35 columns]"
            ],
            "text/html": [
              "\n",
              "  <div id=\"df-293355b1-220f-4827-b937-f95d5292c1eb\" class=\"colab-df-container\">\n",
              "    <div>\n",
              "<style scoped>\n",
              "    .dataframe tbody tr th:only-of-type {\n",
              "        vertical-align: middle;\n",
              "    }\n",
              "\n",
              "    .dataframe tbody tr th {\n",
              "        vertical-align: top;\n",
              "    }\n",
              "\n",
              "    .dataframe thead th {\n",
              "        text-align: right;\n",
              "    }\n",
              "</style>\n",
              "<table border=\"1\" class=\"dataframe\">\n",
              "  <thead>\n",
              "    <tr style=\"text-align: right;\">\n",
              "      <th></th>\n",
              "      <th>LotArea</th>\n",
              "      <th>Street</th>\n",
              "      <th>Alley</th>\n",
              "      <th>LotShape</th>\n",
              "      <th>LotConfig</th>\n",
              "      <th>LandSlope</th>\n",
              "      <th>BldgType</th>\n",
              "      <th>HouseStyle</th>\n",
              "      <th>OverallQual</th>\n",
              "      <th>OverallCond</th>\n",
              "      <th>...</th>\n",
              "      <th>TotRmsAbvGrd</th>\n",
              "      <th>Fireplaces</th>\n",
              "      <th>FireplaceQu</th>\n",
              "      <th>GarageType</th>\n",
              "      <th>GarageCars</th>\n",
              "      <th>GarageArea</th>\n",
              "      <th>PoolArea</th>\n",
              "      <th>PoolQC</th>\n",
              "      <th>Fence</th>\n",
              "      <th>SalePrice</th>\n",
              "    </tr>\n",
              "  </thead>\n",
              "  <tbody>\n",
              "    <tr>\n",
              "      <th>0</th>\n",
              "      <td>8450.0</td>\n",
              "      <td>Pave</td>\n",
              "      <td>NaN</td>\n",
              "      <td>Reg</td>\n",
              "      <td>Inside</td>\n",
              "      <td>Gtl</td>\n",
              "      <td>1Fam</td>\n",
              "      <td>2Story</td>\n",
              "      <td>7</td>\n",
              "      <td>5</td>\n",
              "      <td>...</td>\n",
              "      <td>8.0</td>\n",
              "      <td>0</td>\n",
              "      <td>NaN</td>\n",
              "      <td>Attchd</td>\n",
              "      <td>2</td>\n",
              "      <td>548</td>\n",
              "      <td>0</td>\n",
              "      <td>NaN</td>\n",
              "      <td>NaN</td>\n",
              "      <td>208500.0</td>\n",
              "    </tr>\n",
              "    <tr>\n",
              "      <th>1</th>\n",
              "      <td>NaN</td>\n",
              "      <td>Pave</td>\n",
              "      <td>NaN</td>\n",
              "      <td>Reg</td>\n",
              "      <td>FR2</td>\n",
              "      <td>Gtl</td>\n",
              "      <td>1Fam</td>\n",
              "      <td>1Story</td>\n",
              "      <td>6</td>\n",
              "      <td>8</td>\n",
              "      <td>...</td>\n",
              "      <td>6.0</td>\n",
              "      <td>1</td>\n",
              "      <td>TA</td>\n",
              "      <td>Attchd</td>\n",
              "      <td>2</td>\n",
              "      <td>460</td>\n",
              "      <td>0</td>\n",
              "      <td>NaN</td>\n",
              "      <td>NaN</td>\n",
              "      <td>181500.0</td>\n",
              "    </tr>\n",
              "    <tr>\n",
              "      <th>2</th>\n",
              "      <td>11250.0</td>\n",
              "      <td>Pave</td>\n",
              "      <td>NaN</td>\n",
              "      <td>IR1</td>\n",
              "      <td>Inside</td>\n",
              "      <td>Gtl</td>\n",
              "      <td>1Fam</td>\n",
              "      <td>2Story</td>\n",
              "      <td>7</td>\n",
              "      <td>5</td>\n",
              "      <td>...</td>\n",
              "      <td>6.0</td>\n",
              "      <td>1</td>\n",
              "      <td>TA</td>\n",
              "      <td>NaN</td>\n",
              "      <td>2</td>\n",
              "      <td>608</td>\n",
              "      <td>0</td>\n",
              "      <td>NaN</td>\n",
              "      <td>NaN</td>\n",
              "      <td>223500.0</td>\n",
              "    </tr>\n",
              "    <tr>\n",
              "      <th>3</th>\n",
              "      <td>9550.0</td>\n",
              "      <td>Pave</td>\n",
              "      <td>NaN</td>\n",
              "      <td>IR1</td>\n",
              "      <td>Corner</td>\n",
              "      <td>Gtl</td>\n",
              "      <td>1Fam</td>\n",
              "      <td>2Story</td>\n",
              "      <td>7</td>\n",
              "      <td>5</td>\n",
              "      <td>...</td>\n",
              "      <td>7.0</td>\n",
              "      <td>1</td>\n",
              "      <td>Gd</td>\n",
              "      <td>Detchd</td>\n",
              "      <td>3</td>\n",
              "      <td>642</td>\n",
              "      <td>0</td>\n",
              "      <td>NaN</td>\n",
              "      <td>NaN</td>\n",
              "      <td>140000.0</td>\n",
              "    </tr>\n",
              "    <tr>\n",
              "      <th>4</th>\n",
              "      <td>14260.0</td>\n",
              "      <td>Pave</td>\n",
              "      <td>NaN</td>\n",
              "      <td>IR1</td>\n",
              "      <td>FR2</td>\n",
              "      <td>Gtl</td>\n",
              "      <td>1Fam</td>\n",
              "      <td>2Story</td>\n",
              "      <td>8</td>\n",
              "      <td>5</td>\n",
              "      <td>...</td>\n",
              "      <td>NaN</td>\n",
              "      <td>1</td>\n",
              "      <td>TA</td>\n",
              "      <td>Attchd</td>\n",
              "      <td>3</td>\n",
              "      <td>836</td>\n",
              "      <td>0</td>\n",
              "      <td>NaN</td>\n",
              "      <td>NaN</td>\n",
              "      <td>250000.0</td>\n",
              "    </tr>\n",
              "  </tbody>\n",
              "</table>\n",
              "<p>5 rows × 35 columns</p>\n",
              "</div>\n",
              "    <div class=\"colab-df-buttons\">\n",
              "\n",
              "  <div class=\"colab-df-container\">\n",
              "    <button class=\"colab-df-convert\" onclick=\"convertToInteractive('df-293355b1-220f-4827-b937-f95d5292c1eb')\"\n",
              "            title=\"Convert this dataframe to an interactive table.\"\n",
              "            style=\"display:none;\">\n",
              "\n",
              "  <svg xmlns=\"http://www.w3.org/2000/svg\" height=\"24px\" viewBox=\"0 -960 960 960\">\n",
              "    <path d=\"M120-120v-720h720v720H120Zm60-500h600v-160H180v160Zm220 220h160v-160H400v160Zm0 220h160v-160H400v160ZM180-400h160v-160H180v160Zm440 0h160v-160H620v160ZM180-180h160v-160H180v160Zm440 0h160v-160H620v160Z\"/>\n",
              "  </svg>\n",
              "    </button>\n",
              "\n",
              "  <style>\n",
              "    .colab-df-container {\n",
              "      display:flex;\n",
              "      gap: 12px;\n",
              "    }\n",
              "\n",
              "    .colab-df-convert {\n",
              "      background-color: #E8F0FE;\n",
              "      border: none;\n",
              "      border-radius: 50%;\n",
              "      cursor: pointer;\n",
              "      display: none;\n",
              "      fill: #1967D2;\n",
              "      height: 32px;\n",
              "      padding: 0 0 0 0;\n",
              "      width: 32px;\n",
              "    }\n",
              "\n",
              "    .colab-df-convert:hover {\n",
              "      background-color: #E2EBFA;\n",
              "      box-shadow: 0px 1px 2px rgba(60, 64, 67, 0.3), 0px 1px 3px 1px rgba(60, 64, 67, 0.15);\n",
              "      fill: #174EA6;\n",
              "    }\n",
              "\n",
              "    .colab-df-buttons div {\n",
              "      margin-bottom: 4px;\n",
              "    }\n",
              "\n",
              "    [theme=dark] .colab-df-convert {\n",
              "      background-color: #3B4455;\n",
              "      fill: #D2E3FC;\n",
              "    }\n",
              "\n",
              "    [theme=dark] .colab-df-convert:hover {\n",
              "      background-color: #434B5C;\n",
              "      box-shadow: 0px 1px 3px 1px rgba(0, 0, 0, 0.15);\n",
              "      filter: drop-shadow(0px 1px 2px rgba(0, 0, 0, 0.3));\n",
              "      fill: #FFFFFF;\n",
              "    }\n",
              "  </style>\n",
              "\n",
              "    <script>\n",
              "      const buttonEl =\n",
              "        document.querySelector('#df-293355b1-220f-4827-b937-f95d5292c1eb button.colab-df-convert');\n",
              "      buttonEl.style.display =\n",
              "        google.colab.kernel.accessAllowed ? 'block' : 'none';\n",
              "\n",
              "      async function convertToInteractive(key) {\n",
              "        const element = document.querySelector('#df-293355b1-220f-4827-b937-f95d5292c1eb');\n",
              "        const dataTable =\n",
              "          await google.colab.kernel.invokeFunction('convertToInteractive',\n",
              "                                                    [key], {});\n",
              "        if (!dataTable) return;\n",
              "\n",
              "        const docLinkHtml = 'Like what you see? Visit the ' +\n",
              "          '<a target=\"_blank\" href=https://colab.research.google.com/notebooks/data_table.ipynb>data table notebook</a>'\n",
              "          + ' to learn more about interactive tables.';\n",
              "        element.innerHTML = '';\n",
              "        dataTable['output_type'] = 'display_data';\n",
              "        await google.colab.output.renderOutput(dataTable, element);\n",
              "        const docLink = document.createElement('div');\n",
              "        docLink.innerHTML = docLinkHtml;\n",
              "        element.appendChild(docLink);\n",
              "      }\n",
              "    </script>\n",
              "  </div>\n",
              "\n",
              "\n",
              "    <div id=\"df-e4d57bfc-b819-46c2-abaf-2cb0fbc4cf47\">\n",
              "      <button class=\"colab-df-quickchart\" onclick=\"quickchart('df-e4d57bfc-b819-46c2-abaf-2cb0fbc4cf47')\"\n",
              "                title=\"Suggest charts\"\n",
              "                style=\"display:none;\">\n",
              "\n",
              "<svg xmlns=\"http://www.w3.org/2000/svg\" height=\"24px\"viewBox=\"0 0 24 24\"\n",
              "     width=\"24px\">\n",
              "    <g>\n",
              "        <path d=\"M19 3H5c-1.1 0-2 .9-2 2v14c0 1.1.9 2 2 2h14c1.1 0 2-.9 2-2V5c0-1.1-.9-2-2-2zM9 17H7v-7h2v7zm4 0h-2V7h2v10zm4 0h-2v-4h2v4z\"/>\n",
              "    </g>\n",
              "</svg>\n",
              "      </button>\n",
              "\n",
              "<style>\n",
              "  .colab-df-quickchart {\n",
              "      --bg-color: #E8F0FE;\n",
              "      --fill-color: #1967D2;\n",
              "      --hover-bg-color: #E2EBFA;\n",
              "      --hover-fill-color: #174EA6;\n",
              "      --disabled-fill-color: #AAA;\n",
              "      --disabled-bg-color: #DDD;\n",
              "  }\n",
              "\n",
              "  [theme=dark] .colab-df-quickchart {\n",
              "      --bg-color: #3B4455;\n",
              "      --fill-color: #D2E3FC;\n",
              "      --hover-bg-color: #434B5C;\n",
              "      --hover-fill-color: #FFFFFF;\n",
              "      --disabled-bg-color: #3B4455;\n",
              "      --disabled-fill-color: #666;\n",
              "  }\n",
              "\n",
              "  .colab-df-quickchart {\n",
              "    background-color: var(--bg-color);\n",
              "    border: none;\n",
              "    border-radius: 50%;\n",
              "    cursor: pointer;\n",
              "    display: none;\n",
              "    fill: var(--fill-color);\n",
              "    height: 32px;\n",
              "    padding: 0;\n",
              "    width: 32px;\n",
              "  }\n",
              "\n",
              "  .colab-df-quickchart:hover {\n",
              "    background-color: var(--hover-bg-color);\n",
              "    box-shadow: 0 1px 2px rgba(60, 64, 67, 0.3), 0 1px 3px 1px rgba(60, 64, 67, 0.15);\n",
              "    fill: var(--button-hover-fill-color);\n",
              "  }\n",
              "\n",
              "  .colab-df-quickchart-complete:disabled,\n",
              "  .colab-df-quickchart-complete:disabled:hover {\n",
              "    background-color: var(--disabled-bg-color);\n",
              "    fill: var(--disabled-fill-color);\n",
              "    box-shadow: none;\n",
              "  }\n",
              "\n",
              "  .colab-df-spinner {\n",
              "    border: 2px solid var(--fill-color);\n",
              "    border-color: transparent;\n",
              "    border-bottom-color: var(--fill-color);\n",
              "    animation:\n",
              "      spin 1s steps(1) infinite;\n",
              "  }\n",
              "\n",
              "  @keyframes spin {\n",
              "    0% {\n",
              "      border-color: transparent;\n",
              "      border-bottom-color: var(--fill-color);\n",
              "      border-left-color: var(--fill-color);\n",
              "    }\n",
              "    20% {\n",
              "      border-color: transparent;\n",
              "      border-left-color: var(--fill-color);\n",
              "      border-top-color: var(--fill-color);\n",
              "    }\n",
              "    30% {\n",
              "      border-color: transparent;\n",
              "      border-left-color: var(--fill-color);\n",
              "      border-top-color: var(--fill-color);\n",
              "      border-right-color: var(--fill-color);\n",
              "    }\n",
              "    40% {\n",
              "      border-color: transparent;\n",
              "      border-right-color: var(--fill-color);\n",
              "      border-top-color: var(--fill-color);\n",
              "    }\n",
              "    60% {\n",
              "      border-color: transparent;\n",
              "      border-right-color: var(--fill-color);\n",
              "    }\n",
              "    80% {\n",
              "      border-color: transparent;\n",
              "      border-right-color: var(--fill-color);\n",
              "      border-bottom-color: var(--fill-color);\n",
              "    }\n",
              "    90% {\n",
              "      border-color: transparent;\n",
              "      border-bottom-color: var(--fill-color);\n",
              "    }\n",
              "  }\n",
              "</style>\n",
              "\n",
              "      <script>\n",
              "        async function quickchart(key) {\n",
              "          const quickchartButtonEl =\n",
              "            document.querySelector('#' + key + ' button');\n",
              "          quickchartButtonEl.disabled = true;  // To prevent multiple clicks.\n",
              "          quickchartButtonEl.classList.add('colab-df-spinner');\n",
              "          try {\n",
              "            const charts = await google.colab.kernel.invokeFunction(\n",
              "                'suggestCharts', [key], {});\n",
              "          } catch (error) {\n",
              "            console.error('Error during call to suggestCharts:', error);\n",
              "          }\n",
              "          quickchartButtonEl.classList.remove('colab-df-spinner');\n",
              "          quickchartButtonEl.classList.add('colab-df-quickchart-complete');\n",
              "        }\n",
              "        (() => {\n",
              "          let quickchartButtonEl =\n",
              "            document.querySelector('#df-e4d57bfc-b819-46c2-abaf-2cb0fbc4cf47 button');\n",
              "          quickchartButtonEl.style.display =\n",
              "            google.colab.kernel.accessAllowed ? 'block' : 'none';\n",
              "        })();\n",
              "      </script>\n",
              "    </div>\n",
              "\n",
              "    </div>\n",
              "  </div>\n"
            ],
            "application/vnd.google.colaboratory.intrinsic+json": {
              "type": "dataframe",
              "variable_name": "df"
            }
          },
          "metadata": {},
          "execution_count": 4
        }
      ]
    },
    {
      "cell_type": "markdown",
      "source": [
        "## **Describa el dataset**"
      ],
      "metadata": {
        "id": "nasqIm9IkwRG"
      }
    },
    {
      "cell_type": "markdown",
      "source": [
        "**Información general del DataFrame**"
      ],
      "metadata": {
        "id": "-NjJze8aT5OT"
      }
    },
    {
      "cell_type": "markdown",
      "source": [
        "El conjunto de datos contiene información detallada sobre características físicas, estructurales y de entorno de diversas propiedades inmobiliarias. Es típicamente usado para análisis predictivo del precio de venta de viviendas.\n",
        "\n",
        "- ***Total de columnas:*** 35\n",
        "- ***Total de registros:*** 1460 observaciones aprox.\n",
        "- ***Tipo de variables:***\n",
        "  - *Numéricas continuas:* Ej. LotArea, SalePrice, GarageArea\n",
        "  - *Numéricas discretas:* Ej. GarageCars, Fireplaces\n",
        "  - *Categóricas (object):* Ej. Street, BldgType, KitchenQual"
      ],
      "metadata": {
        "id": "zq_PodWFk2Ld"
      }
    },
    {
      "cell_type": "markdown",
      "source": [
        "![image.png](data:image/png;base64,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)"
      ],
      "metadata": {
        "id": "IIXyqOE1mPq_"
      }
    },
    {
      "cell_type": "markdown",
      "source": [
        "## **Describa los pasos realizados**"
      ],
      "metadata": {
        "id": "-wc4RK9hxV0a"
      }
    },
    {
      "cell_type": "markdown",
      "source": [
        "**1. Se cargaron las bibliotecas requeridas para el análisis de datos:**\n",
        "\n",
        "- pandas y numpy para manipulación y análisis de datos.\n",
        "\n",
        "- matplotlib.pyplot y seaborn para visualización gráfica.\n",
        "\n",
        "- sklearn.metrics para futuras evaluaciones de modelos predictivos.\n",
        "\n",
        "- warnings para suprimir mensajes de advertencia y mantener el entorno limpio.\n",
        "\n",
        "**2. Se leyó el archivo preparacion_datos_3.csv utilizando la función read_csv() de pandas.**\n",
        "Este archivo contiene datos sobre propiedades inmobiliarias y sus características físicas, estructurales y de entorno.\n",
        "\n",
        "**3. Se utilizaron las primeras filas del DataFrame (df.head()) para observar:**\n",
        "\n",
        "- El contenido de los datos,\n",
        "\n",
        "- La estructura del dataset,\n",
        "\n",
        "- Los valores faltantes visibles (NaN) en algunas columnas como Alley, FireplaceQu, PoolQC y Fence.\n",
        "\n",
        "**4. Se elaboró una breve descripción del conjunto de datos, destacando:**\n",
        "\n",
        "- Que contiene 35 columnas y 1460 registros.\n",
        "\n",
        "- *El objetivo potencial de uso:* predicción del precio de venta de viviendas.\n",
        "\n",
        "- El tipo de variables:\n",
        "\n",
        "  - Numéricas continuas (ej. LotArea, SalePrice, GarageArea)\n",
        "\n",
        "  - Numéricas discretas (ej. GarageCars, Fireplaces)\n",
        "\n",
        "  - Categóricas (ej. Street, BldgType, KitchenQual)"
      ],
      "metadata": {
        "id": "j6egyo2txXCa"
      }
    },
    {
      "cell_type": "markdown",
      "source": [
        "## **Inicie con la exploración de la data.**"
      ],
      "metadata": {
        "id": "MuSowItHzGai"
      }
    },
    {
      "cell_type": "code",
      "source": [
        "print(\"Información general del DataFrame:\")\n",
        "df.info()\n",
        "print(\"\\n\")"
      ],
      "metadata": {
        "colab": {
          "base_uri": "https://localhost:8080/"
        },
        "id": "pSXazk0hTxrL",
        "outputId": "2556e431-1e6b-4936-91ea-96210e98177c"
      },
      "execution_count": 9,
      "outputs": [
        {
          "output_type": "stream",
          "name": "stdout",
          "text": [
            "Información general del DataFrame:\n",
            "<class 'pandas.core.frame.DataFrame'>\n",
            "RangeIndex: 1460 entries, 0 to 1459\n",
            "Data columns (total 35 columns):\n",
            " #   Column         Non-Null Count  Dtype  \n",
            "---  ------         --------------  -----  \n",
            " 0   LotArea        1333 non-null   float64\n",
            " 1   Street         1460 non-null   object \n",
            " 2   Alley          91 non-null     object \n",
            " 3   LotShape       1460 non-null   object \n",
            " 4   LotConfig      1460 non-null   object \n",
            " 5   LandSlope      1460 non-null   object \n",
            " 6   BldgType       1460 non-null   object \n",
            " 7   HouseStyle     1460 non-null   object \n",
            " 8   OverallQual    1460 non-null   int64  \n",
            " 9   OverallCond    1460 non-null   int64  \n",
            " 10  YearBuilt      1460 non-null   int64  \n",
            " 11  ExterQual      1460 non-null   object \n",
            " 12  ExterCond      1460 non-null   object \n",
            " 13  Foundation     1460 non-null   object \n",
            " 14  BsmtQual       1422 non-null   object \n",
            " 15  TotalBsmtSF    1460 non-null   float64\n",
            " 16  Heating        1460 non-null   object \n",
            " 17  HeatingQC      1460 non-null   object \n",
            " 18  CentralAir     1460 non-null   object \n",
            " 19  1stFlrSF       1460 non-null   float64\n",
            " 20  2ndFlrSF       1460 non-null   float64\n",
            " 21  Bathrooms      1460 non-null   int64  \n",
            " 22  BedroomNumber  1460 non-null   int64  \n",
            " 23  KitchenAbvGr   1460 non-null   int64  \n",
            " 24  KitchenQual    1460 non-null   object \n",
            " 25  TotRmsAbvGrd   1415 non-null   float64\n",
            " 26  Fireplaces     1460 non-null   int64  \n",
            " 27  FireplaceQu    770 non-null    object \n",
            " 28  GarageType     1378 non-null   object \n",
            " 29  GarageCars     1460 non-null   int64  \n",
            " 30  GarageArea     1460 non-null   int64  \n",
            " 31  PoolArea       1460 non-null   int64  \n",
            " 32  PoolQC         7 non-null      object \n",
            " 33  Fence          281 non-null    object \n",
            " 34  SalePrice      1460 non-null   float64\n",
            "dtypes: float64(6), int64(10), object(19)\n",
            "memory usage: 399.3+ KB\n",
            "\n",
            "\n"
          ]
        }
      ]
    },
    {
      "cell_type": "code",
      "source": [
        "# Conteo de valores nulos por columna\n",
        "print(\"Conteo de valores nulos por columna:\")\n",
        "print(df.isnull().sum(), \"\\n\")"
      ],
      "metadata": {
        "colab": {
          "base_uri": "https://localhost:8080/"
        },
        "id": "wg7QjuEaVBTD",
        "outputId": "54753d7b-3a08-4476-f706-09dbb9c4ff42"
      },
      "execution_count": 10,
      "outputs": [
        {
          "output_type": "stream",
          "name": "stdout",
          "text": [
            "Conteo de valores nulos por columna:\n",
            "LotArea           127\n",
            "Street              0\n",
            "Alley            1369\n",
            "LotShape            0\n",
            "LotConfig           0\n",
            "LandSlope           0\n",
            "BldgType            0\n",
            "HouseStyle          0\n",
            "OverallQual         0\n",
            "OverallCond         0\n",
            "YearBuilt           0\n",
            "ExterQual           0\n",
            "ExterCond           0\n",
            "Foundation          0\n",
            "BsmtQual           38\n",
            "TotalBsmtSF         0\n",
            "Heating             0\n",
            "HeatingQC           0\n",
            "CentralAir          0\n",
            "1stFlrSF            0\n",
            "2ndFlrSF            0\n",
            "Bathrooms           0\n",
            "BedroomNumber       0\n",
            "KitchenAbvGr        0\n",
            "KitchenQual         0\n",
            "TotRmsAbvGrd       45\n",
            "Fireplaces          0\n",
            "FireplaceQu       690\n",
            "GarageType         82\n",
            "GarageCars          0\n",
            "GarageArea          0\n",
            "PoolArea            0\n",
            "PoolQC           1453\n",
            "Fence            1179\n",
            "SalePrice           0\n",
            "dtype: int64 \n",
            "\n"
          ]
        }
      ]
    },
    {
      "cell_type": "code",
      "source": [
        "# Estadísticas descriptivas para columnas numéricas\n",
        "print(\"Estadísticas descriptivas (columnas numéricas):\")\n",
        "print(df.describe(), \"\\n\")"
      ],
      "metadata": {
        "colab": {
          "base_uri": "https://localhost:8080/"
        },
        "id": "kDn8b1ssVDJ0",
        "outputId": "1e0626f2-c7b0-456f-a064-acedeaf2ec43"
      },
      "execution_count": 11,
      "outputs": [
        {
          "output_type": "stream",
          "name": "stdout",
          "text": [
            "Estadísticas descriptivas (columnas numéricas):\n",
            "             LotArea  OverallQual  OverallCond    YearBuilt  TotalBsmtSF  \\\n",
            "count    1333.000000  1460.000000  1460.000000  1460.000000  1460.000000   \n",
            "mean    10585.861965     6.099315     5.575342  1971.267808  1057.429452   \n",
            "std     10370.320653     1.382997     1.112799    30.202904   438.705324   \n",
            "min      1300.000000     1.000000     1.000000  1872.000000     0.000000   \n",
            "25%      7558.000000     5.000000     5.000000  1954.000000   795.750000   \n",
            "50%      9453.000000     6.000000     5.000000  1973.000000   991.500000   \n",
            "75%     11625.000000     7.000000     6.000000  2000.000000  1298.250000   \n",
            "max    215245.000000    10.000000     9.000000  2010.000000  6110.000000   \n",
            "\n",
            "          1stFlrSF     2ndFlrSF    Bathrooms  BedroomNumber  KitchenAbvGr  \\\n",
            "count  1460.000000  1460.000000  1460.000000    1460.000000   1460.000000   \n",
            "mean   1162.626712   346.992466     1.565068       2.866438      1.046575   \n",
            "std     386.587738   436.528436     0.550916       0.815778      0.220338   \n",
            "min     334.000000     0.000000     0.000000       0.000000      0.000000   \n",
            "25%     882.000000     0.000000     1.000000       2.000000      1.000000   \n",
            "50%    1087.000000     0.000000     2.000000       3.000000      1.000000   \n",
            "75%    1391.250000   728.000000     2.000000       3.000000      1.000000   \n",
            "max    4692.000000  2065.000000     3.000000       8.000000      3.000000   \n",
            "\n",
            "       TotRmsAbvGrd   Fireplaces   GarageCars   GarageArea     PoolArea  \\\n",
            "count   1415.000000  1460.000000  1460.000000  1460.000000  1460.000000   \n",
            "mean       6.510247     0.613014     1.767123   472.980137     2.758904   \n",
            "std        1.622334     0.644666     0.747315   213.804841    40.177307   \n",
            "min        2.000000     0.000000     0.000000     0.000000     0.000000   \n",
            "25%        5.000000     0.000000     1.000000   334.500000     0.000000   \n",
            "50%        6.000000     1.000000     2.000000   480.000000     0.000000   \n",
            "75%        7.000000     1.000000     2.000000   576.000000     0.000000   \n",
            "max       14.000000     3.000000     4.000000  1418.000000   738.000000   \n",
            "\n",
            "           SalePrice  \n",
            "count    1460.000000  \n",
            "mean   180921.195890  \n",
            "std     79442.502883  \n",
            "min     34900.000000  \n",
            "25%    129975.000000  \n",
            "50%    163000.000000  \n",
            "75%    214000.000000  \n",
            "max    755000.000000   \n",
            "\n"
          ]
        }
      ]
    },
    {
      "cell_type": "code",
      "source": [
        "# Estadísticas para columnas categóricas (tipo 'object')\n",
        "print(\"Estadísticas descriptivas (columnas categóricas):\")\n",
        "print(df.describe(include=['object']))"
      ],
      "metadata": {
        "colab": {
          "base_uri": "https://localhost:8080/"
        },
        "id": "DTlzPFY4VG2D",
        "outputId": "8f83ea6c-9953-48da-fc74-8ef0aa77b912"
      },
      "execution_count": 12,
      "outputs": [
        {
          "output_type": "stream",
          "name": "stdout",
          "text": [
            "Estadísticas descriptivas (columnas categóricas):\n",
            "       Street Alley LotShape LotConfig LandSlope BldgType HouseStyle  \\\n",
            "count    1460    91     1460      1460      1460     1460       1460   \n",
            "unique      2     2        4         5         3        5          8   \n",
            "top      Pave  Grvl      Reg    Inside       Gtl     1Fam     1Story   \n",
            "freq     1454    50      925      1052      1382     1220        726   \n",
            "\n",
            "       ExterQual ExterCond Foundation BsmtQual Heating HeatingQC CentralAir  \\\n",
            "count       1460      1460       1460     1422    1460      1460       1460   \n",
            "unique         4         5          6        4       6         5          2   \n",
            "top           TA        TA      PConc       TA    GasA        Ex          Y   \n",
            "freq         906      1282        647      649    1428       741       1365   \n",
            "\n",
            "       KitchenQual FireplaceQu GarageType PoolQC  Fence  \n",
            "count         1460         770       1378      7    281  \n",
            "unique           4           5          6      3      4  \n",
            "top             TA          Gd     Attchd     Gd  MnPrv  \n",
            "freq           735         380        869      3    157  \n"
          ]
        }
      ]
    },
    {
      "cell_type": "markdown",
      "source": [
        "# **Justifique el orden de la limpieza de datos (detección de outliers, datos faltantes, datos erróneos, normalización/estandarización, codificación).**"
      ],
      "metadata": {
        "id": "mEkIH8oLEUaQ"
      }
    },
    {
      "cell_type": "markdown",
      "source": [
        "**1. Detección y análisis de datos faltantes**\n",
        "\n",
        "  Es fundamental identificar las columnas con datos faltantes (NaN) al inicio, Esta etapa es crítica porque impacta directamente en la calidad del análisis, en la toma de decisiones estadísticas y en el funcionamiento de cualquier modelo predictivo posterior. ya que:\n",
        "  \n",
        "  - Permite evaluar la integridad del dataset, reconociendo qué columnas están completas y cuáles requieren tratamiento.\n",
        "  \n",
        "  - Determina si las columnas deben imputarse, eliminarse o dejarse como están.\n",
        "\n",
        "  - Algunas variables como PoolQC, Alley, Fence, tienen una gran cantidad de ausencias que podrían significar “no aplica” más que \"desconocido\".\n",
        "\n",
        "  - Las decisiones de imputación afectan el resto de los procesos, especialmente la codificación y estandarización.\n",
        "\n",
        "\n",
        "*Ejemplo en el dataset:* Alley tiene más del 90% de datos faltantes, por lo que puede eliminarse o transformarse en una categoría (“Sin acceso”)."
      ],
      "metadata": {
        "id": "bXdsuHnkEokY"
      }
    },
    {
      "cell_type": "code",
      "source": [
        "df['Alley'].fillna('Sin acceso', inplace=True)"
      ],
      "metadata": {
        "id": "oNRZ6-2LGQ7i"
      },
      "execution_count": 13,
      "outputs": []
    },
    {
      "cell_type": "code",
      "source": [
        "df['PoolQC'].fillna('Sin piscina', inplace=True)"
      ],
      "metadata": {
        "id": "VQ3JrRcnNOGd"
      },
      "execution_count": 14,
      "outputs": []
    },
    {
      "cell_type": "code",
      "source": [
        "df['Fence'].fillna('Sin cerca', inplace=True)"
      ],
      "metadata": {
        "id": "-aeO5-YRNaGl"
      },
      "execution_count": 15,
      "outputs": []
    },
    {
      "cell_type": "code",
      "source": [
        "df['GarageType'].fillna('Sin garage', inplace=True)"
      ],
      "metadata": {
        "id": "ZhocYmNPN0fm"
      },
      "execution_count": 16,
      "outputs": []
    },
    {
      "cell_type": "markdown",
      "source": [
        "LotArea (Área del terreno):\n",
        "\n",
        "Es una variable numérica continua, se usa la mediana es lo más prudente si hay variabilidad alta."
      ],
      "metadata": {
        "id": "-_-tAoM8XQyA"
      }
    },
    {
      "cell_type": "code",
      "source": [
        "df['LotArea'].fillna(df['LotArea'].median(), inplace=True)"
      ],
      "metadata": {
        "id": "NFhE5KPYVR0b"
      },
      "execution_count": 17,
      "outputs": []
    },
    {
      "cell_type": "markdown",
      "source": [
        "TotRmsAbvGrd (total de habitaciones sobre el nivel del suelo):\n",
        "\n",
        "Es un número discreto, con valores repetitivos. La moda es una buena opción si hay un número común de habitaciones."
      ],
      "metadata": {
        "id": "CKV1d5K0Xe77"
      }
    },
    {
      "cell_type": "code",
      "source": [
        "df['TotRmsAbvGrd'].fillna(df['TotRmsAbvGrd'].mode()[0], inplace=True)"
      ],
      "metadata": {
        "id": "qd6WxAJ9XKY1"
      },
      "execution_count": 18,
      "outputs": []
    },
    {
      "cell_type": "code",
      "source": [
        "print(\"Conteo de valores nulos por columna:\")\n",
        "print(df.isnull().sum(), \"\\n\")"
      ],
      "metadata": {
        "colab": {
          "base_uri": "https://localhost:8080/"
        },
        "id": "mDVD6QRIXop0",
        "outputId": "6d7917f1-e1ef-4fdb-8ee7-ed096ea44ba0"
      },
      "execution_count": 19,
      "outputs": [
        {
          "output_type": "stream",
          "name": "stdout",
          "text": [
            "Conteo de valores nulos por columna:\n",
            "LotArea            0\n",
            "Street             0\n",
            "Alley              0\n",
            "LotShape           0\n",
            "LotConfig          0\n",
            "LandSlope          0\n",
            "BldgType           0\n",
            "HouseStyle         0\n",
            "OverallQual        0\n",
            "OverallCond        0\n",
            "YearBuilt          0\n",
            "ExterQual          0\n",
            "ExterCond          0\n",
            "Foundation         0\n",
            "BsmtQual          38\n",
            "TotalBsmtSF        0\n",
            "Heating            0\n",
            "HeatingQC          0\n",
            "CentralAir         0\n",
            "1stFlrSF           0\n",
            "2ndFlrSF           0\n",
            "Bathrooms          0\n",
            "BedroomNumber      0\n",
            "KitchenAbvGr       0\n",
            "KitchenQual        0\n",
            "TotRmsAbvGrd       0\n",
            "Fireplaces         0\n",
            "FireplaceQu      690\n",
            "GarageType         0\n",
            "GarageCars         0\n",
            "GarageArea         0\n",
            "PoolArea           0\n",
            "PoolQC             0\n",
            "Fence              0\n",
            "SalePrice          0\n",
            "dtype: int64 \n",
            "\n"
          ]
        }
      ]
    },
    {
      "cell_type": "markdown",
      "source": [
        "**2. Detección y corrección de datos erróneos**\n",
        "\n",
        "Una vez tratadas las ausencias de información (valores faltantes), el siguiente paso en la limpieza del dataset es identificar posibles errores en los datos, es decir, valores que no son nulos pero que violan la lógica del negocio, relaciones esperadas o condiciones reales.\n",
        "\n",
        "Estos errores, si no se corrigen, pueden afectar negativamente a los análisis descriptivos y, sobre todo, a los modelos predictivos, generando distorsiones o resultados engañosos."
      ],
      "metadata": {
        "id": "GHQZiSWbYSX9"
      }
    },
    {
      "cell_type": "markdown",
      "source": [
        "**Errores fuera de rango lógico**\n",
        "\n",
        "1. Verificación de años futuros en YearBuilt (año de construcción) no puede ser mayor al año actual"
      ],
      "metadata": {
        "id": "YcoE-idCZLU0"
      }
    },
    {
      "cell_type": "code",
      "source": [
        "df[df['YearBuilt'] > 2025]"
      ],
      "metadata": {
        "colab": {
          "base_uri": "https://localhost:8080/",
          "height": 99
        },
        "id": "3csuwLpMZEKN",
        "outputId": "8d9d705c-0e95-4556-b7b9-2160339ba0b3"
      },
      "execution_count": 20,
      "outputs": [
        {
          "output_type": "execute_result",
          "data": {
            "text/plain": [
              "Empty DataFrame\n",
              "Columns: [LotArea, Street, Alley, LotShape, LotConfig, LandSlope, BldgType, HouseStyle, OverallQual, OverallCond, YearBuilt, ExterQual, ExterCond, Foundation, BsmtQual, TotalBsmtSF, Heating, HeatingQC, CentralAir, 1stFlrSF, 2ndFlrSF, Bathrooms, BedroomNumber, KitchenAbvGr, KitchenQual, TotRmsAbvGrd, Fireplaces, FireplaceQu, GarageType, GarageCars, GarageArea, PoolArea, PoolQC, Fence, SalePrice]\n",
              "Index: []\n",
              "\n",
              "[0 rows x 35 columns]"
            ],
            "text/html": [
              "\n",
              "  <div id=\"df-c85015b0-ee77-4166-8e92-1138d1df7c52\" class=\"colab-df-container\">\n",
              "    <div>\n",
              "<style scoped>\n",
              "    .dataframe tbody tr th:only-of-type {\n",
              "        vertical-align: middle;\n",
              "    }\n",
              "\n",
              "    .dataframe tbody tr th {\n",
              "        vertical-align: top;\n",
              "    }\n",
              "\n",
              "    .dataframe thead th {\n",
              "        text-align: right;\n",
              "    }\n",
              "</style>\n",
              "<table border=\"1\" class=\"dataframe\">\n",
              "  <thead>\n",
              "    <tr style=\"text-align: right;\">\n",
              "      <th></th>\n",
              "      <th>LotArea</th>\n",
              "      <th>Street</th>\n",
              "      <th>Alley</th>\n",
              "      <th>LotShape</th>\n",
              "      <th>LotConfig</th>\n",
              "      <th>LandSlope</th>\n",
              "      <th>BldgType</th>\n",
              "      <th>HouseStyle</th>\n",
              "      <th>OverallQual</th>\n",
              "      <th>OverallCond</th>\n",
              "      <th>...</th>\n",
              "      <th>TotRmsAbvGrd</th>\n",
              "      <th>Fireplaces</th>\n",
              "      <th>FireplaceQu</th>\n",
              "      <th>GarageType</th>\n",
              "      <th>GarageCars</th>\n",
              "      <th>GarageArea</th>\n",
              "      <th>PoolArea</th>\n",
              "      <th>PoolQC</th>\n",
              "      <th>Fence</th>\n",
              "      <th>SalePrice</th>\n",
              "    </tr>\n",
              "  </thead>\n",
              "  <tbody>\n",
              "  </tbody>\n",
              "</table>\n",
              "<p>0 rows × 35 columns</p>\n",
              "</div>\n",
              "    <div class=\"colab-df-buttons\">\n",
              "\n",
              "  <div class=\"colab-df-container\">\n",
              "    <button class=\"colab-df-convert\" onclick=\"convertToInteractive('df-c85015b0-ee77-4166-8e92-1138d1df7c52')\"\n",
              "            title=\"Convert this dataframe to an interactive table.\"\n",
              "            style=\"display:none;\">\n",
              "\n",
              "  <svg xmlns=\"http://www.w3.org/2000/svg\" height=\"24px\" viewBox=\"0 -960 960 960\">\n",
              "    <path d=\"M120-120v-720h720v720H120Zm60-500h600v-160H180v160Zm220 220h160v-160H400v160Zm0 220h160v-160H400v160ZM180-400h160v-160H180v160Zm440 0h160v-160H620v160ZM180-180h160v-160H180v160Zm440 0h160v-160H620v160Z\"/>\n",
              "  </svg>\n",
              "    </button>\n",
              "\n",
              "  <style>\n",
              "    .colab-df-container {\n",
              "      display:flex;\n",
              "      gap: 12px;\n",
              "    }\n",
              "\n",
              "    .colab-df-convert {\n",
              "      background-color: #E8F0FE;\n",
              "      border: none;\n",
              "      border-radius: 50%;\n",
              "      cursor: pointer;\n",
              "      display: none;\n",
              "      fill: #1967D2;\n",
              "      height: 32px;\n",
              "      padding: 0 0 0 0;\n",
              "      width: 32px;\n",
              "    }\n",
              "\n",
              "    .colab-df-convert:hover {\n",
              "      background-color: #E2EBFA;\n",
              "      box-shadow: 0px 1px 2px rgba(60, 64, 67, 0.3), 0px 1px 3px 1px rgba(60, 64, 67, 0.15);\n",
              "      fill: #174EA6;\n",
              "    }\n",
              "\n",
              "    .colab-df-buttons div {\n",
              "      margin-bottom: 4px;\n",
              "    }\n",
              "\n",
              "    [theme=dark] .colab-df-convert {\n",
              "      background-color: #3B4455;\n",
              "      fill: #D2E3FC;\n",
              "    }\n",
              "\n",
              "    [theme=dark] .colab-df-convert:hover {\n",
              "      background-color: #434B5C;\n",
              "      box-shadow: 0px 1px 3px 1px rgba(0, 0, 0, 0.15);\n",
              "      filter: drop-shadow(0px 1px 2px rgba(0, 0, 0, 0.3));\n",
              "      fill: #FFFFFF;\n",
              "    }\n",
              "  </style>\n",
              "\n",
              "    <script>\n",
              "      const buttonEl =\n",
              "        document.querySelector('#df-c85015b0-ee77-4166-8e92-1138d1df7c52 button.colab-df-convert');\n",
              "      buttonEl.style.display =\n",
              "        google.colab.kernel.accessAllowed ? 'block' : 'none';\n",
              "\n",
              "      async function convertToInteractive(key) {\n",
              "        const element = document.querySelector('#df-c85015b0-ee77-4166-8e92-1138d1df7c52');\n",
              "        const dataTable =\n",
              "          await google.colab.kernel.invokeFunction('convertToInteractive',\n",
              "                                                    [key], {});\n",
              "        if (!dataTable) return;\n",
              "\n",
              "        const docLinkHtml = 'Like what you see? Visit the ' +\n",
              "          '<a target=\"_blank\" href=https://colab.research.google.com/notebooks/data_table.ipynb>data table notebook</a>'\n",
              "          + ' to learn more about interactive tables.';\n",
              "        element.innerHTML = '';\n",
              "        dataTable['output_type'] = 'display_data';\n",
              "        await google.colab.output.renderOutput(dataTable, element);\n",
              "        const docLink = document.createElement('div');\n",
              "        docLink.innerHTML = docLinkHtml;\n",
              "        element.appendChild(docLink);\n",
              "      }\n",
              "    </script>\n",
              "  </div>\n",
              "\n",
              "\n",
              "    </div>\n",
              "  </div>\n"
            ],
            "application/vnd.google.colaboratory.intrinsic+json": {
              "type": "dataframe"
            }
          },
          "metadata": {},
          "execution_count": 20
        }
      ]
    },
    {
      "cell_type": "markdown",
      "source": [
        "2. Detección de garajes inusualmente grandes, no debería superar un número realista (ej. 4 o 5 vehículos)."
      ],
      "metadata": {
        "id": "mDIKVWaVZxd9"
      }
    },
    {
      "cell_type": "code",
      "source": [
        "df[df['GarageCars'] > 5]"
      ],
      "metadata": {
        "colab": {
          "base_uri": "https://localhost:8080/",
          "height": 99
        },
        "id": "0rTpqUmAaEk7",
        "outputId": "f93001bd-323a-476e-fbd0-fa92826a3713"
      },
      "execution_count": 21,
      "outputs": [
        {
          "output_type": "execute_result",
          "data": {
            "text/plain": [
              "Empty DataFrame\n",
              "Columns: [LotArea, Street, Alley, LotShape, LotConfig, LandSlope, BldgType, HouseStyle, OverallQual, OverallCond, YearBuilt, ExterQual, ExterCond, Foundation, BsmtQual, TotalBsmtSF, Heating, HeatingQC, CentralAir, 1stFlrSF, 2ndFlrSF, Bathrooms, BedroomNumber, KitchenAbvGr, KitchenQual, TotRmsAbvGrd, Fireplaces, FireplaceQu, GarageType, GarageCars, GarageArea, PoolArea, PoolQC, Fence, SalePrice]\n",
              "Index: []\n",
              "\n",
              "[0 rows x 35 columns]"
            ],
            "text/html": [
              "\n",
              "  <div id=\"df-7a536c37-d7a3-4d8f-941d-71ef68271917\" class=\"colab-df-container\">\n",
              "    <div>\n",
              "<style scoped>\n",
              "    .dataframe tbody tr th:only-of-type {\n",
              "        vertical-align: middle;\n",
              "    }\n",
              "\n",
              "    .dataframe tbody tr th {\n",
              "        vertical-align: top;\n",
              "    }\n",
              "\n",
              "    .dataframe thead th {\n",
              "        text-align: right;\n",
              "    }\n",
              "</style>\n",
              "<table border=\"1\" class=\"dataframe\">\n",
              "  <thead>\n",
              "    <tr style=\"text-align: right;\">\n",
              "      <th></th>\n",
              "      <th>LotArea</th>\n",
              "      <th>Street</th>\n",
              "      <th>Alley</th>\n",
              "      <th>LotShape</th>\n",
              "      <th>LotConfig</th>\n",
              "      <th>LandSlope</th>\n",
              "      <th>BldgType</th>\n",
              "      <th>HouseStyle</th>\n",
              "      <th>OverallQual</th>\n",
              "      <th>OverallCond</th>\n",
              "      <th>...</th>\n",
              "      <th>TotRmsAbvGrd</th>\n",
              "      <th>Fireplaces</th>\n",
              "      <th>FireplaceQu</th>\n",
              "      <th>GarageType</th>\n",
              "      <th>GarageCars</th>\n",
              "      <th>GarageArea</th>\n",
              "      <th>PoolArea</th>\n",
              "      <th>PoolQC</th>\n",
              "      <th>Fence</th>\n",
              "      <th>SalePrice</th>\n",
              "    </tr>\n",
              "  </thead>\n",
              "  <tbody>\n",
              "  </tbody>\n",
              "</table>\n",
              "<p>0 rows × 35 columns</p>\n",
              "</div>\n",
              "    <div class=\"colab-df-buttons\">\n",
              "\n",
              "  <div class=\"colab-df-container\">\n",
              "    <button class=\"colab-df-convert\" onclick=\"convertToInteractive('df-7a536c37-d7a3-4d8f-941d-71ef68271917')\"\n",
              "            title=\"Convert this dataframe to an interactive table.\"\n",
              "            style=\"display:none;\">\n",
              "\n",
              "  <svg xmlns=\"http://www.w3.org/2000/svg\" height=\"24px\" viewBox=\"0 -960 960 960\">\n",
              "    <path d=\"M120-120v-720h720v720H120Zm60-500h600v-160H180v160Zm220 220h160v-160H400v160Zm0 220h160v-160H400v160ZM180-400h160v-160H180v160Zm440 0h160v-160H620v160ZM180-180h160v-160H180v160Zm440 0h160v-160H620v160Z\"/>\n",
              "  </svg>\n",
              "    </button>\n",
              "\n",
              "  <style>\n",
              "    .colab-df-container {\n",
              "      display:flex;\n",
              "      gap: 12px;\n",
              "    }\n",
              "\n",
              "    .colab-df-convert {\n",
              "      background-color: #E8F0FE;\n",
              "      border: none;\n",
              "      border-radius: 50%;\n",
              "      cursor: pointer;\n",
              "      display: none;\n",
              "      fill: #1967D2;\n",
              "      height: 32px;\n",
              "      padding: 0 0 0 0;\n",
              "      width: 32px;\n",
              "    }\n",
              "\n",
              "    .colab-df-convert:hover {\n",
              "      background-color: #E2EBFA;\n",
              "      box-shadow: 0px 1px 2px rgba(60, 64, 67, 0.3), 0px 1px 3px 1px rgba(60, 64, 67, 0.15);\n",
              "      fill: #174EA6;\n",
              "    }\n",
              "\n",
              "    .colab-df-buttons div {\n",
              "      margin-bottom: 4px;\n",
              "    }\n",
              "\n",
              "    [theme=dark] .colab-df-convert {\n",
              "      background-color: #3B4455;\n",
              "      fill: #D2E3FC;\n",
              "    }\n",
              "\n",
              "    [theme=dark] .colab-df-convert:hover {\n",
              "      background-color: #434B5C;\n",
              "      box-shadow: 0px 1px 3px 1px rgba(0, 0, 0, 0.15);\n",
              "      filter: drop-shadow(0px 1px 2px rgba(0, 0, 0, 0.3));\n",
              "      fill: #FFFFFF;\n",
              "    }\n",
              "  </style>\n",
              "\n",
              "    <script>\n",
              "      const buttonEl =\n",
              "        document.querySelector('#df-7a536c37-d7a3-4d8f-941d-71ef68271917 button.colab-df-convert');\n",
              "      buttonEl.style.display =\n",
              "        google.colab.kernel.accessAllowed ? 'block' : 'none';\n",
              "\n",
              "      async function convertToInteractive(key) {\n",
              "        const element = document.querySelector('#df-7a536c37-d7a3-4d8f-941d-71ef68271917');\n",
              "        const dataTable =\n",
              "          await google.colab.kernel.invokeFunction('convertToInteractive',\n",
              "                                                    [key], {});\n",
              "        if (!dataTable) return;\n",
              "\n",
              "        const docLinkHtml = 'Like what you see? Visit the ' +\n",
              "          '<a target=\"_blank\" href=https://colab.research.google.com/notebooks/data_table.ipynb>data table notebook</a>'\n",
              "          + ' to learn more about interactive tables.';\n",
              "        element.innerHTML = '';\n",
              "        dataTable['output_type'] = 'display_data';\n",
              "        await google.colab.output.renderOutput(dataTable, element);\n",
              "        const docLink = document.createElement('div');\n",
              "        docLink.innerHTML = docLinkHtml;\n",
              "        element.appendChild(docLink);\n",
              "      }\n",
              "    </script>\n",
              "  </div>\n",
              "\n",
              "\n",
              "    </div>\n",
              "  </div>\n"
            ],
            "application/vnd.google.colaboratory.intrinsic+json": {
              "type": "dataframe"
            }
          },
          "metadata": {},
          "execution_count": 21
        }
      ]
    },
    {
      "cell_type": "markdown",
      "source": [
        "**Inconsistencias entre columnas relacionadas**"
      ],
      "metadata": {
        "id": "_Lmhq3XCacQf"
      }
    },
    {
      "cell_type": "markdown",
      "source": [
        " Si hay área de garaje pero sin autos, podría tratarse de una mala codificación.\n",
        "\n",
        " GarageArea = 0, entonces GarageCars también debería ser 0.\n",
        "\n",
        " PoolArea > 0, entonces PoolQC no debería estar vacío."
      ],
      "metadata": {
        "id": "7_jrsg6FbFHF"
      }
    },
    {
      "cell_type": "code",
      "source": [
        "df[(df['GarageCars'] == 0) & (df['GarageArea'] > 0)]"
      ],
      "metadata": {
        "colab": {
          "base_uri": "https://localhost:8080/",
          "height": 99
        },
        "id": "FcDT0W_cat8F",
        "outputId": "40bd3a76-ce98-493a-a966-a81ec9b38e9e"
      },
      "execution_count": 22,
      "outputs": [
        {
          "output_type": "execute_result",
          "data": {
            "text/plain": [
              "Empty DataFrame\n",
              "Columns: [LotArea, Street, Alley, LotShape, LotConfig, LandSlope, BldgType, HouseStyle, OverallQual, OverallCond, YearBuilt, ExterQual, ExterCond, Foundation, BsmtQual, TotalBsmtSF, Heating, HeatingQC, CentralAir, 1stFlrSF, 2ndFlrSF, Bathrooms, BedroomNumber, KitchenAbvGr, KitchenQual, TotRmsAbvGrd, Fireplaces, FireplaceQu, GarageType, GarageCars, GarageArea, PoolArea, PoolQC, Fence, SalePrice]\n",
              "Index: []\n",
              "\n",
              "[0 rows x 35 columns]"
            ],
            "text/html": [
              "\n",
              "  <div id=\"df-e2fad2b7-e41f-4d11-baf8-b6d3e31819ba\" class=\"colab-df-container\">\n",
              "    <div>\n",
              "<style scoped>\n",
              "    .dataframe tbody tr th:only-of-type {\n",
              "        vertical-align: middle;\n",
              "    }\n",
              "\n",
              "    .dataframe tbody tr th {\n",
              "        vertical-align: top;\n",
              "    }\n",
              "\n",
              "    .dataframe thead th {\n",
              "        text-align: right;\n",
              "    }\n",
              "</style>\n",
              "<table border=\"1\" class=\"dataframe\">\n",
              "  <thead>\n",
              "    <tr style=\"text-align: right;\">\n",
              "      <th></th>\n",
              "      <th>LotArea</th>\n",
              "      <th>Street</th>\n",
              "      <th>Alley</th>\n",
              "      <th>LotShape</th>\n",
              "      <th>LotConfig</th>\n",
              "      <th>LandSlope</th>\n",
              "      <th>BldgType</th>\n",
              "      <th>HouseStyle</th>\n",
              "      <th>OverallQual</th>\n",
              "      <th>OverallCond</th>\n",
              "      <th>...</th>\n",
              "      <th>TotRmsAbvGrd</th>\n",
              "      <th>Fireplaces</th>\n",
              "      <th>FireplaceQu</th>\n",
              "      <th>GarageType</th>\n",
              "      <th>GarageCars</th>\n",
              "      <th>GarageArea</th>\n",
              "      <th>PoolArea</th>\n",
              "      <th>PoolQC</th>\n",
              "      <th>Fence</th>\n",
              "      <th>SalePrice</th>\n",
              "    </tr>\n",
              "  </thead>\n",
              "  <tbody>\n",
              "  </tbody>\n",
              "</table>\n",
              "<p>0 rows × 35 columns</p>\n",
              "</div>\n",
              "    <div class=\"colab-df-buttons\">\n",
              "\n",
              "  <div class=\"colab-df-container\">\n",
              "    <button class=\"colab-df-convert\" onclick=\"convertToInteractive('df-e2fad2b7-e41f-4d11-baf8-b6d3e31819ba')\"\n",
              "            title=\"Convert this dataframe to an interactive table.\"\n",
              "            style=\"display:none;\">\n",
              "\n",
              "  <svg xmlns=\"http://www.w3.org/2000/svg\" height=\"24px\" viewBox=\"0 -960 960 960\">\n",
              "    <path d=\"M120-120v-720h720v720H120Zm60-500h600v-160H180v160Zm220 220h160v-160H400v160Zm0 220h160v-160H400v160ZM180-400h160v-160H180v160Zm440 0h160v-160H620v160ZM180-180h160v-160H180v160Zm440 0h160v-160H620v160Z\"/>\n",
              "  </svg>\n",
              "    </button>\n",
              "\n",
              "  <style>\n",
              "    .colab-df-container {\n",
              "      display:flex;\n",
              "      gap: 12px;\n",
              "    }\n",
              "\n",
              "    .colab-df-convert {\n",
              "      background-color: #E8F0FE;\n",
              "      border: none;\n",
              "      border-radius: 50%;\n",
              "      cursor: pointer;\n",
              "      display: none;\n",
              "      fill: #1967D2;\n",
              "      height: 32px;\n",
              "      padding: 0 0 0 0;\n",
              "      width: 32px;\n",
              "    }\n",
              "\n",
              "    .colab-df-convert:hover {\n",
              "      background-color: #E2EBFA;\n",
              "      box-shadow: 0px 1px 2px rgba(60, 64, 67, 0.3), 0px 1px 3px 1px rgba(60, 64, 67, 0.15);\n",
              "      fill: #174EA6;\n",
              "    }\n",
              "\n",
              "    .colab-df-buttons div {\n",
              "      margin-bottom: 4px;\n",
              "    }\n",
              "\n",
              "    [theme=dark] .colab-df-convert {\n",
              "      background-color: #3B4455;\n",
              "      fill: #D2E3FC;\n",
              "    }\n",
              "\n",
              "    [theme=dark] .colab-df-convert:hover {\n",
              "      background-color: #434B5C;\n",
              "      box-shadow: 0px 1px 3px 1px rgba(0, 0, 0, 0.15);\n",
              "      filter: drop-shadow(0px 1px 2px rgba(0, 0, 0, 0.3));\n",
              "      fill: #FFFFFF;\n",
              "    }\n",
              "  </style>\n",
              "\n",
              "    <script>\n",
              "      const buttonEl =\n",
              "        document.querySelector('#df-e2fad2b7-e41f-4d11-baf8-b6d3e31819ba button.colab-df-convert');\n",
              "      buttonEl.style.display =\n",
              "        google.colab.kernel.accessAllowed ? 'block' : 'none';\n",
              "\n",
              "      async function convertToInteractive(key) {\n",
              "        const element = document.querySelector('#df-e2fad2b7-e41f-4d11-baf8-b6d3e31819ba');\n",
              "        const dataTable =\n",
              "          await google.colab.kernel.invokeFunction('convertToInteractive',\n",
              "                                                    [key], {});\n",
              "        if (!dataTable) return;\n",
              "\n",
              "        const docLinkHtml = 'Like what you see? Visit the ' +\n",
              "          '<a target=\"_blank\" href=https://colab.research.google.com/notebooks/data_table.ipynb>data table notebook</a>'\n",
              "          + ' to learn more about interactive tables.';\n",
              "        element.innerHTML = '';\n",
              "        dataTable['output_type'] = 'display_data';\n",
              "        await google.colab.output.renderOutput(dataTable, element);\n",
              "        const docLink = document.createElement('div');\n",
              "        docLink.innerHTML = docLinkHtml;\n",
              "        element.appendChild(docLink);\n",
              "      }\n",
              "    </script>\n",
              "  </div>\n",
              "\n",
              "\n",
              "    </div>\n",
              "  </div>\n"
            ],
            "application/vnd.google.colaboratory.intrinsic+json": {
              "type": "dataframe"
            }
          },
          "metadata": {},
          "execution_count": 22
        }
      ]
    },
    {
      "cell_type": "markdown",
      "source": [
        "**Detección de duplicados**\n",
        "\n",
        "Si existen filas duplicadas, se recomienda eliminarlas para evitar sesgos"
      ],
      "metadata": {
        "id": "t21xc31rbz3U"
      }
    },
    {
      "cell_type": "code",
      "source": [
        "df.duplicated().sum()"
      ],
      "metadata": {
        "colab": {
          "base_uri": "https://localhost:8080/"
        },
        "id": "BM1Kj38UcBnB",
        "outputId": "7d59decd-69ec-42a5-b485-522dff311477"
      },
      "execution_count": 23,
      "outputs": [
        {
          "output_type": "execute_result",
          "data": {
            "text/plain": [
              "np.int64(0)"
            ]
          },
          "metadata": {},
          "execution_count": 23
        }
      ]
    },
    {
      "cell_type": "markdown",
      "source": [
        "**Errores de codificación o tipográficos en variables categóricas**\n",
        "\n",
        "Revisión de valores únicos"
      ],
      "metadata": {
        "id": "bIP0AlZpcc8G"
      }
    },
    {
      "cell_type": "code",
      "source": [
        "df['KitchenQual'].unique()"
      ],
      "metadata": {
        "colab": {
          "base_uri": "https://localhost:8080/"
        },
        "id": "iGFVvzdEcmnO",
        "outputId": "ffbac6ab-5df7-4496-d536-599184d4ef17"
      },
      "execution_count": 24,
      "outputs": [
        {
          "output_type": "execute_result",
          "data": {
            "text/plain": [
              "array(['Gd', 'TA', 'EX', 'FA'], dtype=object)"
            ]
          },
          "metadata": {},
          "execution_count": 24
        }
      ]
    },
    {
      "cell_type": "code",
      "source": [
        "df['KitchenQual'].value_counts(dropna=False)\n"
      ],
      "metadata": {
        "colab": {
          "base_uri": "https://localhost:8080/",
          "height": 241
        },
        "id": "9jxI1yzvcv3i",
        "outputId": "4edc5851-b77f-4589-c753-dbc7214d828f"
      },
      "execution_count": 25,
      "outputs": [
        {
          "output_type": "execute_result",
          "data": {
            "text/plain": [
              "KitchenQual\n",
              "TA    735\n",
              "Gd    586\n",
              "EX    100\n",
              "FA     39\n",
              "Name: count, dtype: int64"
            ],
            "text/html": [
              "<div>\n",
              "<style scoped>\n",
              "    .dataframe tbody tr th:only-of-type {\n",
              "        vertical-align: middle;\n",
              "    }\n",
              "\n",
              "    .dataframe tbody tr th {\n",
              "        vertical-align: top;\n",
              "    }\n",
              "\n",
              "    .dataframe thead th {\n",
              "        text-align: right;\n",
              "    }\n",
              "</style>\n",
              "<table border=\"1\" class=\"dataframe\">\n",
              "  <thead>\n",
              "    <tr style=\"text-align: right;\">\n",
              "      <th></th>\n",
              "      <th>count</th>\n",
              "    </tr>\n",
              "    <tr>\n",
              "      <th>KitchenQual</th>\n",
              "      <th></th>\n",
              "    </tr>\n",
              "  </thead>\n",
              "  <tbody>\n",
              "    <tr>\n",
              "      <th>TA</th>\n",
              "      <td>735</td>\n",
              "    </tr>\n",
              "    <tr>\n",
              "      <th>Gd</th>\n",
              "      <td>586</td>\n",
              "    </tr>\n",
              "    <tr>\n",
              "      <th>EX</th>\n",
              "      <td>100</td>\n",
              "    </tr>\n",
              "    <tr>\n",
              "      <th>FA</th>\n",
              "      <td>39</td>\n",
              "    </tr>\n",
              "  </tbody>\n",
              "</table>\n",
              "</div><br><label><b>dtype:</b> int64</label>"
            ]
          },
          "metadata": {},
          "execution_count": 25
        }
      ]
    },
    {
      "cell_type": "markdown",
      "source": [
        "**Calcule al menos con 4 técnicas de detección de Outliers en cada herramienta. Muestre la cantidad de outliers encontrados.**"
      ],
      "metadata": {
        "id": "JB7i4wTXd4zO"
      }
    },
    {
      "cell_type": "markdown",
      "source": [
        "Definir variables a analizar"
      ],
      "metadata": {
        "id": "JWdCm2fyhO19"
      }
    },
    {
      "cell_type": "code",
      "source": [
        "# Definir las variables con mayor cantidad de outliers (según análisis previo)\n",
        "top_vars = ['OverallCond', 'KitchenAbvGr', 'LotArea', 'TotalBsmtSF']"
      ],
      "metadata": {
        "id": "Wuzlg1tihFGu"
      },
      "execution_count": 38,
      "outputs": []
    },
    {
      "cell_type": "markdown",
      "source": [
        "Aplicar detección con IQR"
      ],
      "metadata": {
        "id": "FSjIli_ChNeu"
      }
    },
    {
      "cell_type": "code",
      "source": [
        "for col in top_vars:\n",
        "    Q1 = df[col].quantile(0.25)\n",
        "    Q3 = df[col].quantile(0.75)\n",
        "    IQR = Q3 - Q1\n",
        "    lower = Q1 - 1.5 * IQR\n",
        "    upper = Q3 + 1.5 * IQR\n",
        "    df[f'{col}_IQR'] = ((df[col] < lower) | (df[col] > upper)).astype(int)"
      ],
      "metadata": {
        "id": "Z2uETVH7g4Kd"
      },
      "execution_count": 39,
      "outputs": []
    },
    {
      "cell_type": "markdown",
      "source": [
        "Aplicar Z-Score"
      ],
      "metadata": {
        "id": "mxdKG0I4hm-l"
      }
    },
    {
      "cell_type": "code",
      "source": [
        "for col in top_vars:\n",
        "    z_scores = np.abs(stats.zscore(df[col].dropna()))\n",
        "    threshold = 3\n",
        "    z_outliers = pd.Series(0, index=df.index)\n",
        "    z_outliers[df[col].dropna().index] = (z_scores > threshold).astype(int)\n",
        "    df[f'{col}_ZScore'] = z_outliers"
      ],
      "metadata": {
        "id": "CbEksi1thX7d"
      },
      "execution_count": 40,
      "outputs": []
    },
    {
      "cell_type": "markdown",
      "source": [
        "Aplicar Isolation Forest"
      ],
      "metadata": {
        "id": "CYlUR1LPhuOl"
      }
    },
    {
      "cell_type": "code",
      "source": [
        "for col in top_vars:\n",
        "    iso = IsolationForest(contamination=0.05, random_state=42)\n",
        "    preds = iso.fit_predict(df[[col]].fillna(0))\n",
        "    df[f'{col}_IForest'] = (preds == -1).astype(int)"
      ],
      "metadata": {
        "id": "ljq9VFf2hw_5"
      },
      "execution_count": 41,
      "outputs": []
    },
    {
      "cell_type": "markdown",
      "source": [
        "Aplicar Local Outlier Factor (LOF)"
      ],
      "metadata": {
        "id": "77WC6Wfkh1-H"
      }
    },
    {
      "cell_type": "code",
      "source": [
        "for col in top_vars:\n",
        "    lof = LocalOutlierFactor(n_neighbors=20, contamination=0.05)\n",
        "    preds = lof.fit_predict(df[[col]].fillna(0))\n",
        "    df[f'{col}_LOF'] = (preds == -1).astype(int)"
      ],
      "metadata": {
        "id": "jSxNBUUxh3B2"
      },
      "execution_count": 42,
      "outputs": []
    },
    {
      "cell_type": "markdown",
      "source": [
        "Resumen total de outliers por técnica"
      ],
      "metadata": {
        "id": "4f6IGN8eiBh1"
      }
    },
    {
      "cell_type": "code",
      "source": [
        "summary = {}\n",
        "for col in top_vars:\n",
        "    summary[col] = {\n",
        "        \"IQR\": int(df[f'{col}_IQR'].sum()),\n",
        "        \"Z-Score\": int(df[f'{col}_ZScore'].sum()),\n",
        "        \"IsolationForest\": int(df[f'{col}_IForest'].sum()),\n",
        "        \"LOF\": int(df[f'{col}_LOF'].sum()),\n",
        "    }\n",
        "summary_df = pd.DataFrame(summary).T\n",
        "summary_df"
      ],
      "metadata": {
        "colab": {
          "base_uri": "https://localhost:8080/",
          "height": 175
        },
        "id": "FzJGt8Arh8Ot",
        "outputId": "371a3462-49b4-4261-a35a-51097913ce8d"
      },
      "execution_count": 43,
      "outputs": [
        {
          "output_type": "execute_result",
          "data": {
            "text/plain": [
              "              IQR  Z-Score  IsolationForest  LOF\n",
              "OverallCond   125       28               53    6\n",
              "KitchenAbvGr   68       68               68    3\n",
              "LotArea       123       13               73   73\n",
              "TotalBsmtSF    61       10               68   73"
            ],
            "text/html": [
              "\n",
              "  <div id=\"df-8e010ecc-02b9-4f90-9730-5749f67cb1c7\" class=\"colab-df-container\">\n",
              "    <div>\n",
              "<style scoped>\n",
              "    .dataframe tbody tr th:only-of-type {\n",
              "        vertical-align: middle;\n",
              "    }\n",
              "\n",
              "    .dataframe tbody tr th {\n",
              "        vertical-align: top;\n",
              "    }\n",
              "\n",
              "    .dataframe thead th {\n",
              "        text-align: right;\n",
              "    }\n",
              "</style>\n",
              "<table border=\"1\" class=\"dataframe\">\n",
              "  <thead>\n",
              "    <tr style=\"text-align: right;\">\n",
              "      <th></th>\n",
              "      <th>IQR</th>\n",
              "      <th>Z-Score</th>\n",
              "      <th>IsolationForest</th>\n",
              "      <th>LOF</th>\n",
              "    </tr>\n",
              "  </thead>\n",
              "  <tbody>\n",
              "    <tr>\n",
              "      <th>OverallCond</th>\n",
              "      <td>125</td>\n",
              "      <td>28</td>\n",
              "      <td>53</td>\n",
              "      <td>6</td>\n",
              "    </tr>\n",
              "    <tr>\n",
              "      <th>KitchenAbvGr</th>\n",
              "      <td>68</td>\n",
              "      <td>68</td>\n",
              "      <td>68</td>\n",
              "      <td>3</td>\n",
              "    </tr>\n",
              "    <tr>\n",
              "      <th>LotArea</th>\n",
              "      <td>123</td>\n",
              "      <td>13</td>\n",
              "      <td>73</td>\n",
              "      <td>73</td>\n",
              "    </tr>\n",
              "    <tr>\n",
              "      <th>TotalBsmtSF</th>\n",
              "      <td>61</td>\n",
              "      <td>10</td>\n",
              "      <td>68</td>\n",
              "      <td>73</td>\n",
              "    </tr>\n",
              "  </tbody>\n",
              "</table>\n",
              "</div>\n",
              "    <div class=\"colab-df-buttons\">\n",
              "\n",
              "  <div class=\"colab-df-container\">\n",
              "    <button class=\"colab-df-convert\" onclick=\"convertToInteractive('df-8e010ecc-02b9-4f90-9730-5749f67cb1c7')\"\n",
              "            title=\"Convert this dataframe to an interactive table.\"\n",
              "            style=\"display:none;\">\n",
              "\n",
              "  <svg xmlns=\"http://www.w3.org/2000/svg\" height=\"24px\" viewBox=\"0 -960 960 960\">\n",
              "    <path d=\"M120-120v-720h720v720H120Zm60-500h600v-160H180v160Zm220 220h160v-160H400v160Zm0 220h160v-160H400v160ZM180-400h160v-160H180v160Zm440 0h160v-160H620v160ZM180-180h160v-160H180v160Zm440 0h160v-160H620v160Z\"/>\n",
              "  </svg>\n",
              "    </button>\n",
              "\n",
              "  <style>\n",
              "    .colab-df-container {\n",
              "      display:flex;\n",
              "      gap: 12px;\n",
              "    }\n",
              "\n",
              "    .colab-df-convert {\n",
              "      background-color: #E8F0FE;\n",
              "      border: none;\n",
              "      border-radius: 50%;\n",
              "      cursor: pointer;\n",
              "      display: none;\n",
              "      fill: #1967D2;\n",
              "      height: 32px;\n",
              "      padding: 0 0 0 0;\n",
              "      width: 32px;\n",
              "    }\n",
              "\n",
              "    .colab-df-convert:hover {\n",
              "      background-color: #E2EBFA;\n",
              "      box-shadow: 0px 1px 2px rgba(60, 64, 67, 0.3), 0px 1px 3px 1px rgba(60, 64, 67, 0.15);\n",
              "      fill: #174EA6;\n",
              "    }\n",
              "\n",
              "    .colab-df-buttons div {\n",
              "      margin-bottom: 4px;\n",
              "    }\n",
              "\n",
              "    [theme=dark] .colab-df-convert {\n",
              "      background-color: #3B4455;\n",
              "      fill: #D2E3FC;\n",
              "    }\n",
              "\n",
              "    [theme=dark] .colab-df-convert:hover {\n",
              "      background-color: #434B5C;\n",
              "      box-shadow: 0px 1px 3px 1px rgba(0, 0, 0, 0.15);\n",
              "      filter: drop-shadow(0px 1px 2px rgba(0, 0, 0, 0.3));\n",
              "      fill: #FFFFFF;\n",
              "    }\n",
              "  </style>\n",
              "\n",
              "    <script>\n",
              "      const buttonEl =\n",
              "        document.querySelector('#df-8e010ecc-02b9-4f90-9730-5749f67cb1c7 button.colab-df-convert');\n",
              "      buttonEl.style.display =\n",
              "        google.colab.kernel.accessAllowed ? 'block' : 'none';\n",
              "\n",
              "      async function convertToInteractive(key) {\n",
              "        const element = document.querySelector('#df-8e010ecc-02b9-4f90-9730-5749f67cb1c7');\n",
              "        const dataTable =\n",
              "          await google.colab.kernel.invokeFunction('convertToInteractive',\n",
              "                                                    [key], {});\n",
              "        if (!dataTable) return;\n",
              "\n",
              "        const docLinkHtml = 'Like what you see? Visit the ' +\n",
              "          '<a target=\"_blank\" href=https://colab.research.google.com/notebooks/data_table.ipynb>data table notebook</a>'\n",
              "          + ' to learn more about interactive tables.';\n",
              "        element.innerHTML = '';\n",
              "        dataTable['output_type'] = 'display_data';\n",
              "        await google.colab.output.renderOutput(dataTable, element);\n",
              "        const docLink = document.createElement('div');\n",
              "        docLink.innerHTML = docLinkHtml;\n",
              "        element.appendChild(docLink);\n",
              "      }\n",
              "    </script>\n",
              "  </div>\n",
              "\n",
              "\n",
              "    <div id=\"df-de0b0f49-ee9e-4f89-b6c9-324d82a239c6\">\n",
              "      <button class=\"colab-df-quickchart\" onclick=\"quickchart('df-de0b0f49-ee9e-4f89-b6c9-324d82a239c6')\"\n",
              "                title=\"Suggest charts\"\n",
              "                style=\"display:none;\">\n",
              "\n",
              "<svg xmlns=\"http://www.w3.org/2000/svg\" height=\"24px\"viewBox=\"0 0 24 24\"\n",
              "     width=\"24px\">\n",
              "    <g>\n",
              "        <path d=\"M19 3H5c-1.1 0-2 .9-2 2v14c0 1.1.9 2 2 2h14c1.1 0 2-.9 2-2V5c0-1.1-.9-2-2-2zM9 17H7v-7h2v7zm4 0h-2V7h2v10zm4 0h-2v-4h2v4z\"/>\n",
              "    </g>\n",
              "</svg>\n",
              "      </button>\n",
              "\n",
              "<style>\n",
              "  .colab-df-quickchart {\n",
              "      --bg-color: #E8F0FE;\n",
              "      --fill-color: #1967D2;\n",
              "      --hover-bg-color: #E2EBFA;\n",
              "      --hover-fill-color: #174EA6;\n",
              "      --disabled-fill-color: #AAA;\n",
              "      --disabled-bg-color: #DDD;\n",
              "  }\n",
              "\n",
              "  [theme=dark] .colab-df-quickchart {\n",
              "      --bg-color: #3B4455;\n",
              "      --fill-color: #D2E3FC;\n",
              "      --hover-bg-color: #434B5C;\n",
              "      --hover-fill-color: #FFFFFF;\n",
              "      --disabled-bg-color: #3B4455;\n",
              "      --disabled-fill-color: #666;\n",
              "  }\n",
              "\n",
              "  .colab-df-quickchart {\n",
              "    background-color: var(--bg-color);\n",
              "    border: none;\n",
              "    border-radius: 50%;\n",
              "    cursor: pointer;\n",
              "    display: none;\n",
              "    fill: var(--fill-color);\n",
              "    height: 32px;\n",
              "    padding: 0;\n",
              "    width: 32px;\n",
              "  }\n",
              "\n",
              "  .colab-df-quickchart:hover {\n",
              "    background-color: var(--hover-bg-color);\n",
              "    box-shadow: 0 1px 2px rgba(60, 64, 67, 0.3), 0 1px 3px 1px rgba(60, 64, 67, 0.15);\n",
              "    fill: var(--button-hover-fill-color);\n",
              "  }\n",
              "\n",
              "  .colab-df-quickchart-complete:disabled,\n",
              "  .colab-df-quickchart-complete:disabled:hover {\n",
              "    background-color: var(--disabled-bg-color);\n",
              "    fill: var(--disabled-fill-color);\n",
              "    box-shadow: none;\n",
              "  }\n",
              "\n",
              "  .colab-df-spinner {\n",
              "    border: 2px solid var(--fill-color);\n",
              "    border-color: transparent;\n",
              "    border-bottom-color: var(--fill-color);\n",
              "    animation:\n",
              "      spin 1s steps(1) infinite;\n",
              "  }\n",
              "\n",
              "  @keyframes spin {\n",
              "    0% {\n",
              "      border-color: transparent;\n",
              "      border-bottom-color: var(--fill-color);\n",
              "      border-left-color: var(--fill-color);\n",
              "    }\n",
              "    20% {\n",
              "      border-color: transparent;\n",
              "      border-left-color: var(--fill-color);\n",
              "      border-top-color: var(--fill-color);\n",
              "    }\n",
              "    30% {\n",
              "      border-color: transparent;\n",
              "      border-left-color: var(--fill-color);\n",
              "      border-top-color: var(--fill-color);\n",
              "      border-right-color: var(--fill-color);\n",
              "    }\n",
              "    40% {\n",
              "      border-color: transparent;\n",
              "      border-right-color: var(--fill-color);\n",
              "      border-top-color: var(--fill-color);\n",
              "    }\n",
              "    60% {\n",
              "      border-color: transparent;\n",
              "      border-right-color: var(--fill-color);\n",
              "    }\n",
              "    80% {\n",
              "      border-color: transparent;\n",
              "      border-right-color: var(--fill-color);\n",
              "      border-bottom-color: var(--fill-color);\n",
              "    }\n",
              "    90% {\n",
              "      border-color: transparent;\n",
              "      border-bottom-color: var(--fill-color);\n",
              "    }\n",
              "  }\n",
              "</style>\n",
              "\n",
              "      <script>\n",
              "        async function quickchart(key) {\n",
              "          const quickchartButtonEl =\n",
              "            document.querySelector('#' + key + ' button');\n",
              "          quickchartButtonEl.disabled = true;  // To prevent multiple clicks.\n",
              "          quickchartButtonEl.classList.add('colab-df-spinner');\n",
              "          try {\n",
              "            const charts = await google.colab.kernel.invokeFunction(\n",
              "                'suggestCharts', [key], {});\n",
              "          } catch (error) {\n",
              "            console.error('Error during call to suggestCharts:', error);\n",
              "          }\n",
              "          quickchartButtonEl.classList.remove('colab-df-spinner');\n",
              "          quickchartButtonEl.classList.add('colab-df-quickchart-complete');\n",
              "        }\n",
              "        (() => {\n",
              "          let quickchartButtonEl =\n",
              "            document.querySelector('#df-de0b0f49-ee9e-4f89-b6c9-324d82a239c6 button');\n",
              "          quickchartButtonEl.style.display =\n",
              "            google.colab.kernel.accessAllowed ? 'block' : 'none';\n",
              "        })();\n",
              "      </script>\n",
              "    </div>\n",
              "\n",
              "  <div id=\"id_9e64d9cf-56ea-422a-84af-353e6ca7aa5d\">\n",
              "    <style>\n",
              "      .colab-df-generate {\n",
              "        background-color: #E8F0FE;\n",
              "        border: none;\n",
              "        border-radius: 50%;\n",
              "        cursor: pointer;\n",
              "        display: none;\n",
              "        fill: #1967D2;\n",
              "        height: 32px;\n",
              "        padding: 0 0 0 0;\n",
              "        width: 32px;\n",
              "      }\n",
              "\n",
              "      .colab-df-generate:hover {\n",
              "        background-color: #E2EBFA;\n",
              "        box-shadow: 0px 1px 2px rgba(60, 64, 67, 0.3), 0px 1px 3px 1px rgba(60, 64, 67, 0.15);\n",
              "        fill: #174EA6;\n",
              "      }\n",
              "\n",
              "      [theme=dark] .colab-df-generate {\n",
              "        background-color: #3B4455;\n",
              "        fill: #D2E3FC;\n",
              "      }\n",
              "\n",
              "      [theme=dark] .colab-df-generate:hover {\n",
              "        background-color: #434B5C;\n",
              "        box-shadow: 0px 1px 3px 1px rgba(0, 0, 0, 0.15);\n",
              "        filter: drop-shadow(0px 1px 2px rgba(0, 0, 0, 0.3));\n",
              "        fill: #FFFFFF;\n",
              "      }\n",
              "    </style>\n",
              "    <button class=\"colab-df-generate\" onclick=\"generateWithVariable('summary_df')\"\n",
              "            title=\"Generate code using this dataframe.\"\n",
              "            style=\"display:none;\">\n",
              "\n",
              "  <svg xmlns=\"http://www.w3.org/2000/svg\" height=\"24px\"viewBox=\"0 0 24 24\"\n",
              "       width=\"24px\">\n",
              "    <path d=\"M7,19H8.4L18.45,9,17,7.55,7,17.6ZM5,21V16.75L18.45,3.32a2,2,0,0,1,2.83,0l1.4,1.43a1.91,1.91,0,0,1,.58,1.4,1.91,1.91,0,0,1-.58,1.4L9.25,21ZM18.45,9,17,7.55Zm-12,3A5.31,5.31,0,0,0,4.9,8.1,5.31,5.31,0,0,0,1,6.5,5.31,5.31,0,0,0,4.9,4.9,5.31,5.31,0,0,0,6.5,1,5.31,5.31,0,0,0,8.1,4.9,5.31,5.31,0,0,0,12,6.5,5.46,5.46,0,0,0,6.5,12Z\"/>\n",
              "  </svg>\n",
              "    </button>\n",
              "    <script>\n",
              "      (() => {\n",
              "      const buttonEl =\n",
              "        document.querySelector('#id_9e64d9cf-56ea-422a-84af-353e6ca7aa5d button.colab-df-generate');\n",
              "      buttonEl.style.display =\n",
              "        google.colab.kernel.accessAllowed ? 'block' : 'none';\n",
              "\n",
              "      buttonEl.onclick = () => {\n",
              "        google.colab.notebook.generateWithVariable('summary_df');\n",
              "      }\n",
              "      })();\n",
              "    </script>\n",
              "  </div>\n",
              "\n",
              "    </div>\n",
              "  </div>\n"
            ],
            "application/vnd.google.colaboratory.intrinsic+json": {
              "type": "dataframe",
              "variable_name": "summary_df",
              "summary": "{\n  \"name\": \"summary_df\",\n  \"rows\": 4,\n  \"fields\": [\n    {\n      \"column\": \"IQR\",\n      \"properties\": {\n        \"dtype\": \"number\",\n        \"std\": 34,\n        \"min\": 61,\n        \"max\": 125,\n        \"num_unique_values\": 4,\n        \"samples\": [\n          68,\n          61,\n          125\n        ],\n        \"semantic_type\": \"\",\n        \"description\": \"\"\n      }\n    },\n    {\n      \"column\": \"Z-Score\",\n      \"properties\": {\n        \"dtype\": \"number\",\n        \"std\": 26,\n        \"min\": 10,\n        \"max\": 68,\n        \"num_unique_values\": 4,\n        \"samples\": [\n          68,\n          10,\n          28\n        ],\n        \"semantic_type\": \"\",\n        \"description\": \"\"\n      }\n    },\n    {\n      \"column\": \"IsolationForest\",\n      \"properties\": {\n        \"dtype\": \"number\",\n        \"std\": 8,\n        \"min\": 53,\n        \"max\": 73,\n        \"num_unique_values\": 3,\n        \"samples\": [\n          53,\n          68,\n          73\n        ],\n        \"semantic_type\": \"\",\n        \"description\": \"\"\n      }\n    },\n    {\n      \"column\": \"LOF\",\n      \"properties\": {\n        \"dtype\": \"number\",\n        \"std\": 39,\n        \"min\": 3,\n        \"max\": 73,\n        \"num_unique_values\": 3,\n        \"samples\": [\n          6,\n          3,\n          73\n        ],\n        \"semantic_type\": \"\",\n        \"description\": \"\"\n      }\n    }\n  ]\n}"
            }
          },
          "metadata": {},
          "execution_count": 43
        }
      ]
    },
    {
      "cell_type": "markdown",
      "source": [
        "Crear heatmap de los outliers detectados por técnica"
      ],
      "metadata": {
        "id": "HUeUdY77iS2V"
      }
    },
    {
      "cell_type": "code",
      "source": [
        "plt.figure(figsize=(8, 6))\n",
        "sns.heatmap(summary_df, annot=True, cmap=\"YlOrRd\", fmt='d')\n",
        "plt.title('Cantidad de Outliers Detectados por Técnica y Variable')\n",
        "plt.ylabel('Variable')\n",
        "plt.xlabel('Técnica')\n",
        "plt.xticks(rotation=45)\n",
        "plt.tight_layout()\n",
        "plt.show()"
      ],
      "metadata": {
        "colab": {
          "base_uri": "https://localhost:8080/",
          "height": 607
        },
        "id": "ehIhBqS8iPmu",
        "outputId": "c1dc6332-93f7-4a74-a4a7-c30e7f391a6c"
      },
      "execution_count": 44,
      "outputs": [
        {
          "output_type": "display_data",
          "data": {
            "text/plain": [
              "<Figure size 800x600 with 2 Axes>"
            ],
            "image/png": "[encoded data removed]"
          },
          "metadata": {}
        }
      ]
    },
    {
      "cell_type": "markdown",
      "source": [
        "Interprete los outliers encontrados por cada campo y por cada técnica (Tabla o gráfico)."
      ],
      "metadata": {
        "id": "tUwd2WKAjAMw"
      }
    },
    {
      "cell_type": "markdown",
      "source": [
        "![image.png](data:image/png;base64,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)"
      ],
      "metadata": {
        "id": "_y432pEdi7UV"
      }
    },
    {
      "cell_type": "markdown",
      "source": [
        "**Revisar posibles errores lógicos o inconsistencias en la data**"
      ],
      "metadata": {
        "id": "d8skcQnnfPQl"
      }
    },
    {
      "cell_type": "code",
      "source": [
        "# 1. YearBuilt mayor al año actual (suponemos 2025 como año de referencia)\n",
        "errores_yearbuilt = df[df['YearBuilt'] > 2025]\n",
        "# 2. GarageCars mayor a 5 (poco realista para vivienda común)\n",
        "errores_garage = df[df['GarageCars'] > 5]\n",
        "# 3. GarageCars == 0 pero GarageArea > 0 (inconsistencia)\n",
        "errores_garage_area = df[(df['GarageCars'] == 0) & (df['GarageArea'] > 0)]\n",
        "# 4. PoolArea > 0 pero PoolQC es nulo (debería tener calidad asignada)\n",
        "errores_pool = df[(df['PoolArea'] > 0) & (df['PoolQC'].isnull())]\n",
        "# 5. Ver registros duplicados completos\n",
        "duplicados = df[df.duplicated()]\n",
        "# Consolidar resultados\n",
        "errores_detectados = {\n",
        "    \"YearBuilt > 2025\": len(errores_yearbuilt),\n",
        "    \"GarageCars > 5\": len(errores_garage),\n",
        "    \"GarageCars = 0 con GarageArea > 0\": len(errores_garage_area),\n",
        "    \"PoolArea > 0 y PoolQC nulo\": len(errores_pool),\n",
        "    \"Registros duplicados\": len(duplicados)\n",
        "}\n",
        "errores_detectados"
      ],
      "metadata": {
        "colab": {
          "base_uri": "https://localhost:8080/"
        },
        "id": "Z1QW0OOLfAou",
        "outputId": "a83d71ea-db5a-4bc2-dab6-aee94ccdad50"
      },
      "execution_count": 35,
      "outputs": [
        {
          "output_type": "execute_result",
          "data": {
            "text/plain": [
              "{'YearBuilt > 2025': 0,\n",
              " 'GarageCars > 5': 0,\n",
              " 'GarageCars = 0 con GarageArea > 0': 0,\n",
              " 'PoolArea > 0 y PoolQC nulo': 0,\n",
              " 'Registros duplicados': 0}"
            ]
          },
          "metadata": {},
          "execution_count": 35
        }
      ]
    },
    {
      "cell_type": "markdown",
      "source": [
        "**¿Qué campos estandarizó y cuáles normalizó y por qué, cómo lo realizó en cada herramienta?**"
      ],
      "metadata": {
        "id": "H0jCuUCBjvsM"
      }
    },
    {
      "cell_type": "markdown",
      "source": [
        "Definir columnas a normalizar y estandarizar"
      ],
      "metadata": {
        "id": "uKp5z-F5k7FV"
      }
    },
    {
      "cell_type": "code",
      "source": [
        "# Campos para normalización (distribución sesgada o con outliers)\n",
        "campos_normalizar = ['LotArea', 'SalePrice', 'TotalBsmtSF', 'GarageArea', 'PoolArea']\n",
        "# Campos para estandarización (distribución más simétrica o uso en modelos)\n",
        "campos_estandarizar = [\n",
        "    'OverallQual', 'OverallCond', 'YearBuilt',\n",
        "    'TotRmsAbvGrd', 'BedroomNumber', 'Bathrooms', 'GarageCars'\n",
        "]"
      ],
      "metadata": {
        "id": "cemCjmkmj6T8"
      },
      "execution_count": 49,
      "outputs": []
    },
    {
      "cell_type": "markdown",
      "source": [
        "Aplicar normalización y estandarización"
      ],
      "metadata": {
        "id": "j_sb3AE4k8rt"
      }
    },
    {
      "cell_type": "code",
      "source": [
        "# Crear copia para no alterar el original\n",
        "df_scaled = df.copy()\n",
        "# Inicializar escaladores\n",
        "normalizador = MinMaxScaler()\n",
        "estandarizador = StandardScaler()\n",
        "# Aplicar transformaciones\n",
        "df_scaled[campos_normalizar] = normalizador.fit_transform(df_scaled[campos_normalizar])\n",
        "df_scaled[campos_estandarizar] = estandarizador.fit_transform(df_scaled[campos_estandarizar])"
      ],
      "metadata": {
        "id": "J84yYwX_kOSd"
      },
      "execution_count": 52,
      "outputs": []
    },
    {
      "cell_type": "markdown",
      "source": [
        " Ver los resultados finales"
      ],
      "metadata": {
        "id": "n0--GJM4k_sP"
      }
    },
    {
      "cell_type": "code",
      "source": [
        "# Ver primeros registros de columnas transformadas\n",
        "df_scaled[campos_normalizar + campos_estandarizar].head()"
      ],
      "metadata": {
        "colab": {
          "base_uri": "https://localhost:8080/",
          "height": 206
        },
        "id": "Se92U4kQkxnl",
        "outputId": "a4c8878b-d6ea-4a10-95a8-8c7695c69858"
      },
      "execution_count": 53,
      "outputs": [
        {
          "output_type": "execute_result",
          "data": {
            "text/plain": [
              "    LotArea  SalePrice  TotalBsmtSF  GarageArea  PoolArea  OverallQual  \\\n",
              "0  0.033420   0.241078     0.140098    0.386460       0.0     0.651479   \n",
              "1  0.038108   0.203583     0.206547    0.324401       0.0    -0.071836   \n",
              "2  0.046507   0.261908     0.150573    0.428773       0.0     0.651479   \n",
              "3  0.038561   0.145952     0.123732    0.452750       0.0     0.651479   \n",
              "4  0.060576   0.298709     0.187398    0.589563       0.0     1.374795   \n",
              "\n",
              "   OverallCond  YearBuilt  TotRmsAbvGrd  BedroomNumber  Bathrooms  GarageCars  \n",
              "0    -0.517200   1.050994      0.941510       0.163779   0.789741    0.311725  \n",
              "1     2.179628   0.156734     -0.309268       0.163779   0.789741    0.311725  \n",
              "2    -0.517200   0.984752     -0.309268       0.163779   0.789741    0.311725  \n",
              "3    -0.517200  -1.863632      0.316121       0.163779  -1.026041    1.650307  \n",
              "4    -0.517200   0.951632     -0.309268       1.390023   0.789741    1.650307  "
            ],
            "text/html": [
              "\n",
              "  <div id=\"df-f9446dce-3010-41ca-b1f8-6466df49fa96\" class=\"colab-df-container\">\n",
              "    <div>\n",
              "<style scoped>\n",
              "    .dataframe tbody tr th:only-of-type {\n",
              "        vertical-align: middle;\n",
              "    }\n",
              "\n",
              "    .dataframe tbody tr th {\n",
              "        vertical-align: top;\n",
              "    }\n",
              "\n",
              "    .dataframe thead th {\n",
              "        text-align: right;\n",
              "    }\n",
              "</style>\n",
              "<table border=\"1\" class=\"dataframe\">\n",
              "  <thead>\n",
              "    <tr style=\"text-align: right;\">\n",
              "      <th></th>\n",
              "      <th>LotArea</th>\n",
              "      <th>SalePrice</th>\n",
              "      <th>TotalBsmtSF</th>\n",
              "      <th>GarageArea</th>\n",
              "      <th>PoolArea</th>\n",
              "      <th>OverallQual</th>\n",
              "      <th>OverallCond</th>\n",
              "      <th>YearBuilt</th>\n",
              "      <th>TotRmsAbvGrd</th>\n",
              "      <th>BedroomNumber</th>\n",
              "      <th>Bathrooms</th>\n",
              "      <th>GarageCars</th>\n",
              "    </tr>\n",
              "  </thead>\n",
              "  <tbody>\n",
              "    <tr>\n",
              "      <th>0</th>\n",
              "      <td>0.033420</td>\n",
              "      <td>0.241078</td>\n",
              "      <td>0.140098</td>\n",
              "      <td>0.386460</td>\n",
              "      <td>0.0</td>\n",
              "      <td>0.651479</td>\n",
              "      <td>-0.517200</td>\n",
              "      <td>1.050994</td>\n",
              "      <td>0.941510</td>\n",
              "      <td>0.163779</td>\n",
              "      <td>0.789741</td>\n",
              "      <td>0.311725</td>\n",
              "    </tr>\n",
              "    <tr>\n",
              "      <th>1</th>\n",
              "      <td>0.038108</td>\n",
              "      <td>0.203583</td>\n",
              "      <td>0.206547</td>\n",
              "      <td>0.324401</td>\n",
              "      <td>0.0</td>\n",
              "      <td>-0.071836</td>\n",
              "      <td>2.179628</td>\n",
              "      <td>0.156734</td>\n",
              "      <td>-0.309268</td>\n",
              "      <td>0.163779</td>\n",
              "      <td>0.789741</td>\n",
              "      <td>0.311725</td>\n",
              "    </tr>\n",
              "    <tr>\n",
              "      <th>2</th>\n",
              "      <td>0.046507</td>\n",
              "      <td>0.261908</td>\n",
              "      <td>0.150573</td>\n",
              "      <td>0.428773</td>\n",
              "      <td>0.0</td>\n",
              "      <td>0.651479</td>\n",
              "      <td>-0.517200</td>\n",
              "      <td>0.984752</td>\n",
              "      <td>-0.309268</td>\n",
              "      <td>0.163779</td>\n",
              "      <td>0.789741</td>\n",
              "      <td>0.311725</td>\n",
              "    </tr>\n",
              "    <tr>\n",
              "      <th>3</th>\n",
              "      <td>0.038561</td>\n",
              "      <td>0.145952</td>\n",
              "      <td>0.123732</td>\n",
              "      <td>0.452750</td>\n",
              "      <td>0.0</td>\n",
              "      <td>0.651479</td>\n",
              "      <td>-0.517200</td>\n",
              "      <td>-1.863632</td>\n",
              "      <td>0.316121</td>\n",
              "      <td>0.163779</td>\n",
              "      <td>-1.026041</td>\n",
              "      <td>1.650307</td>\n",
              "    </tr>\n",
              "    <tr>\n",
              "      <th>4</th>\n",
              "      <td>0.060576</td>\n",
              "      <td>0.298709</td>\n",
              "      <td>0.187398</td>\n",
              "      <td>0.589563</td>\n",
              "      <td>0.0</td>\n",
              "      <td>1.374795</td>\n",
              "      <td>-0.517200</td>\n",
              "      <td>0.951632</td>\n",
              "      <td>-0.309268</td>\n",
              "      <td>1.390023</td>\n",
              "      <td>0.789741</td>\n",
              "      <td>1.650307</td>\n",
              "    </tr>\n",
              "  </tbody>\n",
              "</table>\n",
              "</div>\n",
              "    <div class=\"colab-df-buttons\">\n",
              "\n",
              "  <div class=\"colab-df-container\">\n",
              "    <button class=\"colab-df-convert\" onclick=\"convertToInteractive('df-f9446dce-3010-41ca-b1f8-6466df49fa96')\"\n",
              "            title=\"Convert this dataframe to an interactive table.\"\n",
              "            style=\"display:none;\">\n",
              "\n",
              "  <svg xmlns=\"http://www.w3.org/2000/svg\" height=\"24px\" viewBox=\"0 -960 960 960\">\n",
              "    <path d=\"M120-120v-720h720v720H120Zm60-500h600v-160H180v160Zm220 220h160v-160H400v160Zm0 220h160v-160H400v160ZM180-400h160v-160H180v160Zm440 0h160v-160H620v160ZM180-180h160v-160H180v160Zm440 0h160v-160H620v160Z\"/>\n",
              "  </svg>\n",
              "    </button>\n",
              "\n",
              "  <style>\n",
              "    .colab-df-container {\n",
              "      display:flex;\n",
              "      gap: 12px;\n",
              "    }\n",
              "\n",
              "    .colab-df-convert {\n",
              "      background-color: #E8F0FE;\n",
              "      border: none;\n",
              "      border-radius: 50%;\n",
              "      cursor: pointer;\n",
              "      display: none;\n",
              "      fill: #1967D2;\n",
              "      height: 32px;\n",
              "      padding: 0 0 0 0;\n",
              "      width: 32px;\n",
              "    }\n",
              "\n",
              "    .colab-df-convert:hover {\n",
              "      background-color: #E2EBFA;\n",
              "      box-shadow: 0px 1px 2px rgba(60, 64, 67, 0.3), 0px 1px 3px 1px rgba(60, 64, 67, 0.15);\n",
              "      fill: #174EA6;\n",
              "    }\n",
              "\n",
              "    .colab-df-buttons div {\n",
              "      margin-bottom: 4px;\n",
              "    }\n",
              "\n",
              "    [theme=dark] .colab-df-convert {\n",
              "      background-color: #3B4455;\n",
              "      fill: #D2E3FC;\n",
              "    }\n",
              "\n",
              "    [theme=dark] .colab-df-convert:hover {\n",
              "      background-color: #434B5C;\n",
              "      box-shadow: 0px 1px 3px 1px rgba(0, 0, 0, 0.15);\n",
              "      filter: drop-shadow(0px 1px 2px rgba(0, 0, 0, 0.3));\n",
              "      fill: #FFFFFF;\n",
              "    }\n",
              "  </style>\n",
              "\n",
              "    <script>\n",
              "      const buttonEl =\n",
              "        document.querySelector('#df-f9446dce-3010-41ca-b1f8-6466df49fa96 button.colab-df-convert');\n",
              "      buttonEl.style.display =\n",
              "        google.colab.kernel.accessAllowed ? 'block' : 'none';\n",
              "\n",
              "      async function convertToInteractive(key) {\n",
              "        const element = document.querySelector('#df-f9446dce-3010-41ca-b1f8-6466df49fa96');\n",
              "        const dataTable =\n",
              "          await google.colab.kernel.invokeFunction('convertToInteractive',\n",
              "                                                    [key], {});\n",
              "        if (!dataTable) return;\n",
              "\n",
              "        const docLinkHtml = 'Like what you see? Visit the ' +\n",
              "          '<a target=\"_blank\" href=https://colab.research.google.com/notebooks/data_table.ipynb>data table notebook</a>'\n",
              "          + ' to learn more about interactive tables.';\n",
              "        element.innerHTML = '';\n",
              "        dataTable['output_type'] = 'display_data';\n",
              "        await google.colab.output.renderOutput(dataTable, element);\n",
              "        const docLink = document.createElement('div');\n",
              "        docLink.innerHTML = docLinkHtml;\n",
              "        element.appendChild(docLink);\n",
              "      }\n",
              "    </script>\n",
              "  </div>\n",
              "\n",
              "\n",
              "    <div id=\"df-e660080e-a3cf-4ec8-8438-0894d939ce71\">\n",
              "      <button class=\"colab-df-quickchart\" onclick=\"quickchart('df-e660080e-a3cf-4ec8-8438-0894d939ce71')\"\n",
              "                title=\"Suggest charts\"\n",
              "                style=\"display:none;\">\n",
              "\n",
              "<svg xmlns=\"http://www.w3.org/2000/svg\" height=\"24px\"viewBox=\"0 0 24 24\"\n",
              "     width=\"24px\">\n",
              "    <g>\n",
              "        <path d=\"M19 3H5c-1.1 0-2 .9-2 2v14c0 1.1.9 2 2 2h14c1.1 0 2-.9 2-2V5c0-1.1-.9-2-2-2zM9 17H7v-7h2v7zm4 0h-2V7h2v10zm4 0h-2v-4h2v4z\"/>\n",
              "    </g>\n",
              "</svg>\n",
              "      </button>\n",
              "\n",
              "<style>\n",
              "  .colab-df-quickchart {\n",
              "      --bg-color: #E8F0FE;\n",
              "      --fill-color: #1967D2;\n",
              "      --hover-bg-color: #E2EBFA;\n",
              "      --hover-fill-color: #174EA6;\n",
              "      --disabled-fill-color: #AAA;\n",
              "      --disabled-bg-color: #DDD;\n",
              "  }\n",
              "\n",
              "  [theme=dark] .colab-df-quickchart {\n",
              "      --bg-color: #3B4455;\n",
              "      --fill-color: #D2E3FC;\n",
              "      --hover-bg-color: #434B5C;\n",
              "      --hover-fill-color: #FFFFFF;\n",
              "      --disabled-bg-color: #3B4455;\n",
              "      --disabled-fill-color: #666;\n",
              "  }\n",
              "\n",
              "  .colab-df-quickchart {\n",
              "    background-color: var(--bg-color);\n",
              "    border: none;\n",
              "    border-radius: 50%;\n",
              "    cursor: pointer;\n",
              "    display: none;\n",
              "    fill: var(--fill-color);\n",
              "    height: 32px;\n",
              "    padding: 0;\n",
              "    width: 32px;\n",
              "  }\n",
              "\n",
              "  .colab-df-quickchart:hover {\n",
              "    background-color: var(--hover-bg-color);\n",
              "    box-shadow: 0 1px 2px rgba(60, 64, 67, 0.3), 0 1px 3px 1px rgba(60, 64, 67, 0.15);\n",
              "    fill: var(--button-hover-fill-color);\n",
              "  }\n",
              "\n",
              "  .colab-df-quickchart-complete:disabled,\n",
              "  .colab-df-quickchart-complete:disabled:hover {\n",
              "    background-color: var(--disabled-bg-color);\n",
              "    fill: var(--disabled-fill-color);\n",
              "    box-shadow: none;\n",
              "  }\n",
              "\n",
              "  .colab-df-spinner {\n",
              "    border: 2px solid var(--fill-color);\n",
              "    border-color: transparent;\n",
              "    border-bottom-color: var(--fill-color);\n",
              "    animation:\n",
              "      spin 1s steps(1) infinite;\n",
              "  }\n",
              "\n",
              "  @keyframes spin {\n",
              "    0% {\n",
              "      border-color: transparent;\n",
              "      border-bottom-color: var(--fill-color);\n",
              "      border-left-color: var(--fill-color);\n",
              "    }\n",
              "    20% {\n",
              "      border-color: transparent;\n",
              "      border-left-color: var(--fill-color);\n",
              "      border-top-color: var(--fill-color);\n",
              "    }\n",
              "    30% {\n",
              "      border-color: transparent;\n",
              "      border-left-color: var(--fill-color);\n",
              "      border-top-color: var(--fill-color);\n",
              "      border-right-color: var(--fill-color);\n",
              "    }\n",
              "    40% {\n",
              "      border-color: transparent;\n",
              "      border-right-color: var(--fill-color);\n",
              "      border-top-color: var(--fill-color);\n",
              "    }\n",
              "    60% {\n",
              "      border-color: transparent;\n",
              "      border-right-color: var(--fill-color);\n",
              "    }\n",
              "    80% {\n",
              "      border-color: transparent;\n",
              "      border-right-color: var(--fill-color);\n",
              "      border-bottom-color: var(--fill-color);\n",
              "    }\n",
              "    90% {\n",
              "      border-color: transparent;\n",
              "      border-bottom-color: var(--fill-color);\n",
              "    }\n",
              "  }\n",
              "</style>\n",
              "\n",
              "      <script>\n",
              "        async function quickchart(key) {\n",
              "          const quickchartButtonEl =\n",
              "            document.querySelector('#' + key + ' button');\n",
              "          quickchartButtonEl.disabled = true;  // To prevent multiple clicks.\n",
              "          quickchartButtonEl.classList.add('colab-df-spinner');\n",
              "          try {\n",
              "            const charts = await google.colab.kernel.invokeFunction(\n",
              "                'suggestCharts', [key], {});\n",
              "          } catch (error) {\n",
              "            console.error('Error during call to suggestCharts:', error);\n",
              "          }\n",
              "          quickchartButtonEl.classList.remove('colab-df-spinner');\n",
              "          quickchartButtonEl.classList.add('colab-df-quickchart-complete');\n",
              "        }\n",
              "        (() => {\n",
              "          let quickchartButtonEl =\n",
              "            document.querySelector('#df-e660080e-a3cf-4ec8-8438-0894d939ce71 button');\n",
              "          quickchartButtonEl.style.display =\n",
              "            google.colab.kernel.accessAllowed ? 'block' : 'none';\n",
              "        })();\n",
              "      </script>\n",
              "    </div>\n",
              "\n",
              "    </div>\n",
              "  </div>\n"
            ],
            "application/vnd.google.colaboratory.intrinsic+json": {
              "type": "dataframe",
              "summary": "{\n  \"name\": \"df_scaled[campos_normalizar + campos_estandarizar]\",\n  \"rows\": 5,\n  \"fields\": [\n    {\n      \"column\": \"LotArea\",\n      \"properties\": {\n        \"dtype\": \"number\",\n        \"std\": 0.010673545980985619,\n        \"min\": 0.03341980415527355,\n        \"max\": 0.06057631634298535,\n        \"num_unique_values\": 5,\n        \"samples\": [\n          0.038107924933978354,\n          0.06057631634298535,\n          0.04650727990838767\n        ],\n        \"semantic_type\": \"\",\n        \"description\": \"\"\n      }\n    },\n    {\n      \"column\": \"SalePrice\",\n      \"properties\": {\n        \"dtype\": \"number\",\n        \"std\": 0.058359526622476475,\n        \"min\": 0.14595195111790032,\n        \"max\": 0.29870851270656856,\n        \"num_unique_values\": 5,\n        \"samples\": [\n          0.2035828357172615,\n          0.29870851270656856,\n          0.2619080683238439\n        ],\n        \"semantic_type\": \"\",\n        \"description\": \"\"\n      }\n    },\n    {\n      \"column\": \"TotalBsmtSF\",\n      \"properties\": {\n        \"dtype\": \"number\",\n        \"std\": 0.0342915481657991,\n        \"min\": 0.12373158756137481,\n        \"max\": 0.2065466448445172,\n        \"num_unique_values\": 5,\n        \"samples\": [\n          0.2065466448445172,\n          0.18739770867430444,\n          0.15057283142389527\n        ],\n        \"semantic_type\": \"\",\n        \"description\": \"\"\n      }\n    },\n    {\n      \"column\": \"GarageArea\",\n      \"properties\": {\n        \"dtype\": \"number\",\n        \"std\": 0.09851679447560158,\n        \"min\": 0.3244005641748942,\n        \"max\": 0.5895627644569816,\n        \"num_unique_values\": 5,\n        \"samples\": [\n          0.3244005641748942,\n          0.5895627644569816,\n          0.4287729196050776\n        ],\n        \"semantic_type\": \"\",\n        \"description\": \"\"\n      }\n    },\n    {\n      \"column\": \"PoolArea\",\n      \"properties\": {\n        \"dtype\": \"number\",\n        \"std\": 0.0,\n        \"min\": 0.0,\n        \"max\": 0.0,\n        \"num_unique_values\": 1,\n        \"samples\": [\n          0.0\n        ],\n        \"semantic_type\": \"\",\n        \"description\": \"\"\n      }\n    },\n    {\n      \"column\": \"OverallQual\",\n      \"properties\": {\n        \"dtype\": \"number\",\n        \"std\": 0.5114611943015324,\n        \"min\": -0.07183611428306244,\n        \"max\": 1.3747946009344731,\n        \"num_unique_values\": 3,\n        \"samples\": [\n          0.6514792433257054\n        ],\n        \"semantic_type\": \"\",\n        \"description\": \"\"\n      }\n    },\n    {\n      \"column\": \"OverallCond\",\n      \"properties\": {\n        \"dtype\": \"number\",\n        \"std\": 1.2060579516960799,\n        \"min\": -0.5171998069472914,\n        \"max\": 2.179627757849301,\n        \"num_unique_values\": 2,\n        \"samples\": [\n          2.179627757849301\n        ],\n        \"semantic_type\": \"\",\n        \"description\": \"\"\n      }\n    },\n    {\n      \"column\": \"YearBuilt\",\n      \"properties\": {\n        \"dtype\": \"number\",\n        \"std\": 1.2399284648131115,\n        \"min\": -1.8636316508433721,\n        \"max\": 1.0509937888999856,\n        \"num_unique_values\": 5,\n        \"samples\": [\n          0.15673371079690998\n        ],\n        \"semantic_type\": \"\",\n        \"description\": \"\"\n      }\n    },\n    {\n      \"column\": \"TotRmsAbvGrd\",\n      \"properties\": {\n        \"dtype\": \"number\",\n        \"std\": 0.5593645977298797,\n        \"min\": -0.3092675291560489,\n        \"max\": 0.9415097355747865,\n        \"num_unique_values\": 3,\n        \"samples\": [\n          0.9415097355747865\n        ],\n        \"semantic_type\": \"\",\n        \"description\": \"\"\n      }\n    },\n    {\n      \"column\": \"BedroomNumber\",\n      \"properties\": {\n        \"dtype\": \"number\",\n        \"std\": 0.5483928291191063,\n        \"min\": 0.1637791168735145,\n        \"max\": 1.3900227611572622,\n        \"num_unique_values\": 2,\n        \"samples\": [\n          1.3900227611572622\n        ],\n        \"semantic_type\": \"\",\n        \"description\": \"\"\n      }\n    },\n    {\n      \"column\": \"Bathrooms\",\n      \"properties\": {\n        \"dtype\": \"number\",\n        \"std\": 0.8120421097190521,\n        \"min\": -1.0260408358133,\n        \"max\": 0.7897405221108432,\n        \"num_unique_values\": 2,\n        \"samples\": [\n          -1.0260408358133\n        ],\n        \"semantic_type\": \"\",\n        \"description\": \"\"\n      }\n    },\n    {\n      \"column\": \"GarageCars\",\n      \"properties\": {\n        \"dtype\": \"number\",\n        \"std\": 0.7331717183824604,\n        \"min\": 0.31172464418307205,\n        \"max\": 1.6503069397927341,\n        \"num_unique_values\": 2,\n        \"samples\": [\n          1.6503069397927341\n        ],\n        \"semantic_type\": \"\",\n        \"description\": \"\"\n      }\n    }\n  ]\n}"
            }
          },
          "metadata": {},
          "execution_count": 53
        }
      ]
    },
    {
      "cell_type": "markdown",
      "source": [
        "Se aplicaron dos transformaciones distintas a las variables numéricas del dataset:"
      ],
      "metadata": {
        "id": "X_3OKXDelWS3"
      }
    },
    {
      "cell_type": "markdown",
      "source": [
        "![image.png](data:image/png;base64,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)"
      ],
      "metadata": {
        "id": "0w98XCSBluqO"
      }
    },
    {
      "cell_type": "markdown",
      "source": [
        "Se aplicó normalización (MinMaxScaler) a variables que tienen distribuciones muy dispersas o con outliers, ya que esta técnica conserva las proporciones sin exagerar los valores extremos."
      ],
      "metadata": {
        "id": "41U6Get0lza2"
      }
    },
    {
      "cell_type": "markdown",
      "source": [
        "![image.png](data:image/png;base64,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)"
      ],
      "metadata": {
        "id": "njbQJ7t8mN1f"
      }
    },
    {
      "cell_type": "markdown",
      "source": [
        "Se aplicó estandarización (StandardScaler) a variables que son más estables y con distribución aproximadamente normal o ordinal, útiles para modelos lineales, regresiones o PCA."
      ],
      "metadata": {
        "id": "6kPrtcosmcWW"
      }
    },
    {
      "cell_type": "markdown",
      "source": [
        "![image.png](data:image/png;base64,iVBORw0KGgoAAAANSUhEUgAAAgAAAAFMCAYAAAC9CgRwAAAABGdBTUEAALGPC/xhBQAAAAlwSFlzAAAOwgAADsIBFShKgAAAV35JREFUeF7tnTGuLLfWXv8pKHWqIVhzEDwCJZ6AAk9A8AQET+BmLzGg1MGvyMkDFDhV4FSB8wv8Q7i+67yznj7xkXW6T3X36a7+FkBUFbm5uUlubrKqz5X+7Stfmh4rwSy/6Vjpf/7Pf/vyH//xb1/+63+dlz9Dqq83vZW6Tk5LM77mz4Wb7je9TlzTgRPBjMD2n/7TvPxZUn29aSt1nZyeZnzNnws33W96nbimpsOn+npT02XSjK/5c+FbJ05wnz7941POV7NeEie7UcayzP/v//3PfOpn2f/9v3+WIfdf/sufzybqjG1hy//7f3+W/6//dT+nTJjlP3r63//7r/NCIi8/7f2P//GvMqT/83/+Uc78ph7mjnm3PvfOKwn/IH/WNmXos66+yZX8mS3ozva2/HrUZ50t30tfp33rqCv1HCHBLP+oifkb/SJ90znHJ1IG/yDPuiT8jLXj8yxRnvpXMZLkGhvt0/bV2jKt4rdlXSfXTTO+5s+Fb510QoMnk6bDmXJS/9t/+2sZsk6uZen8qYt78ijHYca2cSyeufJsu6M9H5Vglv/oyflynHke55TEM8nn9BUCAuk//+d/zC35ziNy1CNQ8Gyg437WNs+0zzNJv8jDIs/qoE0DEvfkbfn1TN8pvsc9edhmwEM+9RwlwSz/yGn0AeaYZ1LKpYwHAvyWZ3wBP+GZKzpSL8/4D+X6em7Y+pj63vLbrbVl2orfXSfXTzO+5s+Fb5l0FpxgVm7CQZ14Hc3EZLsI1MOzjjVzDJ17dCYchkCuPGkM7B+ZYJb/6MlAlHPlws7gxDPJ50zkM1cu+EzMK2nMJ83aHtsZ/WQmk771ll/P9J3ie7RhnnW5pp6jJJjlHznN/IJnUsqljH639WY700ua+X76ccqSZnq21pZpFb+7Tm6TZnzNnwvfMs0meEw4CQ7kaXicfCabUyWOQTmOyz15PK+cG30eEnieLYasM55cPyLBLP/R02zsnW+SefnMm0L6DT5CGVf0mb+a11X5TH7mpzyTuPcLAH6H3W/59Vi+spFn8vU9nj0Y0RbtomPVziMnmOUfOY1+QeKZlHIpw1stz/iDb9FjmuklzfxOn6OMlGWjnpXfZtqK3yu7VuVdJ+9LM77mz4VvmcYJniUcnGDPvROdp13ycAy/AuBg3M+cxfomZF00bznXPTgPzPIfPa3GnjzS+GzKOWGRewgg+aax0m2yPNP4RjLz07EObeuXM/lMY/mpvsczstanj9xbfqQEs/wjJ+c155NnUsqlDBursY/kZpvyM72kmd/pc6YsG/W8tbZIW/F7ZZfp1PbUqxzPz7JOTkkzvubPhW+ZnKCtieEEh0ymlHeycSrLud9ybsrMM73lXLM6t04wy3/0NBt73xiYf/N4JnE/fgEwcaDTZ7hfzaspy2nTujnfMz/lmeRzppn8VvnKxtH3eOY+7TS4Zb0jJJjlHznN/IZnUsqNMiT8wgOwh1/TTC9p5nfpc6QsG/XM6o9pK36v7DKd2l7a7DP3z7BOTkkzvubPhW+Z/Eyz+g2ITzpZ5iaPo5vnZHNPvs4xc5bRUTLNNhySi8rflz4ywSz/0dNsrvwJJ+efZ5LPq5SBg3njfpxX09i2ddOW1GcezySfM73l16O+U30Pm/Rd26BO2nWUBLP8I6dT/WyUMc3WEWmmlzST5548/SzTqOettfVW/O46uU2a8TV/LnzLxITyGZ4JcsKYJB2S6zhpyI6T7W8/mbaceyZP8lOabeo89/LXozDLf/Q0zhVzy6Jm0fq5kIQMyWf/Ypj6+JE+QUBBTp/y2Xm1vbw3KBnUsj71sj5JGXzYPNNbfj3Td4rvUT991zZSz1ESzPKPnGZ+McYsfJ5n1wX3+phloz/4dwJjvr6vX5JsT52ZZvZtrS10jW1SRmKddZ3cJs34mj8XvnXCkXUiEkHf34181tmdfBKT6uRzP+pNnch5+lzJk3BI2qZN5e7JaWCW/+gp54rE+JOXm7/+MCYWO3IucpK+YV3mFd9xXq03tk0b5Oln+p71fE5bkLWdTMjN/JqyUR95b/nezNcNtkcMbDDLP3JiHsf5HP1o9G3ffknpY1k/y/U3Uuo9JUau/Ha2tk6J3+RR1nVy3TTja/5cuOl+0+vENTUdPj2br7OxsXGyUfklq6npEmnG1/y5cNP9pteJa2o6fHo2X+fNlQPA7NN7U9OeNONr/ly46X7T68Q1NR0+1debmi6TZnzNnws33W96nbimpsOn+npT02XSjK/5c+Gm+02vE9fUdPhUX29qukya8TV/Ltx0v+l14pqaDp/q601Nl0kzvubPhZvuN71OXFPT4VN9vanpMmnG1/y5cNP9pteJa2o6fKqvNzVdJs34mj8Xbrrf9DpxTU2HT/X1pqbLpBlf8+fCTfebXieuqenwqb7e1HSZNONr/ly46X7T68Q1NR0+1debmi6TZnzNnws33W96nbimpsOn+npT02XSjK/5c+Gm+02vE9fUdPhUX29qukya8TV/Ltx0v+l14pqaDp/q601Nl0kzvubPhZuampqampqOkWbMc8tds5rMUo5Gfb2U/fQAcCAaFMuzUF8vZT89AByIBsXyLNTXS9lPDwAHokGxPAv19VL20wPAgdgTFH///fcvP/zww4sO0rfffvuSt4Kyb7755svPP//8mvOP9n/77bfXpz/55ZdfXspS9hR+/PHHpc57hXH7/vvvX5/WIEff3sIxmMF4ntLWLdjqj/N/yXk8ZexKKdus1lFX1wPy3qD4+fPnl82czcbn77777s2AzQZ0ygEAfvrpp7MPAHCKHfcEtp6yKTPGp87XSu6eDgD0e6s/2HnJeXyvr5dS/mS1jrq6HpD3BsVPnz69vMGdy3gA2OIc2eTSG8e1OfUAAKfO1yNsdj0AlPJ4rNZRV9cD8t6gyKd/3/5neEBAP2/ykpv67HM9suTxdYE3+TwArHTyZsxmQT7lpNnGwWdl65vUTxltkkff0OlPFjxrFzZRJmmvNuXPF9qFPX/88cc/fzLBDn8uoWx1AEBGm9UlY79pV1JO7I9tOf45LurY6rttMh8p61iST/lqXh0nypUjn5R9oJ23dJwDdUsp+1ito66uB+S9QZHgnJtzwgbAxgFuhkKdrEeZQZ58Nxk3mtxUVjqR8zDCJssGkRuH5AaDvHXcgNyQ0efmRvtu1tjE/creUQfJfmQb5OXhhjJkRtSpzb/++uuy3+qX1bzSZraFnJspfc6yse/opz3ukaVM0GF/YGteHQfKkbN/6Mw+OG6w0nEOqzEppZzOah11dT0g7w2KBOdT38KyDQL5aqNAZ5aNsknqTB2QG0fCppEHAA8UtIGOTLbLNTfF1M39WG/VlxHKLKdOtiHkozPJ52zXJHmfjP1BTptHO7b6PtqW/YHUSz2eM1E26gDLINtb6TgH6pRS9rFaR11dD8h7gyKbP29kM3gLZ4P1s3K28dZGkWUpu6UzdUBuHAlvmNbFdt8gacM36RHK0CfjpuSBYmTsCyBLvjZYjr5sQ8hHLsln7hmXGWM9GfuDnP0Z7djq+2gbstnf1Eu92TiNOoBn5yXbW+k4h7GtUsr5rNbR1VcXAYa3OAwggBscbgHBh3Ztk40ogyPwidYNiqufkfcwa+eSvDcosvFQ1z7y7Jz4uzGfasfP1sxhfjnIMWUTpq/UYxOg724qWzqRUyfzhI/MfGN1YLGOGw99crOh/Rx/7mkfsBedfpbm2Q0ZudwQ0W0byNAfy7F1ZptjbHv0cey3Bxd1CnLYNDL2J8d/tGOUdX6Ba9qSsuMcrMZJHcqhgz7JqWN9KmnvJXBO0Zspx+wSXDsGjBjr9E/g2Xl6D45V6hT6h/4V9H1W7xLgR9k3ffJSqHs2pueQNiZ79b6H1fhcdnUN0EECgIueZxzq3CCwBxwxHSUXJc8Z9LgyUAaw9zK2c2lWk3kK9M3FS2J+WOg6JWU8c89Cy4DJvYvPoM9cooM8NjvneEsnOPYk5BgvdSbqNiHnJkl72uZhIu1FrzaQB9Rl0zWPctA+8rgHZFd9cwxnB0a/Wsz6zbM6LQfHNQ8EQHn2Zxz/0Y6Ute+jbNqCPAnZnIPVODFv5COrbvtge8jDSsc5UPfSMI+5PrE/ny/BtWPADH1UGDvs2AP6Uqegd2tu6Pus3qVgDdm3t2yRU30px21PP7bGf5yra7Pq++VXV8CiHzdTAsYtO84EpqPkoiQ4uXEIwXHvwh3buTSnOvKjw+FiHMdc+OX4XMPXiT/XXJ9w7Rgwg35dOraudNK/j4xDjO05cYDD6HvspZ1LjylcY662uPkBgFM1jY5v+26wlHMYyDcDnymzHB0EfZ5ThjpcXWS8ASmfm3o6yrgos23xLQZ825JsD9Dn2xz5OJn5KXdp0qYjwzgyp44rvsSzvlCOzzV8ncDr+sSXcq1m3Mn4gA8iRz7JGHNqDFjJJdkGbbtBYBPPvrBQbpnPlKPffGMX7cIYN0m5jlbxE33qTNCrfvU5VsbQrJd2qj/l7Ldfp0ZybLCTlH0jX2yLxJiAY2/629/+9mLLOKbjuNEm+X7JyrmjXZ6BsVQHjHogxyDnClbjfynQO+NqO4kOMuJkg44tdJwvBgxwOpQTADocZdyji8GzXKcSyp0E5QU5y4Rn62NH6hptZ8KQYWNKXWM7lyZtOjKMLQuJ+abPjLc+UZ6Da/g66xi9plyr3PtzCvHIIE2+mxPlPJ8aA7bkkmyD8pTDDnSgi3sTGwl6SdTXXhjtyZhKvFR2K37azoj2qQ8dGcvTFq5pJ3L0A5AjkU9etp3k2DCG6Mi+WY/7HOu0adSNXeOYAnLq1j50oRN5/YO9ijLhXh2QesYxSNmt8b8UK52Xb+kVJ4WBS5hEOwsMqD8TOJjWzTSWbZHl1HMSuKoHkBs3FJ5XTsOEZf1kq51L81b/SzkK1/D1XMcE/1yrrH9iEjIZu7DD9b3i1BiQcsnYBnJuErPYk+XAfT6nPq45lqNscorcqA+yvbSNe8oyzeSAshlZB6jnc9rC5spGyx4z/vw86qZd9Ixs2Zd1kMn6o+xbevI5Ge28BCudl28poNFxg2VyPEEB9xwKkFOWQWMRzsjJFhYqOqhDWZYz8E7CbMI8VQqn/jygpK6cfByNZ/pjm6t2Lk3aVMqRuYav5zqeQTwhDhBPfFPN9S2nxoAtuWTMpz71YGZzlgP3+Tzaw7Ok7Fb8HHXKqA94zjd763E/7gMy9mHUKeSPY7PqG9AeMhnfRxnaRWYk2xrt4979AZmsP8q+pcfnrfG/FCudl28psFOepP1MxIIQysjLTZc8DM4Dgb+LzCabupSjl1NfljPwngSpyyIU9CPrJHHNT0tgObrR5YTTF+6xVb2pJ9u5NGP/Szkq1/B1Aq/rGNi0jD+sf+MVa9iXFeJYxiDyT40BW3IJbbhhYRN9d0MdbQZkySM2IUf93GTG2JZjiZz92YqfKZeoT/3I0b5gl7ZgJ31GP4lnxzjlAJ3IjOT4E7czTmff0l76gpwgwzgxH7SP7DimkP2inPHBJupgR+5L6KfsrfHfmqut8b8UK52XbymgQ3SMQcIABkCHThgAF5owyAyS9dAFyJLnQgE3cuTRb7n5OoH6si0mwXyuHhYEPZRhg5ODXtpBL4lnyqkPs3YuCbpLeQYu7euuW/RmYv0C18wz7hi0M//UGLAllyDHRkk9ypEVbc48NiTlibPEMuTQY9wa7SFfe3jmHp3K8rySS9jYiMWOl3VBfdrCWBm3ybMPo5w2IzviZmv92VhTnzKfsy1QvwcEynmeyaibdhzXrAv069Tx35orxwFZnrmn/iVB54zuJK8wCUyIJ7Z7ZjWZZQ2L1UXpHJPnQjwHFjO6CA4j+hHtZLAwYGWwKW9TXy9lPz0AnACbAQNFAB+/BNwTDYrnw4bNmwWbPnDSZoPmDe2c8cQv8JPZAYCDAbrQzT1+lBs+Bw/KH+GQeS/U10vZz2oddXU9IA2K5+PGPOKmfC4cAsYDAIeJzOOAMX7O5OCQXwbKNvX1UvbTA8CBaFA8j61N/pIHADZ78mUmM8sra+rrpeynB4AD0aB4Hrc6APD81gGAnxB6ADid+nop++kB4EA0KJ7HuQcANmjyMo2b9mxz5wtAft6fydBeDwCnM85NKeV8Vuuoq+sBaVA8j1t9ARjzOAzwm3/SA8B51NdL2U8PAAeiQfE8tjZ5/9sO58LmPm7k/htervxrA/7ZH20nPQCcR329lP2s1lFX1wPSoHgeqwMAG7H/Zp/N+pS/zmdzpx51SPzHPfKf+vEvAdBJmumbfTkoa+rrpexntY66uh6QBsXzYcxm/wzw1vSfAZ5Hfb2U/fQAcCAaFM/H/3CP/yGgj4AvEXwZGH8WKGvq66XspweAA9GgeD6z/xTwLeHw0f8U8PnU10vZTw8AB6JBsTwL9fVS9tMDwIFoUCzPQn29lP30AHAgGhTLs1BfL2U/PQAciAbF8izU10vZTw8AB6JBsTwL9fVS9tMDwIFoUCzPQn29lP30AHAgGhTLs1BfL2U/PQAciAbF8izU10vZTw8AB6JBsTwL9fVS9tMDwIFoUCzPQn29lP0sDwAUNDU1NTU1NR03zejx+gFZTWYpR6O+Xsp+egA4EA2K5Vmor5eynx4ADkSDYnkW6uul7KcHgAPRoFiehfp6KfvpAeBANCiWZ+FcX//uu+9e6nCVH3/88SXv22+/fc35V5Qpf4Ux+8hx+ej24R5s2MvK/nr8A9JAVZ6F9/j6N9988+XXX399ffry5fPnz5ubvxxlXX3//fdffvvtt9enfTB2HzkuH90+3IMNe1nZfwyPfzKOEqhKeYv3+Dpv8z/99NPr05cvv/zyy1+eVxxlXfH141IHAPjocbmHeXl031jZfwyPfzKOEqhKeYv3+Dobfr7x//DDD1/++OOPl3uuPKMXmd9///0lH7It3vp4kyaPLwo///zzSz7yPKODQwXllvlMuQeO1ENaHUSsS/Lni6yLrfQLuKcNnrmS7EfqIWHbKI9OdCNrfXUDuqhDfduX1biA+ikbx3bkEu0jk/Vm7XNFHnimLG3+9OnTP9vKuXnLhpXt4k9KqSfb5YDmz1XoRycgq06ulr3V3luk/ck8t9w1q8ks5Wi8x9cJmNRjs+c+/x6AAEpQNj+DcrZF4CWIA8GaMt+q3VTRw70Jfegl2Q75HBaAnyXcjJKsSx3tGG1AZ967EaAfHUI9bYWU555y6rD5AW1ol7arG5tPHRfuHdvRhpFLtT+Oie0zP+SNY869Y0X7zg3t2c5bNqxsH6GOhwp14JPYiH20wzP5jpX9OGWuziHtT+a55a5ZTWYpR+O9vk6QJGgSSA2eI2wEuXFmWxmUITcOrmMQ5pk6mahvsCdwcz8jdSejPhKg13sY+4G+tH2UH6Hc/sxk85n71J2200cOMow5m9upnNv+mGA2J5C6Ie0dUddbNiSj/mSmA/kR6ps/azvZam+Llc51S+Vu2XKQUo7Ee33dtztSbkZsTgRQ9JJyM8i2uM9gnRvHbLPh2TfGEdrHHg4CM5nUnWCDP10k4yZB3ayPvrR9tqmQx9jwtkmZ/ZnJ5jP3qXu0nTIPAluHgD3tz8ZkNieAvsxPe9GDrcwLem3nLRtWto/MdFCXccEGxog882HW9qntbTHqlHnuBeC0i6E0jOF8CjnnVLgXJtWBYtHlIAP2Majkk5BfndDfA441tnkp0PuI8BksnZ77S8Hc4We5OLjP4DRjtuDA/GvM30ehTz4S77WX4I4/sMZFH+FKOWXpH7RljPKtHZCnzPgw22xy0yPxTBvI4fdADEx7BFnkqEcdPxunDdoLo89ij3UAXRw4sJfYN/NxxoEy2sz+0A6yaXPWXY0LbdgHkvkwtg2XaD/HBF3oJA+dymAX+eRhD/Wdc+qinzI/0cNbNqxsH6EOcoAu7WBuqEM72IffcIVz5uocRp0yz90JhmK0n97oKAOfTnptdEjh3kHWPp2E55yES3ENnbCazHtGx3ZBsBiZg0vCIhvn3MW+QrtGqKutR+LRfGePvcQcgzi4ztFJLMI38EF8kVhAvhsKecqiJ32BOuRnHrqpSz7lltGO8uhxU0yoi7+NMqMN5nNPHjaTp37LaZtndKZdxjuwv8i4+WkzcZtn28y6o03WyXySsZ7Yj30jl2qfZ3GjzvHfmnPHadbOlg1btifKqCfHChu0ExnK4dy5OhXqzLhKNGDwGPTEwb4VBHYGTLh3M8Y+B/yaZJuX5JbjeClw7HTqazDOeflXHs13HtHXy58Qa3OTfibuyXdXtlzFwlmw97MKQTpPZOAJx1NNnuRmMmze3EPqI/hz4jN/dQB4azPCYW2Dq28RHmL8DMN96hlP8iTbvCTofzTyVD7DOXdMnUfG0LqemjOgmE89xt45z7mSlEVvzrPkHCJrfU/t+I624nfamSCrT5q0K9tEhudTdKftyFGWfdRm/I21hgzP9lPIeyQezd5SBN9lLd4Dq3V0ldVFMMrAKxjhhkgwMzCxwbrRU8/gR0o56iOX+QQ4nvOAAVwNusC9ZSv7QN0EV0COZ/KBuiSeaT8HlnwPBH76ss1LsprMeybnZiTnnHFjTp0f6uR8sLGNZfoHvsEcSM5zytIObZBHWs2hZVwBXW6oqWMEG9WB3cgBdbIv6EPW+5VurtlPbOTNynsSdbimLHmMq2MAj+Y7j+jrpbD+8V3X90ezWkdXWV0ZRMUN2iBGuZs+956UqItcJgNh3s8wAAJXniXLuLftEWRoJ8l2qbsKqKN92eYlGe17BLDZLykj45hyTx6M80GZsikHyOZz6h1lZdQ/m8OVDu5n8zseANiQwbYyqW9LN2VjPW1CzvsZlGU5dR+JR7O3lHtktY6usroIOL71CMHfQAgcBJBh48/DAgHNN6QROpEBlzcc2uIth7Is57oKqGz+1JmBzDhYqXcMuCmbcpBtXpLRvkeA8V4dusYx5d65G+eDMmVTDpDN59Q7ysqofzaHKx3cz+YX30YPCR/Xn5Ed14Vs6aZsPFBL2ie0R742ZDnPj8Sj2VvKPbJaR1dZXb7tG3h4Hj9FAsGQQOXbPxDokGVzJ+XXAXRmwOUzqPXJp57lPgtyvoFqn59RtY86lhm0kcmDyxhwkcVOoD9ucr75pb2XgjYfjXE8uDqu45wzjs4Nctlfxn4cY+aMeswNSXKuRlk31FE/bVvmRu5XK3SN+mdfNbBvNu+jbyFjX7Z0a7t2MDbqyD4CMsrSXv5kArSvvz4COTellPexWkdXW10EN4I6DROQMggJgWz8jYTgRJ71DHTIkpdvUAY75QiGlnNF3mCpPiG4KkPCVgMs8paN+eohj42CZ/tAn1f2XBLafETwAcYG+0lueOOc55cC54Gxdr55dk6s54bJPWM/zhWg1zzKIfUDsvotZcpl26P+EdsxoUcbqGeb2EzfT9GNTmUcH+opp370aT9yjjnlo78+AthbStnHah11dT0gDYr3DRtwvmW7EZfzqa+Xsp8eAA5Eg+J9w/zkGzlv3P6kUc6jvl7KfnoAOBANivcNb/t+5ufzu5/sy/nU10vZTw8AB6JBsTwL9fXrwLiOaQZfsPhbFWU8zK7y+fLl4Zdr/iEreRyOrcffTKUe5JErl4fxndHV9YCsJrOUo1Ffvw5stmy+JP5mxT+CHWHD9o9G2czZrIGrdfh5i2d08cXLTdw/QCUfkFGOKweA1OMfUZfL0wPAgWhQLM9Cff16zDZ/xtsEvtEj49+1AOVs2AnP43ylHJv9+MewtpWpXJ7VuHa0H5AukvIs1NevB2/2bMpvwUGBt/z8RM+8XOoAwH+volyX1Trq6npAVpNZytGor18H3uj956okNvcZbNr+js/v/P4cgLy/+7PBc0AY/0NX5OUn/dkBwK8L4H+4qlyeHgAORINieRbq69eBcR3TDDZ5NnHK2az9GSD/2I+NnUMEsPmbzwEj5clDV/6UwD1yo/5yWRjfGV1dD8hqMks5GvX1UvbTA8CBaFAsz0J9vZT99ABwIBoUy7NQXy9lPz0AHIgGxfIs1NdL2U8PAAeiQbE8C/X1UvbTA8CBaFAsz0J9vZT99ABwIBoUy7NQXy9lPz0AHIgGxfIs1NdL2U8PAAeiQbE8C/X1UvbTA8CBaFAsz0J9vZT99ABwIBoUy7NQXy9lPz0AHIgGxfIs1NdL2U8PAAeiQbE8C/X1UvbTA8CBaFAsz0J9vZT9LA8AFDQ1NTU1NTUdN83o8foBWU1mKUejvl7KfnoAOBANiuVZqK+Xsp8eAA5Eg2J5FurrpeynB4AD0aBYnoX6ein76QHgQDQolmfhEr7+yy+/fPnmm29eEvfw+++/vzyj37wRZX7++efXnLLFt99+e9XYhO7ffvvt9eltfvzxx7/Ywzx+//33r0+XBR86175bspqX7iQPyDUXWSn3xKV8/dOnT1++++6716d/8NNPPy03f2HTOOIBgI3w0pvV58+frxqb3rPBpj3XPADANcb0UqzmpTvJA3LNRVbKPXEpX//jjz9edLFJCW+s+TzjqAcADkPX2KzuLTbd0p4eAMpNuLdFVsq1uKSvs+HnTwB8Iha+EPgJmy8DMh4AqO9PBwR89ICfmynPT+GU+8ymq3zqodz8JOvmzxfn2GCdhP5RZqJ/HITQxTN1rce9bXMlpa1po/VlpfMtO2f9to4bLLrphzZl/YQ6gE7ksAeQp4y+a2P6w8p2WPkK8lsHAG344Ycf/jkH+EQeQnNusCfL9oC+GZdbXeVmrCazlKNxSV8nuBrkuf/1119f7gnoBGVwY5A8ABDcCeAEcgIzddxQgHropQw5r24e6LEdZNUz2zjGutSj/qk2AP3KsmRsk2fHxjbyfrQDRhsZzxy7lU5Y2bnqN1BHm8mnHtDGqp9pD3pSjnsSbTKep9i+5SvU0b4V2MDhwfnj3jqUeSDgixVl9n0vaWcyzy13zWoySzkal/T1DOTj3wMk2SYB2CDMNTcQ9KUs97kBWJ7J+mwu2MAmQsAfGXXLOTZwTdlk3Ky0LxOM+nM8xjLIZ/VkEu5nds50StZJsv5I6hrHjnv7AqN9Y5qR+eOYzpjZYJ3RnlF2D0v7X6/lgVhNZilH49K+7tulb5/A2xYbsp91s02CsEF5DMjjZsV9bgDco3MF5R4ExkPAqFvOsYHragMhXzmgHuMwMurP8RjLYLRlphMom9k50yljHd7EmU/yV/1MXePYcW9fIGW5n9m+5SvjmM6Y2WCd0Z5Rdg9pZzLPvTIMIAbl4jCP6yXw80wmFhqfXk4hB1/b7oV7smUFc+snuoQFxKIlAOP4foZ9D8wlui61SI7AGESE/Eccp0v7OmsZn8k4wEbip/vxMzZj6WGBmJJ1qefnYKBebgD4OnnUA8r0e+aC9kjIjHHJuvkzBfXOsYHr6ksH7aMTPehkvRp7aVud6ECn5HiMNpKfsiudsLJz1W/IOowBdjN+WxsldTxcjXLc51pJ2ZXtXFe+gj7txs6ZTTMbrEN7HgZJqxj6HtLOZJ57AxjEHAgm0wG/FOh3ghlQJm82KTPGicoBpCwd59asJvNeIKjgyLPgw7gxF+nse2DxnDqnt+Yj/CR9XlxbBLJH49K+zliMfkke7RBw8V3uGS/u2Wh4dsMlbplHPNF/CdTqSNBNHmXMDfKuD/JIbqgj1LWtlFnZgM3kaYPtzjYR+zyzyXEAdazGI/tNnrKw0vmWnbN+j3V8xn43YuolyjBGaTty9p88ylIWVrZbzzzuqZv6lFOXbNkAzAN1zFv5xXtA54wP20noLJ3kpMS9jnhJxmDIPXnvIQeQibl1YE9Wk3kvMD4ujkvP6cjqpH0PfLSfHIF79/VSZrD2rx37zuHuDgDACYiTFIPlpx3gGYPHUxAynsrywIAOZNHH1Q0hDwC8/VDXzy2evmzXkxd4UsuNxTLb4Fk7bo223Cs5/oyXeMp23r0Xxt18rs7VSM4BbeQceJhUR+pP9DESfgFZF/36jv6Aj1iPOvpf2o0cbaaNJPSu+s915oeQNpFcD7N8deWhI/tJ+9pM+9rKlUQ/7g3sLqXsY7WOPnx1EYgITELwMriSDEwGWfL8ncigydVgxj2BETJAkrIdoJ3UkYOEHeqBsSyD7K1JW+4NNm0/5XEdxxzb3cQod4yda+YQGF+e3bDEuXazQlfOE/e2qexI+hh6HM+xLvn6B3XwP+Spx71l1LPP2KNvcPVe7L/9hS0/TJtyvLbys337yZrBZstoJ8ebg8do6z2QY1FKeR+rdfThqysDFvCMsZkMjglyq6ApqZsAyLObD2zpoB7lMpZ9ZLCc9fVeYFPCPtO4AZOXY+4Yz+YwZWWcl9QBtptpBPnZ/CGb7aXc2C73yrKJurnm7+w8j+2MbUDq4po2z+RhlZ825z1wbx/Gdma23gNpYynlfazW0YevrjFI8exbScJbDHK80dCZDIBjMJNZAMwNifKVDmQNljCWpd5bM+vrPcAcMT8J4+0YwzhvjvE4/pCyMs5L6gDq5CY8A/nZ/I3tpdzYLvcpS5scLv1KANQZ25n1KXVxzXGYycMqP23Oe8g+jO3MbL0H0sZSyvtYraMPX10EpHwr5w3Sz5YkngmufubknuC19dlUMgBSj8+cJMlybBgDosESKMMeoAw9Hkpuzb0GRQ5u43iM84vtOW8eGJgfyjz8Md/j1wOgnHzkGX/05zyxAftp3DkfoZw61EdG+7KuPw3kZp7tcO/fKGgP0B9/Dpj5SfZf0GX56IfYpH3UU/cqP3WNa4k6ylEn26FOztO9kDaWUt7Hah196OoiGGEYyUBLoCJokkdgdUOgnGfzCHQENFDe4A3IqNuEnO2AMugx4KPDtnhGhjzrg+XWuzXYcm84loyLY0LebBydN648uykhYx4b12psnW83YfUDdahrOzMd+Bh1R5mxburMfpC4Jw/UReIe/WA929DfeU7Upxz3+jLP5M90j/lpF+XjWsoN3rqjv3N/T2BTKWUfq3XU1fWANCiWZ6G+fhk8HPp1CHgev0aVY9IDwIFoUCzPQn39cvAFqAeA56QHgAPRoFiehfr65WDzzwNAeR56ADgQDYrlWaiv74O3fsaQv/Hg71s8APj3OH4ByL8pQZafDPzbEOqoBxn/4BVSv39jom50qBN49m9NyPfvTbJtrvkfAFM/CfvL+3AORrq6HpDVZJZyNOrr74eNm02TPwYl8cei+QWAsfUAQJl/jMumqxxXN2t1+Aeqo342dzd1dKPHfPNSD21bzuEA0Mkz+ZTTNvccOtRTzme1jrq6HpAGxfIs1Nffz7jhc5/PjK0HAN/WKc83/LEO9+gFrujIpL68Fw4OHBhoi00dkEE2sS4yyPMvWVb/WfByGuMYS1fXA7KazFKORn39/ZxzAAD/mxi+8cNYh/s8APjmPjLqFvI8CPiWP87xWJc2aMsvD+V8Vuuoq+sBWU1mKUejvv5+2DDZONlo/Z19dQDg8/rqP2aVn/nzUJEbOYlndYybOPfaQqIcm5Dn3oME7fqpn3b8uwK+APQngPezWkddXQ/IajJLORr19ffD5soGzRj6uz6bKBsvmzX5HAqAzZlnkhs1eACgHmV8jreMa/6HpnITT91Am9pCcmMH6iFLPjJ+fcj81F/OhzGc0dX1gKwms5SjUV//WDgA+MZfHpceAA5Eg2J5FurrHwubf397f3x6ADgQDYrlWaivfxx8ivfTv5/ly2PSA8CBaFAsz0J9vZT99ABwIBoUy7NQXy9lPz0AHIgGxfIs1NdL2U8PAAeiQbE8C/X1UvbTA8CBaFAsz0J9vZT99ABwIBoUy7NQXy9lPz0AHIgGxfIs1NdL2U8PAAeiQbE8C/X1UvbTA8CBaFAsz0J9vZT99ABwIBoUy7NQXy9lP8sDAAVNTU1NTU1Nx00zerx+QFaTWcrRqK+Xsp8eAA5Eg2J5FurrpeynB4AD0aBYnoX6ein76QHgQDQolmehvl7KfnoAOBDnBsXvv//+pc4sXQL/v+E///zza84c5bDnVE7VPfLjjz++9O+33357zfkr6DvHjregnUuN5614a4wuzS+//HJ2e/c6pvYlE+P5+fPnV4nj8J51+x6+/fbbXfN9a39+JFbj+lgRq7xw7iL54YcfXhYxuEAIVCy4LZA7ddGzoZ6ySf/6669nB5JTdY9sBYPxAHDumI7Qzl4dH8HWGF0Dxvyc9u55TOmLfkmf3nNQfRTes27PhZi0d75v7c+PwmpcHy9ilV2L5JwFcs6iP3WTpu1zA8mpukdO7eslAs+jco4/XIKjHgBgfD4S71m372HvfN/anx+F1bg+Z9R7cPYsktkC+emnn17ySX7G5IuBn+RM8OnTp3/mU0+2Nmk+l/J2RB2CSAaSbOe7777755eKRN3aiZxgK/noJ9GWIMsz8mnv+EnTchPj88cff7x8OeEZ+9Ku7I9l9kEyjyuHKfDTMf2hfe4Z88R+0oY200/lSeYnM7tgZQuQtzVGjIH2OL8z+0bSFnRgP9CHIx4A6FOOOczWylvzT/3RH5GzbDWP4mdw2lEWOeeDPOcCcp5oJ+0fy7QD0hbstR551LGudVZxI/Ugy1XS59HlWG+BLG2P/kwez/qea1uyLexBHmbjaRmgz7aon2N7T2Rfk/tdXWXJajJPgboZgFlUODCOy6aHk2dQcwEDi5iFAy4ooc5sgaKDxWuAYEGqkzYNFkB99SfkYxc6rJMLGbuAxZr2Yh/tUYe6PGsHOkfZRJupy/jYt+wPZdhFHkkds37xTD7QLintEmSdD/UgQ75js/oyY/+oRzk2qWNlC3W2xshx5940sy/JMQJscY6061RybO4N+oJ9JPrL+pGttUI9Uo65UMcDAfUYf3CsV/OYoM+NTzl9AX3qyHmijLaxayyDU9et9SjjnjqrsRj14NfjODkW6KKM6xb2Hd2OrX3Ab62vPhnbwi5RJ9AXxwG9jCdtMfen2PdRZF+TeW65a1aTeQqjk+LMLGDhXgdHzvsZaQf1Uo+kPkid3KMj06y9UTcys4U22ou+lKNMPaNdyK7I9sd6Yl/Ge0lb0g5IWcp4zkQ9gw1ByoA2QhlBjoBKUIK3bMl72BojWNmXUG+UUSf1R/ktqHuvOFaMNePuJjEj+5FjDFk2HgDciN6axyTzueYcZttcsyzbmJX5rFymsWwLy2ey+cw9MpK2r9iqw71lY9vcj0m4z3r2dST13xvZn2SeW+6a1WSeQjozjIsqF/7o7JxyCU5sROhJO6g3W5ypD1In977hbDHqpr594ErQJFBiT7Y166tvoqNd2Rcg+FJuP21/rCe0o468F561hfrZn5SlzDeiETYa7M+3uBHa8CCA/Fu25D3Q/mqMYMs+oZ6b2Aj1s723GG2/J+iL8+g4+xVga61kPcgy31pJOc9vzWOS+VxzDrPtcX6zjVmZz9yv1m3qkNVYzGTzmXtkJG1fMaujP3Nv2dg2987dSOrk6jiwvrCHtYbM2PY9kX1N5rlvYGfH5MCcCk6R9Qnib03we2FyaSPfnrinzXPtFoOx9m+9AYzY9/c4DPXeAw47tokdbhYk+uOCQY5n8ukbG62f18bPdczbrP8EMMaY8aceY+14OycZ5GY6Rt3Yax/QTX10I5dziW79CXmeXeQzWfyBvv/7v//7i16ekaff6hn7w/iB+mHsFzqpI7SrPkAWXTDOB8/oo46/+ToXCe0jYz3785YtlJ06RrCyL3GMXGu0afvZj1PAnntlnEee9YettTLWoww5oI6+nbw1jwly6qDtnMNse5wnbNavLKNdbKOeekZbaMv1qQ8lq7FQT/p11iX2OJ7YSJm2YstsnJBZ+XP2fast5HN9IWdbXPF/YA7Qibz5M5vugexrMs99AwOAAwxMjA6ygsFPx4ccXAY0ny8JurFbRxXsecvuGS5AbeWaTnMK73WY1WS+BfZRF2cX5tF8+pPjQxk2ks9iJ1nfBcmi4R4Znl2gifoZZwOAwYMr+iynzWTUnTYA7a90I+NCtw+QOs1TD/L222d8BHn7NtNpHwwi5JuHLuuSb13ybFffGedD/bSpzehVn/CszSTkZWULrMYIbC/zVvaNpL3agqz1TgX5eyT74niylsljTi13rsZ8643z71yYcq6pu5pHMYYiB8pTd2ZzzhM25Ppzns9Zt9ZxHYDt2pcsT3vHMp71acptG5QfIX/lz1t2jG2p2/khD7jyjN3I0IbtMA7K3RvYPGPX6tLhT4WJ2ToAwPh8KXBMnJhJTt57ABid6z3Q7i0PAKU8Gs/m68Sn3IRnMfPZIWbujb3PxmodXfwAgPOysZHPJqnzMmE8k09y0+XeTdC3dBeApy/qevJiE1cXecpmuyQWjnBS85kyPwmBB4DxJJpt8Oxpz+dRT0JdytXNPX1MG9FD6gGglDXP5uv0l/gCxAteXIhNpexhtY4ufgBgg/OziuVucmyI42mWchN13dCFfDdv6rIJu5mygbLZWsZiAQ4J6BLqu6iQsQ5QLzdiytXDwvMePJzM+j1C+/aHK3W4OjYcHuzLubzVdilH4dl83XhEv4kP+SJTyntZraNdq2u2EfKcmxqbnps+V+9Fed+w2byT1McVfZK6qc/CYYN1sxcXlCk3deqnzuwTmzT3bOLcjwebPKxgO3me1tM2ody+ADL5fCraV8rRqa+Xsp/VOtq1unKzlNkm50bIdWtTpIzNOslyrrlZj5ssGzIbMDp8y+dAMf4ckDZTP3XSBpu5+MWAzT8/+aMjDyvcp+2jbTAbm3w+lbS/lCNTXy9lP6t1tGt1semNin0LBzdb38jZENlQ2ajdHCl3EySfzTc/0Wc57a0OANy7IbPh+5aPLeMmi05lqY/NbO60Tz3tB2xBd+YBz/wk4KEAPSvbhHY8jKCXvvYAUMqa+nop+1mto12ry8/euTmy2bMxkp9v4kAZdcjnnnrKCZsmedTLP8wDrpaRuEcfuthYtWdLP3JZj/bIUzcbd37aB2UTZNRPOfY4DshmG8JmT57ytJW2nQq6S3kG6uul7Ge1jrq6HpAGxfvBg+h7vuSUt6mvn46+mF8eL+mbftXkpYaXmPzieQlmtvpVePyaWs5jtY66uh6QBsX7gkDYA8B1qK+fB18zzz0AnOq/HgCA6y0OAPZn/CpbzqMHgAPRoHhf9ABwPerr58FmmQeAU+An23P99xoHgHI9egA4EA2K++BtguDFOJJ4ywD+HsOg5t9xZDDlEyufI8n3j1lhPACkHGXj34+U02EMyzb5d01s5vqsf6Okb6Zf+ndS1jVRlzLklMeHx58XPADk32np57Yr6hDkkEfGdkZbIW2j3PU22kfqGtsm5yPp6npAVpNZToPg5b8SyX9ZsvWvTAhMGWgMft4buFKOgEU7qbOcR319G/zT/0CZB1t9Fhg/fZN7/TJ9Nu9BH2aD5V7/Td1c2Yith5+7ptCf84asOihTN1BHnWkrefaLf2lFW8qlfZA6ypzVOurqekBWk1lOwzcQ3iryzSGDHYwBj3HPZBlyGbhSB/mdr/fTsdsmfRS4z2fGT9/E39lU2TjZWCX9F1Y+O66HLT/P+5TdWg9p66xfKx2UpWz5V5Zj/notD8RqMsvpEADH/2gUgSWDWgYhrgTQGcgZuDJQwVbAK2/TsdsmfRS4z2fGT98E7j0IeAhI/4WVz47rYfRz3sol66fsSjekrbN+rXRQlrLlX1mO+eu1PBCrySynQSCZ/UejDGIERr8SGFg4JFDmFwMODx4cUt8ol59Gy/nU17dhM8f/Zj4Lbqok5Ujk66Pk488847/jBivIqZsrba3+A2q2Sxn1SIA8Za4X2kUOrAN5SCHRlj+5jfZhi3/HU+bM5hO6uh6Q1WSW0yBYsEkzjgQWAyGBhqBDPjIEltzMs54Bh4DJM/mScgRG9Jb3wRiWNWyoK59lEyVfH1dOWdGHPSDgszznhp5+ji43XXRnXbFt8tnsuUcHcB3XUdoKaQeyaa9tUgdb1OU6Lf8K4zOjq+sBWU1mKUejvl7KfnoAOBANiuVZqK+Xsp8eAA5Eg2J5FurrpeynB4AD0aBYnoX6ein76QHgQDQolmehvl7KfnoAOBANiuVZqK+Xsp8eAA5Eg2J5FurrpeynB4AD0aBYnoX6ein76QHgQDQolmehvl7KfnoAOBANiuVZqK+Xsp8eAA5Eg2J5FurrpeynB4AD0aBYnoX6ein76QHgQDQolmehvl7KfpYHAAqampqampqajptm9Hj9gKwms5SjUV8vZT89AByIBsXyLNTXS9lPDwAHokGxPAv19VL20wPAgWhQLM9Cfb2U/fQAcCAaFMuz8Ai+/uOPP77YOabffvvtVWI/v/zyy8V1fiTff//9l59//vn16U9+//33L998881L+SX49ttvX8bt2VmNQUfmAalDl2fhUXx93Jx/+OGHi2/WbIoffQC4lA2rAwD8+uuvFzsAfP78+WQfOnJcXfWtO8kDcmRHLSV5FF/HzmtvzvdwAPjuu++ubgP6L3UAgFN86JyDwiOy6lt3kgfkyI5aSvIovo6dbozj2/9PP/30Uk5iAxU+6/O5m3w+VfP5m40IefJJyEgeALbkklkbkDbxEwb6ABn1qXtWh8QbPPWwi2fqaoc/i/DsZ3jLuFpfbI989OUBgD4zbpZp6wrstU1tkz/++ONlfsjL8VC/iTZTD1e+TMhqTu8V7JzRneQBWU1mKUfjUXzdzcDkRs2VzYNNi82HTc58N1fKkCGPzenTp08vMmyiuRFyr94tOVm1wcbLpqVN5LsZW8fNmnZyo04bgGfaB+sK48BGCdg69mVs082YOsq6CWtrju0M5NJ+Nm3qSI4HY5B9S7lRD3I8k0/7szm9Z7JvSXeSB2Q1maUcjUfxdex0Y8ovAG405OUbJBtKbogz0DFumrPNb5STVRvk5caXcujKMacsZUcbkB2TcK/saGPakO3Dqj8wtj9CWdoA47OMfUu5lR7yV3N6z6zGYJ5b7prVZJZyNB7F190cVvAmyebl2/K46Qk62Fh4q0RnyuTmtyUnqzbIy40v5dCbY05ZyqYNgCxvwTNyTLimLWlDtg8py2ZLORsu+lLnDMrSfshn50Fd2beUW+nJtsc5vWfGvsg89yt8JtG5THz28JPIqSBP3Rzoj0A70tHoo/26JDgEerccdQ/ovjX2KeeRz3rkjQuARYvvfPScb8Gc7xlH10f60zVhLC/d1jV99FJ8hK+/h3EsWRM8M29+BudtEZ8B4hH3bJ6sF9cQeZS58eWcc+8b55acrNrg6k8AJNaCPydgc4552g+0gyz+j37qqpd2OJRIjglX2hT0oBtGOymzP/50QJk61Em+94Ic7TpO/lYPrlmu2qoNgBxltPn3v//95RnbgDzqQo5Jzuk94xiMbK6u0bF4XinagsHKgf4o6Mt4iJk50SVgnK6hF94zB5fATZPFIzNbnG8W872CbXvHkcWf6+OajGvxEn57TR+9FB/l6+fABoidY2Js3SR5ZqPI2OPmlPnqYn7xL+4pIym7JTcyawPfZ/Mz380MtBX9bpg8cw/aQbvoId+3c+oqp33kgXrZSLMvymvP2B9t0H7KU6f1E9qwbcq5xx7s1VZjVNqgzY4H7Wk39ZTLfO26d7B1xubqGoMODr1StAV6SB8NfXHy3JzIu0YQZJyuFVzfMweXgLFikYyn/Edlr+3Mb66PW5JvQkfmkf2rXA98/xE23nthtY42V1ceANgwCf55WuRENDshQZ48KfMA4CkrT1GQurhyCpRVGTrI007uaVd52s4gaV+4ag/yymibUN8657ZFOXXyxCmMpTqoqyOrh+dse4R6HwH2YHv2lf4B40C+4+opXLmxbyS+JOgneagA85Fz7GZzgP4cz7RhJP1IeVnNyYj2q4Mk5/jp3/72txc99Nu+MpZpB2MIjq1tKW9C72oMrJvtUKavOz9bY5h9pl/ovBW0WUrZx2odba4uggAVTQYo4EpQMFAiaxDnXlkDSwYUdBGM1DHTZf5WGaCbxDPBDN0GTuwh0AlyQABDjg0IfRkEyRfKrAPntJV9tD0DJzqURQ/9yXv6yn22naSNt0R76DMbAaSN9HecZ8c2+wbUw0eYg5wPQEf6D/Vy7Ejkc3WccjyzXVGP7fuZUUYdzklivrbQX+rBqH/LT7miCxk3VOtjA/c5xjDzxewjz6sxyHa4J0HKbNXnXhvHdq9NzlEp5X2s1tHm6sqgw+In4BGYwSCRSVmuBhnIoAPIZhBRV6LMVhmMbaVs2g95T7Bj00YmbXmr/qltpY2QdSkbE8z6OuMUmWuQ/WNDYZPKPPo3jo9jMPZtSxadPGfKsqwHWQ4zmbF9yGfbyTSCzuwvOn1e6d+ye9THvfKjvi1ZyLYg2xvrStbZqs9aYd1zuCEO3JIcg1LK+1ito83VNQYOgxJvA9znG0qSwQO4z+cx2Kg3UWarDMa2Una0P+994yIvbXmr/qltpY1AmV8LKMs/pJNZX2ecInMNsn/Yyvh5IATGYBwfx2Ds25Ys7fgmPTLOAWRdmMmM7UM+cz+bkwSd4xj4vNKffRptGvVxr/yob0sWsi3I9sa6knW26gNlHgRueQjIMSilvI/VOtpcXRk4WPQ8E/SBYIlSAzUBgi8EQKCgHnU4LHBQyGAyBptRFxvlqp0sgwxUtJcdTftBm4Ty0RafkUN+rH9qW5Qpiz6e3WAYDz+3kudPJ8q9xSky1yA3e6C/qzFgvpgnx3bs29bPBbnRkHh27HIOJMcTf0MX10Q/8nd52k97VnOS2CfKR/9Q/yl+KjleQJ9X4zXKck8b9JM2t8ZgrCvI2N6qPuXUdS5S7y3IMSilvI/VOlquLhY5AYyKJgJU/nGegYcygwQQDJEl30CPLnQStMinXpK6qJtBZlXGlTx1E8B45sqz9lOfxP0Y2NFrEAR10B9/J6buOW0Bet1kKDMfkHd8kOMZsE2dWyBza+wv8ydueuI42F/GkP5B9i3luFe3sviR8jl2yJrnmAH3OZ451kn6nroc61FH6k+0a/QP4Epd8rb8VHi2Pol7x0A9OV7KgvKuO2RWYzDWhXHMV/Uzn+Qh/1bQZillH6t11NX1gDQolmehvj7HA2C+vNwbHEw5fI5fvsrt6QHgQDQolmehvr6Grz/3fADw669fhsvH0QPAgWhQLM9CfX3NvR8Ayv3QA8CBaFAsz0J9fY1/h8KVccq/z+Ct2/z8DO9PB/5hqPX4Ww/+9gPZPFSYjxzX/Bsw6vn3JSbrUsYz5do1a9u/wYG0Of8OBbi3LWSwC9I+yrNO+RPGZ0ZX1wOymsxSjkZ9fQ0bIYmNk403x4p8N1fL3Jxn9fzjXv7I1XqU56bKxs0z+Wy81PNfxPCHoinHM/nqcMPOttUho83Uy3vkqYeNyAJXbeeg4UGn/JUc56Sr6wFZTWYpR6O+vobNz00dcqy4zzJk3RzzHrIe+W6uHg4S9c4OAG7E1Kcsk7ZstT3WsSxtgrSLQwdfAJDBljLH8RqZ55a7ZjWZpRyN+voaNsXc5HOsuM+y3Hi3NuHcbHOjldTrP4klcc9BAKi/+hS/1Tb3s008bYLRLurw9s9BwC8N5a/keCXz3HLXrCazlKNRX1/Dpuhv8my+OVZshn5O923dzTE34bFebrZsrJS5mfOG72d5ytj0Z9Bu/gTAsxv77ADgwSFtTv20nz8jkG8Z+erOrxDlr+QcJ11dD8hqMks5GvX1OWyKjI0bMhsnz7npsyGSx8bqJu5hwA016/FMPs/Kc6U+eehzE2bTVdbkH/uxobNBk4dM6jIv23YzJy9tti1At+0h76GBAwV5JO7NL3+F8ZnR1fWArCazlKNRX79P+PLghg9svJ2r+6UHgAPRhVaehfr6fcJnfN/cgd/leUMv90kPAAeiQbE8C/X1+4TP837mJ+XPA+X+6AHgQDQolmehvl7KfnoAOBANiuVZqK+Xsp8eAA5Eg2J5FurrpeynB4AD0aBYnoX6ein76QHgQDQolmehvl7KfnoAOBANiuVZqK+Xsp8eAA5Eg2J5FurrpeynB4AD0aBYnoX6ein76QHgQDQolmehvl7KfnoAOBANiuVZqK+Xsp8eAA5Eg2J5FurrpexneQCgoKmpqampqem4aUaP1w/IajJLORr19VL20wPAgWhQLM9Cfb2U/fQAcCAaFMuzUF8vZT89AByIBsXyLNTXS9lPDwAHokGxPAu38vXff//9yzfffPPSnun7779/yf9ItOvnn39+zfnHmPz222+vT6dDnUuM57fffnsRPWD/GGvhPvu7B/So+5J2y8pW8rNPH82q37dZXeWiXNqJS7lXbunruVn88ccfX7777ru7COLYlZsMY3KJAwB9e4+ez58/X3Refv3117+MM/ezTTUZx2QFMuq+1AEomdn6yy+/fPnxxx9ffOheWPX7dqurXIxLO3Ep98otfT03CxifPwrsGDeZS8AB5z0HALjkvGDDueP8008/nT0m1zgAPAo9AByIHgDKs/BRBwC/APA2J+T98MMPLzbxOdmfB7jnMzayXEn50wGbFXnUM7nxUmYeb428XY/kAQCZrD9rGzvVi72Sn8CzXRL6aVtb1Sn0x/qMkXqAeuZR75SNWXvV57iTrz2QuknYl3Wt77hQpp3jzwseALiST7KPtuu4Os+ysoP77G/ahrx+MLPPtm8B7c243eoqF2M1maUcjVv6OoGc9kx8mk4I7AR0NgMOBwZ+NxQDOpuHZciji03ZesohwzP5lLMx5GYi5GU++tyoxrbZdNCJvmwbkOVZkFUPYPenT59e7tmw3DixL9tgXEY9yINtpN4RbXZzZDO1LeDe/nL1EJM/FYxjArSLLu0FZKyjbfaDvioHjJt2KyvZR+qpM23NfmEDdisH2gep4xZkX5Lbra5yMVaTWcrRuKWv52ZBsGdDWJEb0LhZZNnsAOAmm5sHcD/bFFIfoG+1UZ0jS1uWjZCvLWM9yOdsA8Z+jVCW/cy2IOszfhyMmA8PDDD2E0Y7INta9cM6yHk/ys50Q9qabcGWDq4pe23SjmSeW+6a1WSWcjRu6esZwMe3XuCecmwiGfjHQE++ZeDnZBL36IbcPCDbT0Z96MmNZKvtLVnasgy4xz76jZy2jPUgn7MNGPs1Qln2k7r5PNZnvDg0cRBwPsZ+wmgHZFurfniwQM76o+xMN6St2RZs6eCastcm7UjmuReEwdWhTDmR50CdHMRnZTWZlwLHzPnKdAn0iXEBjyh3zkLRR97SvYI3NNrjje29Ou4J3pwuNW8fwS1tHwM4z8Qq0Be54htslPrHGOjJ91OvsjP8ysAGR6Itvw4kqQ9oKzeSbBs57YItWfpKe/SJdUP/uGILOhwL+kA9fxKhjdTjGzqgizKugA7bF9vyqwgyOe7c2wfus13HknIPU8pmXyX7Yf+Vocz5hWx31kfngPqzrzj2y75jX859ts116wvTpcm+JPPcC5OTADyvDEoYpKwHPDuIz8opY7cHnFYn1mkNUFvM5msFPuDC2SJ/9zsV5E/RPUJb9GFcyI/Oqf5ybb96D7eyiblmzmmP+Qd8njz8nnsCNuVusvoI5eT7mVo93LPJ+WxyI0Ena408ZMxPRn0e6FyL1s+2STPZtBPoJ8+sF2xRnmfWAveOBRueutCdenh2bCi3Dig/ot1jW9pkHxgT+5+6uJJvXtonyqibtU27tDnqA9s2n/vsI/nkOV6jrZD20hZysJqL2YHvGtDWjJusLhYLgyZMxMqgZBb8eab+M3PK2F0K2jp1vM/ZrE89AND2qToF+fccAI7KKf5CoLqlX53KPdp0DqyJ3NjvdZyvAWuXTbJ8PCufu4kn5gHAk2YuChzFEyRyyOSJywSUu9GQpx7kOXlx6iKPMjcBn0m07akMVmW0jT4cmCuJ07zytCPKkE89T4PXgnZuBW2NB4DZmK3mixOu+dSTrQNAjifzrO9AtoPPzMYaeXTnW4bzyhU7nFMDFFdk9VXu6ZtQz3zqpe2nzP9K5hL+hyy2pSxrRJCX7Af1qAOuPxNznmPNNXWm3dS9Fuh/ZPRDYVyZn1JuyWod3WR1sQgMFgYMA51Bhmd/a3LD4UqwSngmIU95dox20IVO7k22h37KyVN+VeZCNUDSJrLIoZ92uQfuyUMPctp/LbLP1ybnA94as5wvNn+DH+M4zpX1Esed8QQ2GnXSZs4J9TO4CvIk7KMONvqpDXnv2XDTXutRxzkW8j0QYGOOC/db85990h7y3hrLU/1vlGXM0CVb/aCepBw2jWPNM/nUQ792p45LkzY9IswVPkc/SMwheaXcktU6usnqIngQeICgQYBiIczIAMrVepLlkB3LdoRngyqkzFYZbYy6U5Yy7SCg0h+CJf27NqvJvAbZT3hrzLyfsTWekvogdTonmWbtkbeyMRntHeulvdyvxuGt+V+1P7aXcvZVKEvZtGfsx1h3vB+T5P2oA3gmnz7SXza2/CpwDUYbSinns1pHN1ldYwA0uPhGRDkBhTyDjHJj4OTZcsiOje0Azxk4U2arTBuFspRNO4F7N4JrHwLSrmsz9vOtMfMeeDtkTHhbRM/WeErqg9TJfb7ZrpjZ6JcCdHDPWyv2ZFtjvbT3rXGgbDX/Y59kZqdy6Nsar7SHa+of6473fjkYSblRB/Bsm8CBh3bp97UYbSilnM9qHd1kdWVgc8P3syGfYykjKBFcCKAGGa5+auSrASDrWwf52bFsRzIok9CXn4BXZWMApP1ZACbRpjrIv/YnvtVkXhr743zAW2OW88VGy5Vn5iztZiyd04RNBd/AH6jH2Dqn5KHDz9K0N9OBPG1TnzrYZB10+6Y++gv34xwjB+hwo/MTPNdT5n/sk3ou4X+gLPoB2ewXZeiH7AfyHoxA27Hh73//+8uz40aeazbnjnk1/xpgQyllH6t1dPXVRUAhQGCAiaDnJm45iWBD4CJIAUELWctI1DfgEMh4NqDZjkEL0EGQs15uGFtl5qM7beTedrGTZ2zkmZQ6rgXt3ALHwPmAt8ZzNl+OE/c5njxzP6J+fMGDg3PKFX2W0+YI+WxStpE2Onejbm0d5xhbIOeZ9rUn80mr+Sdf/da9hP8BBwDuHRfsQQ7e6odyoKx25FinzszP/lwD2iil7GO1jrq6HpAGxZL4FeKI1NcfCw6JHApX/ughs9yWHgAORBdQSfwCcETq6/fBOYfM8ae1kc7p7ekB4EB0AZXEz/H+/cCRqK/fB/xc1gPA49IDwIHoAirPQn39euTfpeTfn5hP8m8/PGSagK8C/j0JG75/j+MBgAMpZdTNvzWxPlAHWeWu+fckz0yOedLV9YCsJrOUo1Ffvw5s0mzebMAk/8DUn5PI41+JkA/jTwAeCpRjnpABdFPmM3+A6h+hQs4pOvm7AEDe9spl6QHgQDQolmehvn4dfOvOxAbMhs7BgA3bf6kF4wFghLI8AKQs+TmP4/2YyuVZjWtH+wHpIinPQn39OrBBb31upwyZfDvPTZ2Dgl8R3Li3DgD5Zp9zyr3//YpyPVbrqKvrAVlNZilHo75+HdjY8ycAntmI2bz9ewC+AORPAH7yp5zf99nkqUMZuvIAgCxlyPM1wYMEMKfkA3KWIZ8/FZTL0QPAgWhQLM9Cff06uDEzvmzyfg3gyqY85iPPJm+e/97fZw4D1AMPEeqhzA2fzZ48N3r0+BUB+fxjwXI5GN8ZXV0PyGoySzka9fVS9tMDwIFoUCzPQn29lP30AHAgGhTLs1BfL2U/PQAciAbF8izU10vZTw8AB6JBsTwL9fVS9tMDwIFoUCzPQn29lP30AHAgGhTLs1BfL2U/PQAciAbF8izU10vZTw8AB6JBsTwL9fVS9tMDwIFoUCzPQn29lP30AHAgGhTLs1BfL2U/PQAciAbF8izU10vZTw8AB6JBsTwL9fVS9rM8AFDQ1NTU1NTUdNw0o8frB2Q1maUcjfp6KfvpAeBANCiWZ6G+Xsp+egA4EA2K5Vmor5eynx4ADkSDYnkW6uul7KcHgAPRoFiehWv6+nffffein6v8+OOPL3nffvvta86/Qtn333//+vRxaOtvv/32mnManz9/frHffv7++++vJe8Hneg615ZngTH+5ptvvvz888+vObdltY66kzwgq8ks5Whc29cJyr/++uvr058b2RZscvdwAAAOL+duuhwcfvjhh5f7n3766c3+ngI6ewDYhs2/B4Cymx4AyrNwbV9n42ITlF9++eUvzzPu6QCAHeduuhx6rMOBhzHe8xWAAxQb23tseSZ6ACgXoQeA8ixc29fZ8PMNmDfjP/744+WeK8/YgIyb5HgAyE/q+ZkX3eS5OXJP3fETPHKQ+aTZQWSsO751U4cy7JjVpw+UJzzPNm7y/JmENml7RHuA60wPIIc92EWyz44Rhwj7pT4/mzMH9sux9ZnEIQ79nz59enl2Pp0723oL2qMudei380197FC3+SmffcIO83MOxgPASu4a0MaM7iQPyGoySzka1/Z1Ng7aYLPnPv8egKBOkDff4M0m5yYF3LMJAWXocyOkjIQOrtZNedoB9Ptp3g1xJOtiM3Vti/rYSVsk7U+0L0l7xc0NPbQzk4E8MNk/+5CQx4YH2J99455kW7mZ0ic3Xe5N9hN5yskD2lA3m2r+vLOF45Xt2g/6rh/Yx1EeWerQvvUoy7HWdtiSuwYr/ddttVyFaztLKffCLXydoE5AJhC7SY1k8GYDcJMBbMzNkTJl816QHxO46bJBjhu3IDu25TP3o96UBfSSzwYmM7mRbEd4zrYybUE99Mmom2fHjGvKQpbDKMP4eWg4lVlf1Ik+Dhz4h+Om/FukDHam3ckpuvaw0n/dVstVuLazlHIv3MLXfRsj5cZIwGcTwAaSwXvcwChbbWB5L8j71jxC+9jDBkb7I7O2fOZ+VmckddDezB7ysZuNj/Kx3Rlpywj5jC9vzehCVsZ6PDtmXFMWshxGGQ8A53xWp33qrKDcgwBjwzP9GGEcbd9xE+zU7i25a7DSf/3V9RUd2o5e+/eOc2BC7tW2FavJfAscjrq5eJgb8ihLcHIWa8reG85b+RPeej5y3sZgvpdbzC/BmDHzkyw4jlwpp8wxpX9sBIIfun58w/btc9ysIOXVDcj6yZo4lPYIdY1RbPbY6Hij0w2KxDP6R9CrbtZ/bp5iPvXt71vzivzqAIKdlHmwyDa5z/HIPo2yMPaTMcFey2wHGe1JPVzHvtAu86Y85YwzV+Rty7lV3vmifWQZV+ohS1n6LzY4d1ty12Cl/+qri4HJCXWQ7gEmxEUOTP7obPfIHmdx08zAMNOHczI+OOi94oK8BYwF6RH4SFtnwXUPt5pf1kX+XoxvsYHQvmvBWOEactMhT1nK3ETIJy9jDIzyltEOsmN+wtgiQzJeIQvYTGy1Te0YYe1TDznsmLVD3qqdGcjY7gw2ZsrR44anfeRpD/XdJIHnlIWxn8rbBrLazzPzxPzRBqzGlnqUUQdZ2kHOuSKlbcjbhvnk8Wwb3GNX2sP9Su5aoH/G1VcXnaaz98g927bFajJPAcfG0fIQtkffR3Mr21ngPQDcnkf2zXIaxKRLHhq3oJ1HjPl7+ZADgCebfNscoczTXJ7MuHeD5urpjdOcp7TxNGa+ySCoDvJoy5MdzyvbkEE/9fKgwFXd2MS9TmUb2Y9rQBvvxZMttrroOOECNpPvuDHW9g/GOSExfowTcnmoAPORc65W44dNPqcNI9joPCsvqQMZ52xk5kPaZV/1Sci5JdHGmE+ec542Uj6zY2Ur99bhSlr5UravXwNjNxs/yu1XJqDfvulgl7pGe+z7KWMIMx84B+0rxwWf0v/LdVito6uuLgLBWwvYAEfAIQAZuKhr4OEeJyHouMkYbERZ4A3XzynqMYiq5y3baAc5QJeBD7gnGcTVZT/MuxZvjekW9sMADuYBQTo3D9qyL46l40w95oxDAH1H1gMVOihjPEjjHJByrLjmnGW7oh7bH387G3UgO7LlQ9hrm9og46aqfuccnbQPXPWdcTxlZav39hG9s/rZPmSbo61CuXPCPDlf6MAXMh/9kPZwbzurMaTcutiw8oFTSd3leOg/+n+5Dqt1dNXVRSCgYRa/MNHkGaySDFzW3SLLDVJAYDVAoQ+5TOTNbFth4BPutVNok2CHDafo3AN2v5fsB0Gfeci8nAOgLQP6OCdbsujkOVOWjeOX5TCTGduHfLadTG+RMrSpDWNbY1+5z3FLeXyAsUXGA9GI9mWCt9oV8sb6yq3qzA4Asw15axxmZHnW5V7bTJadSuoupbyP1Tq6+uqi4fzjGu598wSCZQYKA9cs8BC02Gipr7wQ3MwjyBnY0OebVkIQRDZtS2ifQ4QHlgz23M8CLHU8CFzzEJD9PpfsB/bSP+yVcfOgLYP2OCdbsrTjgWxkNn5ZF2YyY/uQz9yvNlzZ8iHaPLWv3I9jmfK0w9s/7cw22ZWtb7Ur5M38GlZ18En7zbz7SZ585PEDykircYBTx5D7lQ+cyth2KeV8Vuvo6qvLDdFgR6AxcBIYCURcKc/PnbPAQzlBi4A1fv7NTSwhANkGcFAwKI225dswdZAzOGaw5z4DLLaShywJu2ZB/1LsCYrjOGF36su+OnarzWDr5wLH1jHh2XEexw/YTJABxm42htQn30Mb7ac9qUN/GtnyobRr1E0+danH/ehXlNke+faVMcCvRla2jmNMW9gysuXXqzr01/4l+j120D42r+Yc3hrDU3zgVMa2Synns1pHV19dLnwMcFM18FFGgKCMgEJwMqgRZMhXFqhLHsHTTcJy9ZgIROgHdKOX/AyMaRsJGcvNR49BjvZtN4Mv12w/27gGtPEe7FNuSATk1Edf6BuJ/tJ/xhtyTlKOe3Ury9gqry5A1jzuhXvHEB3Kj2C7MuqibRh1pH7Z8qGtMp6xOfWmX9FX/Y0xI4+UfpigY2Yr97Zrmzxbnsz8equOfmxCjj5bx+fVnMvWOFHXA8DKB86BuqWUfazW0SFWF5sYgSchuBqIjkaDYnkPHBI4BAj347rZSx4ALkF9/ZgQn/EVYvfsq1S5LIc+ABBweBvxTQunyreqo9GgWN4DATe//hB4eUO/JKy7cz/zb1FfPx4cPInZfBHiy9BR4/Q9cegDABs/nyBxJjpKEHrP58ZHoUGxvAcCrz87kPJni0vAAePS666+Xsp+Vuuoq+sBaVAsz0J9/TLwUuQBzb/3yJ+DzB8Phvl3HOjgZyTe3v27ET/f+7c5+fMPsuQh59+o0A551MMe7vPvS/h6lO3168BlYDxndHU9IKvJLOVo1NcvAxszG7FfaNiQ2WDBMjfb/KmIezdoNmfk3OTRkb/fM1eWkc/XJg4QpFE/iXzyco6Vo4z6qb+8nx4ADkSDYnkW6uuXgY2ZTVd4dmzZZLnP5MbLvZs6oCM3+dygUxa51DeWjfVmjPrL+1mNcVfXA7KazFKORn39MrD5bh0A8jN8gowbN5xzAFj9PcjWAYA6lJNH6gHgMuQYJ11dD8hqMks5GvX1y+CG77/Q4PO9BwJ///cTPZ//3bz93R+UywPAqMMyDhT5EwDPtj07APhzgHb4twA9AFyGHgAORINieRbq65eBjZnNnMSYsjm74QObPJsvZW74wB8Kkk/y7dxN3g07y/y7AjZ0/5jPcuBqHvU5GPDsHx76r1T8+wLlyj4Y0xldXQ/IajJLORr19cvApu3b+h7yAFAehx4ADkSDYnkW6uuXwS8Ae+ENPf/5YHkMegA4EA2K5Vmor18GP/3nfwnyXPy3/nyWL49FDwAHokGxPAv19VL20wPAgWhQLM9Cfb2U/fQAcCAaFMuzUF8vZT89AByIBsXyLNTXS9lPDwAHokGxPAv19VL20wPAgWhQLM9Cfb2U/fQAcCAaFMuzUF8vZT89AByIBsXyLNTXS9lPDwAHokGxPAv19VL20wPAgWhQLM9Cfb2U/SwPABQ0NTU1NTU1HTfN6PG6lFJKeUJ6ACillFKeji9f/j/QiDWqIWtvHgAAAABJRU5ErkJggg==)"
      ],
      "metadata": {
        "id": "651_n2NOm3um"
      }
    },
    {
      "cell_type": "code",
      "source": [
        "ordinal_map = {\n",
        "    'Ex': 5, 'Gd': 4, 'TA': 3, 'Fa': 2, 'Po': 1\n",
        "}\n",
        "df['ExterQual_encoded'] = df['ExterQual'].map(ordinal_map)"
      ],
      "metadata": {
        "id": "Gxsm9DyDn3iN"
      },
      "execution_count": 54,
      "outputs": []
    },
    {
      "cell_type": "markdown",
      "source": [
        "Definir columnas ordinales para Label Encoding (mapa de calidad)"
      ],
      "metadata": {
        "id": "QNzR7h2gqhc-"
      }
    },
    {
      "cell_type": "code",
      "source": [
        "ordinal_cols = ['ExterQual', 'ExterCond', 'BsmtQual', 'HeatingQC', 'KitchenQual', 'FireplaceQu', 'PoolQC']\n",
        "ordinal_map = ['Po', 'Fa', 'TA', 'Gd', 'Ex']  # Orden de peor a mejor"
      ],
      "metadata": {
        "id": "QJQjJT6topS1"
      },
      "execution_count": 59,
      "outputs": []
    },
    {
      "cell_type": "markdown",
      "source": [
        "Aplicar codificación ordinal"
      ],
      "metadata": {
        "id": "cfQi3XH2qlbb"
      }
    },
    {
      "cell_type": "code",
      "source": [
        "encoder = OrdinalEncoder(categories=[ordinal_map]*len(ordinal_cols), handle_unknown='use_encoded_value', unknown_value=-1)\n",
        "df_encoded[ordinal_cols] = encoder.fit_transform(df_encoded[ordinal_cols])"
      ],
      "metadata": {
        "id": "F2lQrZusor3l"
      },
      "execution_count": 60,
      "outputs": []
    },
    {
      "cell_type": "markdown",
      "source": [
        "Definir columnas nominales para One-Hot Encoding"
      ],
      "metadata": {
        "id": "rgniSxAwqoq0"
      }
    },
    {
      "cell_type": "code",
      "source": [
        "nominal_cols = [\n",
        "    'Street', 'Alley', 'LotShape', 'LotConfig', 'LandSlope', 'BldgType',\n",
        "    'HouseStyle', 'Foundation', 'Heating', 'CentralAir', 'GarageType', 'Fence'\n",
        "]"
      ],
      "metadata": {
        "id": "Qm9CXcggoug-"
      },
      "execution_count": 62,
      "outputs": []
    },
    {
      "cell_type": "markdown",
      "source": [
        " Aplicar One-Hot Encoding solo a las que aún existen"
      ],
      "metadata": {
        "id": "fc4eRuEtq39t"
      }
    },
    {
      "cell_type": "code",
      "source": [
        "# Verificar columnas que aún existen en df_encoded\n",
        "nominal_cols_existentes = [col for col in nominal_cols if col in df_encoded.columns]\n",
        "\n",
        "if nominal_cols_existentes:\n",
        "    df_encoded = pd.get_dummies(df_encoded, columns=nominal_cols_existentes, drop_first=True)\n",
        "else:\n",
        "    print(\"No quedan columnas nominales disponibles para codificar.\")"
      ],
      "metadata": {
        "id": "8wzExM6YpERO"
      },
      "execution_count": 66,
      "outputs": []
    },
    {
      "cell_type": "markdown",
      "source": [
        "La opción drop_first=True se usó para evitar la multicolinealidad al eliminar la primera categoría como referencia."
      ],
      "metadata": {
        "id": "xVbtV5zFrKeU"
      }
    },
    {
      "cell_type": "markdown",
      "source": [
        "Mostrar las primeras columnas resultantes"
      ],
      "metadata": {
        "id": "pS-ntJOWq_Ts"
      }
    },
    {
      "cell_type": "code",
      "source": [
        "df_encoded.head(3)"
      ],
      "metadata": {
        "colab": {
          "base_uri": "https://localhost:8080/",
          "height": 210
        },
        "id": "BOB7ZkYapoR8",
        "outputId": "4a43b790-2685-4c92-8550-38bdd1fc7110"
      },
      "execution_count": 68,
      "outputs": [
        {
          "output_type": "execute_result",
          "data": {
            "text/plain": [
              "   LotArea  OverallQual  OverallCond  YearBuilt  ExterQual  ExterCond  \\\n",
              "0   8450.0            7            5       2003        3.0        2.0   \n",
              "1   9453.0            6            8       1976        2.0        2.0   \n",
              "2  11250.0            7            5       2001        3.0        2.0   \n",
              "\n",
              "   BsmtQual  TotalBsmtSF  HeatingQC  1stFlrSF  ...  Heating_GasA  \\\n",
              "0       3.0        856.0        4.0     856.0  ...          True   \n",
              "1      -1.0       1262.0        4.0    1262.0  ...          True   \n",
              "2       3.0        920.0        4.0     920.0  ...          True   \n",
              "\n",
              "   Heating_GasW  Heating_Grav  Heating_OthW  Heating_Wall  CentralAir_Y  \\\n",
              "0         False         False         False         False          True   \n",
              "1         False         False         False         False          True   \n",
              "2         False         False         False         False          True   \n",
              "\n",
              "   Fence_GdWo  Fence_MnPrv  Fence_MnWw  Fence_Sin cerca  \n",
              "0       False        False       False             True  \n",
              "1       False        False       False             True  \n",
              "2       False        False       False             True  \n",
              "\n",
              "[3 rows x 84 columns]"
            ],
            "text/html": [
              "\n",
              "  <div id=\"df-dbc935e2-1e87-48c2-b070-ab3ef33a483b\" class=\"colab-df-container\">\n",
              "    <div>\n",
              "<style scoped>\n",
              "    .dataframe tbody tr th:only-of-type {\n",
              "        vertical-align: middle;\n",
              "    }\n",
              "\n",
              "    .dataframe tbody tr th {\n",
              "        vertical-align: top;\n",
              "    }\n",
              "\n",
              "    .dataframe thead th {\n",
              "        text-align: right;\n",
              "    }\n",
              "</style>\n",
              "<table border=\"1\" class=\"dataframe\">\n",
              "  <thead>\n",
              "    <tr style=\"text-align: right;\">\n",
              "      <th></th>\n",
              "      <th>LotArea</th>\n",
              "      <th>OverallQual</th>\n",
              "      <th>OverallCond</th>\n",
              "      <th>YearBuilt</th>\n",
              "      <th>ExterQual</th>\n",
              "      <th>ExterCond</th>\n",
              "      <th>BsmtQual</th>\n",
              "      <th>TotalBsmtSF</th>\n",
              "      <th>HeatingQC</th>\n",
              "      <th>1stFlrSF</th>\n",
              "      <th>...</th>\n",
              "      <th>Heating_GasA</th>\n",
              "      <th>Heating_GasW</th>\n",
              "      <th>Heating_Grav</th>\n",
              "      <th>Heating_OthW</th>\n",
              "      <th>Heating_Wall</th>\n",
              "      <th>CentralAir_Y</th>\n",
              "      <th>Fence_GdWo</th>\n",
              "      <th>Fence_MnPrv</th>\n",
              "      <th>Fence_MnWw</th>\n",
              "      <th>Fence_Sin cerca</th>\n",
              "    </tr>\n",
              "  </thead>\n",
              "  <tbody>\n",
              "    <tr>\n",
              "      <th>0</th>\n",
              "      <td>8450.0</td>\n",
              "      <td>7</td>\n",
              "      <td>5</td>\n",
              "      <td>2003</td>\n",
              "      <td>3.0</td>\n",
              "      <td>2.0</td>\n",
              "      <td>3.0</td>\n",
              "      <td>856.0</td>\n",
              "      <td>4.0</td>\n",
              "      <td>856.0</td>\n",
              "      <td>...</td>\n",
              "      <td>True</td>\n",
              "      <td>False</td>\n",
              "      <td>False</td>\n",
              "      <td>False</td>\n",
              "      <td>False</td>\n",
              "      <td>True</td>\n",
              "      <td>False</td>\n",
              "      <td>False</td>\n",
              "      <td>False</td>\n",
              "      <td>True</td>\n",
              "    </tr>\n",
              "    <tr>\n",
              "      <th>1</th>\n",
              "      <td>9453.0</td>\n",
              "      <td>6</td>\n",
              "      <td>8</td>\n",
              "      <td>1976</td>\n",
              "      <td>2.0</td>\n",
              "      <td>2.0</td>\n",
              "      <td>-1.0</td>\n",
              "      <td>1262.0</td>\n",
              "      <td>4.0</td>\n",
              "      <td>1262.0</td>\n",
              "      <td>...</td>\n",
              "      <td>True</td>\n",
              "      <td>False</td>\n",
              "      <td>False</td>\n",
              "      <td>False</td>\n",
              "      <td>False</td>\n",
              "      <td>True</td>\n",
              "      <td>False</td>\n",
              "      <td>False</td>\n",
              "      <td>False</td>\n",
              "      <td>True</td>\n",
              "    </tr>\n",
              "    <tr>\n",
              "      <th>2</th>\n",
              "      <td>11250.0</td>\n",
              "      <td>7</td>\n",
              "      <td>5</td>\n",
              "      <td>2001</td>\n",
              "      <td>3.0</td>\n",
              "      <td>2.0</td>\n",
              "      <td>3.0</td>\n",
              "      <td>920.0</td>\n",
              "      <td>4.0</td>\n",
              "      <td>920.0</td>\n",
              "      <td>...</td>\n",
              "      <td>True</td>\n",
              "      <td>False</td>\n",
              "      <td>False</td>\n",
              "      <td>False</td>\n",
              "      <td>False</td>\n",
              "      <td>True</td>\n",
              "      <td>False</td>\n",
              "      <td>False</td>\n",
              "      <td>False</td>\n",
              "      <td>True</td>\n",
              "    </tr>\n",
              "  </tbody>\n",
              "</table>\n",
              "<p>3 rows × 84 columns</p>\n",
              "</div>\n",
              "    <div class=\"colab-df-buttons\">\n",
              "\n",
              "  <div class=\"colab-df-container\">\n",
              "    <button class=\"colab-df-convert\" onclick=\"convertToInteractive('df-dbc935e2-1e87-48c2-b070-ab3ef33a483b')\"\n",
              "            title=\"Convert this dataframe to an interactive table.\"\n",
              "            style=\"display:none;\">\n",
              "\n",
              "  <svg xmlns=\"http://www.w3.org/2000/svg\" height=\"24px\" viewBox=\"0 -960 960 960\">\n",
              "    <path d=\"M120-120v-720h720v720H120Zm60-500h600v-160H180v160Zm220 220h160v-160H400v160Zm0 220h160v-160H400v160ZM180-400h160v-160H180v160Zm440 0h160v-160H620v160ZM180-180h160v-160H180v160Zm440 0h160v-160H620v160Z\"/>\n",
              "  </svg>\n",
              "    </button>\n",
              "\n",
              "  <style>\n",
              "    .colab-df-container {\n",
              "      display:flex;\n",
              "      gap: 12px;\n",
              "    }\n",
              "\n",
              "    .colab-df-convert {\n",
              "      background-color: #E8F0FE;\n",
              "      border: none;\n",
              "      border-radius: 50%;\n",
              "      cursor: pointer;\n",
              "      display: none;\n",
              "      fill: #1967D2;\n",
              "      height: 32px;\n",
              "      padding: 0 0 0 0;\n",
              "      width: 32px;\n",
              "    }\n",
              "\n",
              "    .colab-df-convert:hover {\n",
              "      background-color: #E2EBFA;\n",
              "      box-shadow: 0px 1px 2px rgba(60, 64, 67, 0.3), 0px 1px 3px 1px rgba(60, 64, 67, 0.15);\n",
              "      fill: #174EA6;\n",
              "    }\n",
              "\n",
              "    .colab-df-buttons div {\n",
              "      margin-bottom: 4px;\n",
              "    }\n",
              "\n",
              "    [theme=dark] .colab-df-convert {\n",
              "      background-color: #3B4455;\n",
              "      fill: #D2E3FC;\n",
              "    }\n",
              "\n",
              "    [theme=dark] .colab-df-convert:hover {\n",
              "      background-color: #434B5C;\n",
              "      box-shadow: 0px 1px 3px 1px rgba(0, 0, 0, 0.15);\n",
              "      filter: drop-shadow(0px 1px 2px rgba(0, 0, 0, 0.3));\n",
              "      fill: #FFFFFF;\n",
              "    }\n",
              "  </style>\n",
              "\n",
              "    <script>\n",
              "      const buttonEl =\n",
              "        document.querySelector('#df-dbc935e2-1e87-48c2-b070-ab3ef33a483b button.colab-df-convert');\n",
              "      buttonEl.style.display =\n",
              "        google.colab.kernel.accessAllowed ? 'block' : 'none';\n",
              "\n",
              "      async function convertToInteractive(key) {\n",
              "        const element = document.querySelector('#df-dbc935e2-1e87-48c2-b070-ab3ef33a483b');\n",
              "        const dataTable =\n",
              "          await google.colab.kernel.invokeFunction('convertToInteractive',\n",
              "                                                    [key], {});\n",
              "        if (!dataTable) return;\n",
              "\n",
              "        const docLinkHtml = 'Like what you see? Visit the ' +\n",
              "          '<a target=\"_blank\" href=https://colab.research.google.com/notebooks/data_table.ipynb>data table notebook</a>'\n",
              "          + ' to learn more about interactive tables.';\n",
              "        element.innerHTML = '';\n",
              "        dataTable['output_type'] = 'display_data';\n",
              "        await google.colab.output.renderOutput(dataTable, element);\n",
              "        const docLink = document.createElement('div');\n",
              "        docLink.innerHTML = docLinkHtml;\n",
              "        element.appendChild(docLink);\n",
              "      }\n",
              "    </script>\n",
              "  </div>\n",
              "\n",
              "\n",
              "    <div id=\"df-5cfc526e-3ce1-4b2a-b111-0a355811e2c3\">\n",
              "      <button class=\"colab-df-quickchart\" onclick=\"quickchart('df-5cfc526e-3ce1-4b2a-b111-0a355811e2c3')\"\n",
              "                title=\"Suggest charts\"\n",
              "                style=\"display:none;\">\n",
              "\n",
              "<svg xmlns=\"http://www.w3.org/2000/svg\" height=\"24px\"viewBox=\"0 0 24 24\"\n",
              "     width=\"24px\">\n",
              "    <g>\n",
              "        <path d=\"M19 3H5c-1.1 0-2 .9-2 2v14c0 1.1.9 2 2 2h14c1.1 0 2-.9 2-2V5c0-1.1-.9-2-2-2zM9 17H7v-7h2v7zm4 0h-2V7h2v10zm4 0h-2v-4h2v4z\"/>\n",
              "    </g>\n",
              "</svg>\n",
              "      </button>\n",
              "\n",
              "<style>\n",
              "  .colab-df-quickchart {\n",
              "      --bg-color: #E8F0FE;\n",
              "      --fill-color: #1967D2;\n",
              "      --hover-bg-color: #E2EBFA;\n",
              "      --hover-fill-color: #174EA6;\n",
              "      --disabled-fill-color: #AAA;\n",
              "      --disabled-bg-color: #DDD;\n",
              "  }\n",
              "\n",
              "  [theme=dark] .colab-df-quickchart {\n",
              "      --bg-color: #3B4455;\n",
              "      --fill-color: #D2E3FC;\n",
              "      --hover-bg-color: #434B5C;\n",
              "      --hover-fill-color: #FFFFFF;\n",
              "      --disabled-bg-color: #3B4455;\n",
              "      --disabled-fill-color: #666;\n",
              "  }\n",
              "\n",
              "  .colab-df-quickchart {\n",
              "    background-color: var(--bg-color);\n",
              "    border: none;\n",
              "    border-radius: 50%;\n",
              "    cursor: pointer;\n",
              "    display: none;\n",
              "    fill: var(--fill-color);\n",
              "    height: 32px;\n",
              "    padding: 0;\n",
              "    width: 32px;\n",
              "  }\n",
              "\n",
              "  .colab-df-quickchart:hover {\n",
              "    background-color: var(--hover-bg-color);\n",
              "    box-shadow: 0 1px 2px rgba(60, 64, 67, 0.3), 0 1px 3px 1px rgba(60, 64, 67, 0.15);\n",
              "    fill: var(--button-hover-fill-color);\n",
              "  }\n",
              "\n",
              "  .colab-df-quickchart-complete:disabled,\n",
              "  .colab-df-quickchart-complete:disabled:hover {\n",
              "    background-color: var(--disabled-bg-color);\n",
              "    fill: var(--disabled-fill-color);\n",
              "    box-shadow: none;\n",
              "  }\n",
              "\n",
              "  .colab-df-spinner {\n",
              "    border: 2px solid var(--fill-color);\n",
              "    border-color: transparent;\n",
              "    border-bottom-color: var(--fill-color);\n",
              "    animation:\n",
              "      spin 1s steps(1) infinite;\n",
              "  }\n",
              "\n",
              "  @keyframes spin {\n",
              "    0% {\n",
              "      border-color: transparent;\n",
              "      border-bottom-color: var(--fill-color);\n",
              "      border-left-color: var(--fill-color);\n",
              "    }\n",
              "    20% {\n",
              "      border-color: transparent;\n",
              "      border-left-color: var(--fill-color);\n",
              "      border-top-color: var(--fill-color);\n",
              "    }\n",
              "    30% {\n",
              "      border-color: transparent;\n",
              "      border-left-color: var(--fill-color);\n",
              "      border-top-color: var(--fill-color);\n",
              "      border-right-color: var(--fill-color);\n",
              "    }\n",
              "    40% {\n",
              "      border-color: transparent;\n",
              "      border-right-color: var(--fill-color);\n",
              "      border-top-color: var(--fill-color);\n",
              "    }\n",
              "    60% {\n",
              "      border-color: transparent;\n",
              "      border-right-color: var(--fill-color);\n",
              "    }\n",
              "    80% {\n",
              "      border-color: transparent;\n",
              "      border-right-color: var(--fill-color);\n",
              "      border-bottom-color: var(--fill-color);\n",
              "    }\n",
              "    90% {\n",
              "      border-color: transparent;\n",
              "      border-bottom-color: var(--fill-color);\n",
              "    }\n",
              "  }\n",
              "</style>\n",
              "\n",
              "      <script>\n",
              "        async function quickchart(key) {\n",
              "          const quickchartButtonEl =\n",
              "            document.querySelector('#' + key + ' button');\n",
              "          quickchartButtonEl.disabled = true;  // To prevent multiple clicks.\n",
              "          quickchartButtonEl.classList.add('colab-df-spinner');\n",
              "          try {\n",
              "            const charts = await google.colab.kernel.invokeFunction(\n",
              "                'suggestCharts', [key], {});\n",
              "          } catch (error) {\n",
              "            console.error('Error during call to suggestCharts:', error);\n",
              "          }\n",
              "          quickchartButtonEl.classList.remove('colab-df-spinner');\n",
              "          quickchartButtonEl.classList.add('colab-df-quickchart-complete');\n",
              "        }\n",
              "        (() => {\n",
              "          let quickchartButtonEl =\n",
              "            document.querySelector('#df-5cfc526e-3ce1-4b2a-b111-0a355811e2c3 button');\n",
              "          quickchartButtonEl.style.display =\n",
              "            google.colab.kernel.accessAllowed ? 'block' : 'none';\n",
              "        })();\n",
              "      </script>\n",
              "    </div>\n",
              "\n",
              "    </div>\n",
              "  </div>\n"
            ],
            "application/vnd.google.colaboratory.intrinsic+json": {
              "type": "dataframe",
              "variable_name": "df_encoded"
            }
          },
          "metadata": {},
          "execution_count": 68
        }
      ]
    }
  ]
}